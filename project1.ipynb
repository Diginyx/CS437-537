{
 "cells": [
  {
   "cell_type": "code",
   "execution_count": 2,
   "metadata": {
    "pycharm": {
     "name": "#%%\n"
    }
   },
   "outputs": [
    {
     "name": "stderr",
     "output_type": "stream",
     "text": [
      "[nltk_data] Downloading collection 'all'\n",
      "[nltk_data]    | \n",
      "[nltk_data]    | Downloading package abc to\n",
      "[nltk_data]    |     C:\\Users\\jared\\AppData\\Roaming\\nltk_data...\n",
      "[nltk_data]    |   Package abc is already up-to-date!\n",
      "[nltk_data]    | Downloading package alpino to\n",
      "[nltk_data]    |     C:\\Users\\jared\\AppData\\Roaming\\nltk_data...\n",
      "[nltk_data]    |   Package alpino is already up-to-date!\n",
      "[nltk_data]    | Downloading package biocreative_ppi to\n",
      "[nltk_data]    |     C:\\Users\\jared\\AppData\\Roaming\\nltk_data...\n",
      "[nltk_data]    |   Package biocreative_ppi is already up-to-date!\n",
      "[nltk_data]    | Downloading package brown to\n",
      "[nltk_data]    |     C:\\Users\\jared\\AppData\\Roaming\\nltk_data...\n",
      "[nltk_data]    |   Package brown is already up-to-date!\n",
      "[nltk_data]    | Downloading package brown_tei to\n",
      "[nltk_data]    |     C:\\Users\\jared\\AppData\\Roaming\\nltk_data...\n",
      "[nltk_data]    |   Package brown_tei is already up-to-date!\n",
      "[nltk_data]    | Downloading package cess_cat to\n",
      "[nltk_data]    |     C:\\Users\\jared\\AppData\\Roaming\\nltk_data...\n",
      "[nltk_data]    |   Package cess_cat is already up-to-date!\n",
      "[nltk_data]    | Downloading package cess_esp to\n",
      "[nltk_data]    |     C:\\Users\\jared\\AppData\\Roaming\\nltk_data...\n",
      "[nltk_data]    |   Package cess_esp is already up-to-date!\n",
      "[nltk_data]    | Downloading package chat80 to\n",
      "[nltk_data]    |     C:\\Users\\jared\\AppData\\Roaming\\nltk_data...\n",
      "[nltk_data]    |   Package chat80 is already up-to-date!\n",
      "[nltk_data]    | Downloading package city_database to\n",
      "[nltk_data]    |     C:\\Users\\jared\\AppData\\Roaming\\nltk_data...\n",
      "[nltk_data]    |   Package city_database is already up-to-date!\n",
      "[nltk_data]    | Downloading package cmudict to\n",
      "[nltk_data]    |     C:\\Users\\jared\\AppData\\Roaming\\nltk_data...\n",
      "[nltk_data]    |   Package cmudict is already up-to-date!\n",
      "[nltk_data]    | Downloading package comparative_sentences to\n",
      "[nltk_data]    |     C:\\Users\\jared\\AppData\\Roaming\\nltk_data...\n",
      "[nltk_data]    |   Package comparative_sentences is already up-to-\n",
      "[nltk_data]    |       date!\n",
      "[nltk_data]    | Downloading package comtrans to\n",
      "[nltk_data]    |     C:\\Users\\jared\\AppData\\Roaming\\nltk_data...\n",
      "[nltk_data]    |   Package comtrans is already up-to-date!\n",
      "[nltk_data]    | Downloading package conll2000 to\n",
      "[nltk_data]    |     C:\\Users\\jared\\AppData\\Roaming\\nltk_data...\n",
      "[nltk_data]    |   Package conll2000 is already up-to-date!\n",
      "[nltk_data]    | Downloading package conll2002 to\n",
      "[nltk_data]    |     C:\\Users\\jared\\AppData\\Roaming\\nltk_data...\n",
      "[nltk_data]    |   Package conll2002 is already up-to-date!\n",
      "[nltk_data]    | Downloading package conll2007 to\n",
      "[nltk_data]    |     C:\\Users\\jared\\AppData\\Roaming\\nltk_data...\n",
      "[nltk_data]    |   Package conll2007 is already up-to-date!\n",
      "[nltk_data]    | Downloading package crubadan to\n",
      "[nltk_data]    |     C:\\Users\\jared\\AppData\\Roaming\\nltk_data...\n",
      "[nltk_data]    |   Package crubadan is already up-to-date!\n",
      "[nltk_data]    | Downloading package dependency_treebank to\n",
      "[nltk_data]    |     C:\\Users\\jared\\AppData\\Roaming\\nltk_data...\n",
      "[nltk_data]    |   Package dependency_treebank is already up-to-date!\n",
      "[nltk_data]    | Downloading package dolch to\n",
      "[nltk_data]    |     C:\\Users\\jared\\AppData\\Roaming\\nltk_data...\n",
      "[nltk_data]    |   Package dolch is already up-to-date!\n",
      "[nltk_data]    | Downloading package europarl_raw to\n",
      "[nltk_data]    |     C:\\Users\\jared\\AppData\\Roaming\\nltk_data...\n",
      "[nltk_data]    |   Package europarl_raw is already up-to-date!\n",
      "[nltk_data]    | Downloading package floresta to\n",
      "[nltk_data]    |     C:\\Users\\jared\\AppData\\Roaming\\nltk_data...\n",
      "[nltk_data]    |   Package floresta is already up-to-date!\n",
      "[nltk_data]    | Downloading package framenet_v15 to\n",
      "[nltk_data]    |     C:\\Users\\jared\\AppData\\Roaming\\nltk_data...\n",
      "[nltk_data]    |   Package framenet_v15 is already up-to-date!\n",
      "[nltk_data]    | Downloading package framenet_v17 to\n",
      "[nltk_data]    |     C:\\Users\\jared\\AppData\\Roaming\\nltk_data...\n",
      "[nltk_data]    |   Package framenet_v17 is already up-to-date!\n",
      "[nltk_data]    | Downloading package gazetteers to\n",
      "[nltk_data]    |     C:\\Users\\jared\\AppData\\Roaming\\nltk_data...\n",
      "[nltk_data]    |   Package gazetteers is already up-to-date!\n",
      "[nltk_data]    | Downloading package genesis to\n",
      "[nltk_data]    |     C:\\Users\\jared\\AppData\\Roaming\\nltk_data...\n",
      "[nltk_data]    |   Package genesis is already up-to-date!\n",
      "[nltk_data]    | Downloading package gutenberg to\n",
      "[nltk_data]    |     C:\\Users\\jared\\AppData\\Roaming\\nltk_data...\n",
      "[nltk_data]    |   Package gutenberg is already up-to-date!\n",
      "[nltk_data]    | Downloading package ieer to\n",
      "[nltk_data]    |     C:\\Users\\jared\\AppData\\Roaming\\nltk_data...\n",
      "[nltk_data]    |   Package ieer is already up-to-date!\n",
      "[nltk_data]    | Downloading package inaugural to\n",
      "[nltk_data]    |     C:\\Users\\jared\\AppData\\Roaming\\nltk_data...\n",
      "[nltk_data]    |   Package inaugural is already up-to-date!\n",
      "[nltk_data]    | Downloading package indian to\n",
      "[nltk_data]    |     C:\\Users\\jared\\AppData\\Roaming\\nltk_data...\n",
      "[nltk_data]    |   Package indian is already up-to-date!\n",
      "[nltk_data]    | Downloading package jeita to\n",
      "[nltk_data]    |     C:\\Users\\jared\\AppData\\Roaming\\nltk_data...\n",
      "[nltk_data]    |   Package jeita is already up-to-date!\n",
      "[nltk_data]    | Downloading package kimmo to\n",
      "[nltk_data]    |     C:\\Users\\jared\\AppData\\Roaming\\nltk_data...\n",
      "[nltk_data]    |   Package kimmo is already up-to-date!\n",
      "[nltk_data]    | Downloading package knbc to\n",
      "[nltk_data]    |     C:\\Users\\jared\\AppData\\Roaming\\nltk_data...\n",
      "[nltk_data]    |   Package knbc is already up-to-date!\n",
      "[nltk_data]    | Downloading package lin_thesaurus to\n",
      "[nltk_data]    |     C:\\Users\\jared\\AppData\\Roaming\\nltk_data...\n",
      "[nltk_data]    |   Package lin_thesaurus is already up-to-date!\n",
      "[nltk_data]    | Downloading package mac_morpho to\n",
      "[nltk_data]    |     C:\\Users\\jared\\AppData\\Roaming\\nltk_data...\n",
      "[nltk_data]    |   Package mac_morpho is already up-to-date!\n",
      "[nltk_data]    | Downloading package machado to\n",
      "[nltk_data]    |     C:\\Users\\jared\\AppData\\Roaming\\nltk_data...\n",
      "[nltk_data]    |   Package machado is already up-to-date!\n",
      "[nltk_data]    | Downloading package masc_tagged to\n",
      "[nltk_data]    |     C:\\Users\\jared\\AppData\\Roaming\\nltk_data...\n",
      "[nltk_data]    |   Package masc_tagged is already up-to-date!\n",
      "[nltk_data]    | Downloading package moses_sample to\n",
      "[nltk_data]    |     C:\\Users\\jared\\AppData\\Roaming\\nltk_data...\n",
      "[nltk_data]    |   Package moses_sample is already up-to-date!\n",
      "[nltk_data]    | Downloading package movie_reviews to\n",
      "[nltk_data]    |     C:\\Users\\jared\\AppData\\Roaming\\nltk_data...\n",
      "[nltk_data]    |   Package movie_reviews is already up-to-date!\n",
      "[nltk_data]    | Downloading package names to\n",
      "[nltk_data]    |     C:\\Users\\jared\\AppData\\Roaming\\nltk_data...\n",
      "[nltk_data]    |   Package names is already up-to-date!\n",
      "[nltk_data]    | Downloading package nombank.1.0 to\n",
      "[nltk_data]    |     C:\\Users\\jared\\AppData\\Roaming\\nltk_data...\n",
      "[nltk_data]    |   Package nombank.1.0 is already up-to-date!\n",
      "[nltk_data]    | Downloading package nps_chat to\n",
      "[nltk_data]    |     C:\\Users\\jared\\AppData\\Roaming\\nltk_data...\n",
      "[nltk_data]    |   Package nps_chat is already up-to-date!\n",
      "[nltk_data]    | Downloading package omw to\n",
      "[nltk_data]    |     C:\\Users\\jared\\AppData\\Roaming\\nltk_data...\n",
      "[nltk_data]    |   Package omw is already up-to-date!\n",
      "[nltk_data]    | Downloading package opinion_lexicon to\n",
      "[nltk_data]    |     C:\\Users\\jared\\AppData\\Roaming\\nltk_data...\n",
      "[nltk_data]    |   Package opinion_lexicon is already up-to-date!\n",
      "[nltk_data]    | Downloading package paradigms to\n",
      "[nltk_data]    |     C:\\Users\\jared\\AppData\\Roaming\\nltk_data...\n",
      "[nltk_data]    |   Package paradigms is already up-to-date!\n",
      "[nltk_data]    | Downloading package pil to\n",
      "[nltk_data]    |     C:\\Users\\jared\\AppData\\Roaming\\nltk_data...\n",
      "[nltk_data]    |   Package pil is already up-to-date!\n",
      "[nltk_data]    | Downloading package pl196x to\n",
      "[nltk_data]    |     C:\\Users\\jared\\AppData\\Roaming\\nltk_data...\n",
      "[nltk_data]    |   Package pl196x is already up-to-date!\n",
      "[nltk_data]    | Downloading package ppattach to\n",
      "[nltk_data]    |     C:\\Users\\jared\\AppData\\Roaming\\nltk_data...\n",
      "[nltk_data]    |   Package ppattach is already up-to-date!\n",
      "[nltk_data]    | Downloading package problem_reports to\n",
      "[nltk_data]    |     C:\\Users\\jared\\AppData\\Roaming\\nltk_data...\n",
      "[nltk_data]    |   Package problem_reports is already up-to-date!\n",
      "[nltk_data]    | Downloading package propbank to\n",
      "[nltk_data]    |     C:\\Users\\jared\\AppData\\Roaming\\nltk_data...\n",
      "[nltk_data]    |   Package propbank is already up-to-date!\n",
      "[nltk_data]    | Downloading package ptb to\n",
      "[nltk_data]    |     C:\\Users\\jared\\AppData\\Roaming\\nltk_data...\n",
      "[nltk_data]    |   Package ptb is already up-to-date!\n",
      "[nltk_data]    | Downloading package product_reviews_1 to\n",
      "[nltk_data]    |     C:\\Users\\jared\\AppData\\Roaming\\nltk_data...\n",
      "[nltk_data]    |   Package product_reviews_1 is already up-to-date!\n",
      "[nltk_data]    | Downloading package product_reviews_2 to\n",
      "[nltk_data]    |     C:\\Users\\jared\\AppData\\Roaming\\nltk_data...\n",
      "[nltk_data]    |   Package product_reviews_2 is already up-to-date!\n",
      "[nltk_data]    | Downloading package pros_cons to\n",
      "[nltk_data]    |     C:\\Users\\jared\\AppData\\Roaming\\nltk_data...\n",
      "[nltk_data]    |   Package pros_cons is already up-to-date!\n",
      "[nltk_data]    | Downloading package qc to\n",
      "[nltk_data]    |     C:\\Users\\jared\\AppData\\Roaming\\nltk_data...\n",
      "[nltk_data]    |   Package qc is already up-to-date!\n",
      "[nltk_data]    | Downloading package reuters to\n",
      "[nltk_data]    |     C:\\Users\\jared\\AppData\\Roaming\\nltk_data...\n",
      "[nltk_data]    |   Package reuters is already up-to-date!\n",
      "[nltk_data]    | Downloading package rte to\n",
      "[nltk_data]    |     C:\\Users\\jared\\AppData\\Roaming\\nltk_data...\n",
      "[nltk_data]    |   Package rte is already up-to-date!\n",
      "[nltk_data]    | Downloading package semcor to\n",
      "[nltk_data]    |     C:\\Users\\jared\\AppData\\Roaming\\nltk_data...\n",
      "[nltk_data]    |   Package semcor is already up-to-date!\n",
      "[nltk_data]    | Downloading package senseval to\n",
      "[nltk_data]    |     C:\\Users\\jared\\AppData\\Roaming\\nltk_data...\n",
      "[nltk_data]    |   Package senseval is already up-to-date!\n",
      "[nltk_data]    | Downloading package sentiwordnet to\n",
      "[nltk_data]    |     C:\\Users\\jared\\AppData\\Roaming\\nltk_data...\n",
      "[nltk_data]    |   Package sentiwordnet is already up-to-date!\n",
      "[nltk_data]    | Downloading package sentence_polarity to\n",
      "[nltk_data]    |     C:\\Users\\jared\\AppData\\Roaming\\nltk_data...\n",
      "[nltk_data]    |   Package sentence_polarity is already up-to-date!\n",
      "[nltk_data]    | Downloading package shakespeare to\n",
      "[nltk_data]    |     C:\\Users\\jared\\AppData\\Roaming\\nltk_data...\n",
      "[nltk_data]    |   Package shakespeare is already up-to-date!\n",
      "[nltk_data]    | Downloading package sinica_treebank to\n",
      "[nltk_data]    |     C:\\Users\\jared\\AppData\\Roaming\\nltk_data...\n",
      "[nltk_data]    |   Package sinica_treebank is already up-to-date!\n",
      "[nltk_data]    | Downloading package smultron to\n",
      "[nltk_data]    |     C:\\Users\\jared\\AppData\\Roaming\\nltk_data...\n",
      "[nltk_data]    |   Package smultron is already up-to-date!\n",
      "[nltk_data]    | Downloading package state_union to\n",
      "[nltk_data]    |     C:\\Users\\jared\\AppData\\Roaming\\nltk_data...\n",
      "[nltk_data]    |   Package state_union is already up-to-date!\n",
      "[nltk_data]    | Downloading package stopwords to\n",
      "[nltk_data]    |     C:\\Users\\jared\\AppData\\Roaming\\nltk_data...\n",
      "[nltk_data]    |   Package stopwords is already up-to-date!\n",
      "[nltk_data]    | Downloading package subjectivity to\n",
      "[nltk_data]    |     C:\\Users\\jared\\AppData\\Roaming\\nltk_data...\n",
      "[nltk_data]    |   Package subjectivity is already up-to-date!\n",
      "[nltk_data]    | Downloading package swadesh to\n",
      "[nltk_data]    |     C:\\Users\\jared\\AppData\\Roaming\\nltk_data...\n",
      "[nltk_data]    |   Package swadesh is already up-to-date!\n",
      "[nltk_data]    | Downloading package switchboard to\n",
      "[nltk_data]    |     C:\\Users\\jared\\AppData\\Roaming\\nltk_data...\n",
      "[nltk_data]    |   Package switchboard is already up-to-date!\n",
      "[nltk_data]    | Downloading package timit to\n",
      "[nltk_data]    |     C:\\Users\\jared\\AppData\\Roaming\\nltk_data...\n",
      "[nltk_data]    |   Package timit is already up-to-date!\n",
      "[nltk_data]    | Downloading package toolbox to\n",
      "[nltk_data]    |     C:\\Users\\jared\\AppData\\Roaming\\nltk_data...\n",
      "[nltk_data]    |   Package toolbox is already up-to-date!\n",
      "[nltk_data]    | Downloading package treebank to\n",
      "[nltk_data]    |     C:\\Users\\jared\\AppData\\Roaming\\nltk_data...\n",
      "[nltk_data]    |   Package treebank is already up-to-date!\n",
      "[nltk_data]    | Downloading package twitter_samples to\n",
      "[nltk_data]    |     C:\\Users\\jared\\AppData\\Roaming\\nltk_data...\n",
      "[nltk_data]    |   Package twitter_samples is already up-to-date!\n",
      "[nltk_data]    | Downloading package udhr to\n",
      "[nltk_data]    |     C:\\Users\\jared\\AppData\\Roaming\\nltk_data...\n",
      "[nltk_data]    |   Package udhr is already up-to-date!\n",
      "[nltk_data]    | Downloading package udhr2 to\n",
      "[nltk_data]    |     C:\\Users\\jared\\AppData\\Roaming\\nltk_data...\n",
      "[nltk_data]    |   Package udhr2 is already up-to-date!\n",
      "[nltk_data]    | Downloading package unicode_samples to\n",
      "[nltk_data]    |     C:\\Users\\jared\\AppData\\Roaming\\nltk_data...\n",
      "[nltk_data]    |   Package unicode_samples is already up-to-date!\n",
      "[nltk_data]    | Downloading package universal_treebanks_v20 to\n",
      "[nltk_data]    |     C:\\Users\\jared\\AppData\\Roaming\\nltk_data...\n",
      "[nltk_data]    |   Package universal_treebanks_v20 is already up-to-\n",
      "[nltk_data]    |       date!\n",
      "[nltk_data]    | Downloading package verbnet to\n",
      "[nltk_data]    |     C:\\Users\\jared\\AppData\\Roaming\\nltk_data...\n",
      "[nltk_data]    |   Package verbnet is already up-to-date!\n",
      "[nltk_data]    | Downloading package verbnet3 to\n",
      "[nltk_data]    |     C:\\Users\\jared\\AppData\\Roaming\\nltk_data...\n",
      "[nltk_data]    |   Package verbnet3 is already up-to-date!\n",
      "[nltk_data]    | Downloading package webtext to\n",
      "[nltk_data]    |     C:\\Users\\jared\\AppData\\Roaming\\nltk_data...\n",
      "[nltk_data]    |   Package webtext is already up-to-date!\n",
      "[nltk_data]    | Downloading package wordnet to\n",
      "[nltk_data]    |     C:\\Users\\jared\\AppData\\Roaming\\nltk_data...\n",
      "[nltk_data]    |   Package wordnet is already up-to-date!\n",
      "[nltk_data]    | Downloading package wordnet_ic to\n",
      "[nltk_data]    |     C:\\Users\\jared\\AppData\\Roaming\\nltk_data...\n",
      "[nltk_data]    |   Package wordnet_ic is already up-to-date!\n",
      "[nltk_data]    | Downloading package words to\n",
      "[nltk_data]    |     C:\\Users\\jared\\AppData\\Roaming\\nltk_data...\n",
      "[nltk_data]    |   Package words is already up-to-date!\n",
      "[nltk_data]    | Downloading package ycoe to\n",
      "[nltk_data]    |     C:\\Users\\jared\\AppData\\Roaming\\nltk_data...\n",
      "[nltk_data]    |   Package ycoe is already up-to-date!\n",
      "[nltk_data]    | Downloading package rslp to\n",
      "[nltk_data]    |     C:\\Users\\jared\\AppData\\Roaming\\nltk_data...\n",
      "[nltk_data]    |   Package rslp is already up-to-date!\n",
      "[nltk_data]    | Downloading package maxent_treebank_pos_tagger to\n",
      "[nltk_data]    |     C:\\Users\\jared\\AppData\\Roaming\\nltk_data...\n",
      "[nltk_data]    |   Package maxent_treebank_pos_tagger is already up-\n",
      "[nltk_data]    |       to-date!\n",
      "[nltk_data]    | Downloading package universal_tagset to\n",
      "[nltk_data]    |     C:\\Users\\jared\\AppData\\Roaming\\nltk_data...\n",
      "[nltk_data]    |   Package universal_tagset is already up-to-date!\n",
      "[nltk_data]    | Downloading package maxent_ne_chunker to\n",
      "[nltk_data]    |     C:\\Users\\jared\\AppData\\Roaming\\nltk_data...\n",
      "[nltk_data]    |   Package maxent_ne_chunker is already up-to-date!\n",
      "[nltk_data]    | Downloading package punkt to\n",
      "[nltk_data]    |     C:\\Users\\jared\\AppData\\Roaming\\nltk_data...\n",
      "[nltk_data]    |   Package punkt is already up-to-date!\n",
      "[nltk_data]    | Downloading package book_grammars to\n",
      "[nltk_data]    |     C:\\Users\\jared\\AppData\\Roaming\\nltk_data...\n",
      "[nltk_data]    |   Package book_grammars is already up-to-date!\n",
      "[nltk_data]    | Downloading package sample_grammars to\n",
      "[nltk_data]    |     C:\\Users\\jared\\AppData\\Roaming\\nltk_data...\n",
      "[nltk_data]    |   Package sample_grammars is already up-to-date!\n",
      "[nltk_data]    | Downloading package spanish_grammars to\n",
      "[nltk_data]    |     C:\\Users\\jared\\AppData\\Roaming\\nltk_data...\n",
      "[nltk_data]    |   Package spanish_grammars is already up-to-date!\n",
      "[nltk_data]    | Downloading package basque_grammars to\n",
      "[nltk_data]    |     C:\\Users\\jared\\AppData\\Roaming\\nltk_data...\n",
      "[nltk_data]    |   Package basque_grammars is already up-to-date!\n",
      "[nltk_data]    | Downloading package large_grammars to\n",
      "[nltk_data]    |     C:\\Users\\jared\\AppData\\Roaming\\nltk_data...\n",
      "[nltk_data]    |   Package large_grammars is already up-to-date!\n",
      "[nltk_data]    | Downloading package tagsets to\n",
      "[nltk_data]    |     C:\\Users\\jared\\AppData\\Roaming\\nltk_data...\n",
      "[nltk_data]    |   Package tagsets is already up-to-date!\n",
      "[nltk_data]    | Downloading package snowball_data to\n",
      "[nltk_data]    |     C:\\Users\\jared\\AppData\\Roaming\\nltk_data...\n",
      "[nltk_data]    |   Package snowball_data is already up-to-date!\n",
      "[nltk_data]    | Downloading package bllip_wsj_no_aux to\n",
      "[nltk_data]    |     C:\\Users\\jared\\AppData\\Roaming\\nltk_data...\n",
      "[nltk_data]    |   Package bllip_wsj_no_aux is already up-to-date!\n",
      "[nltk_data]    | Downloading package word2vec_sample to\n",
      "[nltk_data]    |     C:\\Users\\jared\\AppData\\Roaming\\nltk_data...\n",
      "[nltk_data]    |   Package word2vec_sample is already up-to-date!\n",
      "[nltk_data]    | Downloading package panlex_swadesh to\n",
      "[nltk_data]    |     C:\\Users\\jared\\AppData\\Roaming\\nltk_data...\n",
      "[nltk_data]    |   Package panlex_swadesh is already up-to-date!\n",
      "[nltk_data]    | Downloading package mte_teip5 to\n",
      "[nltk_data]    |     C:\\Users\\jared\\AppData\\Roaming\\nltk_data...\n",
      "[nltk_data]    |   Package mte_teip5 is already up-to-date!\n",
      "[nltk_data]    | Downloading package averaged_perceptron_tagger to\n",
      "[nltk_data]    |     C:\\Users\\jared\\AppData\\Roaming\\nltk_data...\n",
      "[nltk_data]    |   Package averaged_perceptron_tagger is already up-\n",
      "[nltk_data]    |       to-date!\n",
      "[nltk_data]    | Downloading package averaged_perceptron_tagger_ru to\n",
      "[nltk_data]    |     C:\\Users\\jared\\AppData\\Roaming\\nltk_data...\n",
      "[nltk_data]    |   Package averaged_perceptron_tagger_ru is already\n",
      "[nltk_data]    |       up-to-date!\n",
      "[nltk_data]    | Downloading package perluniprops to\n",
      "[nltk_data]    |     C:\\Users\\jared\\AppData\\Roaming\\nltk_data...\n",
      "[nltk_data]    |   Package perluniprops is already up-to-date!\n",
      "[nltk_data]    | Downloading package nonbreaking_prefixes to\n",
      "[nltk_data]    |     C:\\Users\\jared\\AppData\\Roaming\\nltk_data...\n",
      "[nltk_data]    |   Package nonbreaking_prefixes is already up-to-date!\n",
      "[nltk_data]    | Downloading package vader_lexicon to\n",
      "[nltk_data]    |     C:\\Users\\jared\\AppData\\Roaming\\nltk_data...\n",
      "[nltk_data]    |   Package vader_lexicon is already up-to-date!\n",
      "[nltk_data]    | Downloading package porter_test to\n",
      "[nltk_data]    |     C:\\Users\\jared\\AppData\\Roaming\\nltk_data...\n",
      "[nltk_data]    |   Package porter_test is already up-to-date!\n",
      "[nltk_data]    | Downloading package wmt15_eval to\n",
      "[nltk_data]    |     C:\\Users\\jared\\AppData\\Roaming\\nltk_data...\n",
      "[nltk_data]    |   Package wmt15_eval is already up-to-date!\n",
      "[nltk_data]    | Downloading package mwa_ppdb to\n",
      "[nltk_data]    |     C:\\Users\\jared\\AppData\\Roaming\\nltk_data...\n",
      "[nltk_data]    |   Package mwa_ppdb is already up-to-date!\n",
      "[nltk_data]    | \n",
      "[nltk_data]  Done downloading collection all\n"
     ]
    },
    {
     "data": {
      "text/plain": "True"
     },
     "execution_count": 2,
     "metadata": {},
     "output_type": "execute_result"
    }
   ],
   "source": [
    "import nltk\n",
    "nltk.download('all')"
   ]
  },
  {
   "cell_type": "markdown",
   "metadata": {},
   "source": [
    "## Reading File and creating DataFrame"
   ]
  },
  {
   "cell_type": "code",
   "execution_count": 3,
   "metadata": {},
   "outputs": [],
   "source": [
    "import pandas as pd\n",
    "import numpy as np\n",
    "from tqdm import tqdm\n",
    "tqdm.pandas()\n"
   ]
  },
  {
   "cell_type": "code",
   "execution_count": 4,
   "metadata": {
    "pycharm": {
     "name": "#%%\n"
    },
    "scrolled": true
   },
   "outputs": [],
   "source": [
    "# import pandas as pd\n",
    "# wiki_files = pd.read_csv('wiki_sample.csv')\n",
    "# wiki_dataframe = pd.DataFrame(wiki_files)\n",
    "# wiki_dataframe"
   ]
  },
  {
   "cell_type": "markdown",
   "metadata": {
    "pycharm": {
     "name": "#%% md\n"
    }
   },
   "source": [
    "## Preprocessing and Creating Vocab"
   ]
  },
  {
   "cell_type": "code",
   "execution_count": 5,
   "metadata": {},
   "outputs": [],
   "source": [
    "from nltk.corpus import stopwords\n",
    "from nltk.stem import WordNetLemmatizer \n",
    "lemmatizer = WordNetLemmatizer()\n",
    "\n",
    "stop_words = set(stopwords.words('english'))"
   ]
  },
  {
   "cell_type": "code",
   "execution_count": 6,
   "metadata": {},
   "outputs": [],
   "source": [
    "def apply_function(row, lenTitle):\n",
    "    filtered_content = []\n",
    "    for token in nltk.word_tokenize(row['content'][lenTitle:]):\n",
    "        token = lemmatizer.lemmatize(token).lower()\n",
    "        if token not in stop_words and token.isalnum():\n",
    "           filtered_content.append(token) \n",
    "        \n",
    "    return filtered_content"
   ]
  },
  {
   "cell_type": "code",
   "execution_count": 7,
   "metadata": {
    "collapsed": true
   },
   "outputs": [],
   "source": [
    "# wiki_dataframe['tokenized_content'] = wiki_dataframe.progress_apply(lambda row: apply_function(row, len(row['title']), row['id']), axis=1)"
   ]
  },
  {
   "cell_type": "code",
   "execution_count": 8,
   "metadata": {},
   "outputs": [],
   "source": [
    "# wiki_dataframe.to_pickle('./wiki_dataframe')\n"
   ]
  },
  {
   "cell_type": "code",
   "execution_count": 9,
   "metadata": {},
   "outputs": [],
   "source": [
    "import pickle5 as pickle\n",
    "with open(\"./wiki_dataframe\", \"rb\") as pickle_file:\n",
    "  wiki_dataframe_pickle = pickle.load(pickle_file)\n",
    "# wiki_dataframe_pickle = pd.read_pickle('./wiki_dataframe')"
   ]
  },
  {
   "cell_type": "code",
   "execution_count": 10,
   "metadata": {
    "pycharm": {
     "name": "#%%\n"
    }
   },
   "outputs": [
    {
     "data": {
      "text/plain": "                                                   content  \\\n0        Morocco–Saudi Arabia relations\\r\\n\\r\\nMoroccan...   \n1        Anthony United States Post Office\\r\\n\\r\\nThe A...   \n2        Dumraon (Vidhan Sabha constituency)\\r\\n\\r\\nDum...   \n3        Chaker Khazaal\\r\\n\\r\\nChaker Khazaal (born 28 ...   \n4        Vicente Pascual Pastor\\r\\n\\r\\nVicente Pascual ...   \n...                                                    ...   \n1286259  Toppr\\r\\n\\r\\nToppr is a product of Haygot Educ...   \n1286260  Outline of education\\r\\n\\r\\nThe following outl...   \n1286261  Raell Padamsee\\r\\n\\r\\nRaell Padamsee is an Ind...   \n1286262  Megan Callaway\\r\\n\\r\\nMegan Callaway is a foun...   \n1286263  Diane Reay\\r\\n\\r\\nDiane Reay is a sociologist ...   \n\n                                       title       id  \\\n0             Morocco–Saudi Arabia relations        1   \n1          Anthony United States Post Office        2   \n2        Dumraon  Vidhan Sabha constituency         3   \n3                             Chaker Khazaal        4   \n4                     Vicente Pascual Pastor        5   \n...                                      ...      ...   \n1286259                                Toppr  1286260   \n1286260                 Outline of education  1286261   \n1286261                       Raell Padamsee  1286262   \n1286262                       Megan Callaway  1286263   \n1286263                           Diane Reay  1286264   \n\n                                         tokenized_content  \n0        [arabian, relation, refers, current, historica...  \n1        [anthony, united, states, post, office, listed...  \n2        [dumraon, vidhan, sabha, constituency, one, 24...  \n3        [chaker, khazaal, born, 28, september, 1987, b...  \n4        [vicente, pascual, pastor, alcoy, june, 3, 186...  \n...                                                    ...  \n1286259  [toppr, product, haygot, education, private, l...  \n1286260  [following, outline, provided, overview, topic...  \n1286261  [raell, padamsee, indian, theatre, personality...  \n1286262  [megan, callaway, founder, archer, school, gir...  \n1286263  [diane, reay, sociologist, professor, educatio...  \n\n[1286264 rows x 4 columns]",
      "text/html": "<div>\n<style scoped>\n    .dataframe tbody tr th:only-of-type {\n        vertical-align: middle;\n    }\n\n    .dataframe tbody tr th {\n        vertical-align: top;\n    }\n\n    .dataframe thead th {\n        text-align: right;\n    }\n</style>\n<table border=\"1\" class=\"dataframe\">\n  <thead>\n    <tr style=\"text-align: right;\">\n      <th></th>\n      <th>content</th>\n      <th>title</th>\n      <th>id</th>\n      <th>tokenized_content</th>\n    </tr>\n  </thead>\n  <tbody>\n    <tr>\n      <th>0</th>\n      <td>Morocco–Saudi Arabia relations\\r\\n\\r\\nMoroccan...</td>\n      <td>Morocco–Saudi Arabia relations</td>\n      <td>1</td>\n      <td>[arabian, relation, refers, current, historica...</td>\n    </tr>\n    <tr>\n      <th>1</th>\n      <td>Anthony United States Post Office\\r\\n\\r\\nThe A...</td>\n      <td>Anthony United States Post Office</td>\n      <td>2</td>\n      <td>[anthony, united, states, post, office, listed...</td>\n    </tr>\n    <tr>\n      <th>2</th>\n      <td>Dumraon (Vidhan Sabha constituency)\\r\\n\\r\\nDum...</td>\n      <td>Dumraon  Vidhan Sabha constituency</td>\n      <td>3</td>\n      <td>[dumraon, vidhan, sabha, constituency, one, 24...</td>\n    </tr>\n    <tr>\n      <th>3</th>\n      <td>Chaker Khazaal\\r\\n\\r\\nChaker Khazaal (born 28 ...</td>\n      <td>Chaker Khazaal</td>\n      <td>4</td>\n      <td>[chaker, khazaal, born, 28, september, 1987, b...</td>\n    </tr>\n    <tr>\n      <th>4</th>\n      <td>Vicente Pascual Pastor\\r\\n\\r\\nVicente Pascual ...</td>\n      <td>Vicente Pascual Pastor</td>\n      <td>5</td>\n      <td>[vicente, pascual, pastor, alcoy, june, 3, 186...</td>\n    </tr>\n    <tr>\n      <th>...</th>\n      <td>...</td>\n      <td>...</td>\n      <td>...</td>\n      <td>...</td>\n    </tr>\n    <tr>\n      <th>1286259</th>\n      <td>Toppr\\r\\n\\r\\nToppr is a product of Haygot Educ...</td>\n      <td>Toppr</td>\n      <td>1286260</td>\n      <td>[toppr, product, haygot, education, private, l...</td>\n    </tr>\n    <tr>\n      <th>1286260</th>\n      <td>Outline of education\\r\\n\\r\\nThe following outl...</td>\n      <td>Outline of education</td>\n      <td>1286261</td>\n      <td>[following, outline, provided, overview, topic...</td>\n    </tr>\n    <tr>\n      <th>1286261</th>\n      <td>Raell Padamsee\\r\\n\\r\\nRaell Padamsee is an Ind...</td>\n      <td>Raell Padamsee</td>\n      <td>1286262</td>\n      <td>[raell, padamsee, indian, theatre, personality...</td>\n    </tr>\n    <tr>\n      <th>1286262</th>\n      <td>Megan Callaway\\r\\n\\r\\nMegan Callaway is a foun...</td>\n      <td>Megan Callaway</td>\n      <td>1286263</td>\n      <td>[megan, callaway, founder, archer, school, gir...</td>\n    </tr>\n    <tr>\n      <th>1286263</th>\n      <td>Diane Reay\\r\\n\\r\\nDiane Reay is a sociologist ...</td>\n      <td>Diane Reay</td>\n      <td>1286264</td>\n      <td>[diane, reay, sociologist, professor, educatio...</td>\n    </tr>\n  </tbody>\n</table>\n<p>1286264 rows × 4 columns</p>\n</div>"
     },
     "execution_count": 10,
     "metadata": {},
     "output_type": "execute_result"
    }
   ],
   "source": [
    "wiki_dataframe_pickle"
   ]
  },
  {
   "cell_type": "code",
   "execution_count": 11,
   "metadata": {
    "pycharm": {
     "name": "#%%\n"
    },
    "scrolled": false
   },
   "outputs": [
    {
     "name": "stderr",
     "output_type": "stream",
     "text": [
      "100%|██████████| 1286264/1286264 [00:34<00:00, 37698.51it/s]\n"
     ]
    }
   ],
   "source": [
    "vocab = set()\n",
    "heaps_law_dataset = list()\n",
    "\n",
    "i = 0\n",
    "total_words = 0\n",
    "count = 0\n",
    "count2 = list() #number of times len(vocab) - past_unique_words is consistently less than 20\n",
    "past_unique_words = 0\n",
    "for document in tqdm(wiki_dataframe_pickle['tokenized_content']):\n",
    "    if len(vocab) - past_unique_words < 20:\n",
    "            count += 1\n",
    "    else: \n",
    "        count = 0\n",
    "    if count > 20:\n",
    "        count2.append(i)\n",
    "    #if i % 1000 == 0:\n",
    "    heaps_law_dataset.append((total_words, len(vocab)))\n",
    "    past_unique_words = len(vocab)\n",
    "    i += 1\n",
    "    for word in document:\n",
    "        total_words += 1\n",
    "        vocab.add(word)\n",
    "#             if count >= 900:\n",
    "#                 break\n",
    "#             else:\n",
    "#                 count = 0\n",
    "#     else:\n",
    "#         continue\n",
    "#     break"
   ]
  },
  {
   "cell_type": "code",
   "execution_count": 12,
   "metadata": {},
   "outputs": [
    {
     "data": {
      "text/plain": "1731793"
     },
     "execution_count": 12,
     "metadata": {},
     "output_type": "execute_result"
    }
   ],
   "source": [
    "len(vocab)"
   ]
  },
  {
   "cell_type": "code",
   "execution_count": 13,
   "metadata": {},
   "outputs": [
    {
     "name": "stdout",
     "output_type": "stream",
     "text": [
      "{1, 2, 3, 4, 5, 6, 7, 8, 9, 10}\n"
     ]
    }
   ],
   "source": [
    "numberSet = set()\n",
    "array = [1, 1, 1, 1, 2, 2, 3, 3, 4, 4, 5, 5, 6, 6, 7, 8, 9, 9, 10]\n",
    "for number in array:\n",
    "   numberSet.add(number)\n",
    "print(numberSet)"
   ]
  },
  {
   "cell_type": "code",
   "execution_count": 14,
   "metadata": {},
   "outputs": [
    {
     "data": {
      "text/plain": "{'erythaca',\n 'sirichaya',\n 'schlangenbeschwörer',\n 'wirelesshd',\n 'wodzinski',\n 'kutbuddeen',\n 'wattamolla',\n 'viscidiflorella',\n 'fku',\n 'testana',\n 'glucoheptonate',\n 'zinda',\n 'procedurally',\n 'reflexologist',\n 'žorga',\n 'hierographia',\n 'poele',\n 'folasade',\n 'ts23',\n 'пехотный',\n 'aboulhosn',\n 'factsbook',\n 'chattes',\n 'ladigesi',\n 'bezabde',\n 'latericium',\n 'trethowan',\n 'eye',\n 'massier',\n 'f3v',\n 'porphyrionea',\n 'scapolite',\n 'hoym',\n 'saparmyrat',\n 'bempton',\n 'močerady',\n 'eddé',\n 'torenth',\n 'zhongnanhai',\n '명인전',\n 'mischer',\n 'vahanga',\n 'fawatir',\n 'kfum',\n 'einfluss',\n '14rpg',\n 'nickles',\n '25561',\n 'racilidea',\n 'diopeithes',\n 'nlgc',\n 'guldborgsundlisten',\n 'kekell',\n 'gavazzeni',\n 'archeologisch',\n 'loukhai',\n 'bassins',\n 'drumalban',\n 'xebres',\n 'guardaporta',\n 'haseena',\n 'mava',\n 'battaile',\n 'sext',\n 'covenstead',\n 'ellings',\n 'rottach',\n 'galien',\n 'xunxing',\n 'migori',\n 'aimeric',\n 'simbarashe',\n 'ах',\n 'mounged',\n 'θεολόγος',\n 'kenehnache',\n 'villania',\n 'priyanshu',\n 'ziyanids',\n 'phonse',\n 'lanxin',\n 'hros',\n 'herashchenko',\n 'bezciyan',\n 'lumaranatana',\n 'greenisland',\n 'tytam',\n 'finalisst',\n 'kahdeksan',\n 'astronidium',\n 'chordophone',\n 'shamasastry',\n '10022',\n 'dirai',\n 'فرنجيه',\n 'hardland',\n 'barcroftmedia',\n 'stadtkommandantur',\n 'ebvs',\n 'adunis',\n 'transeast',\n 'realff',\n 'reiniers',\n 'markun',\n 'bl1',\n 'miyajuku',\n 'gurvanzagal',\n 'dhutang',\n 'alofs',\n 'railio',\n 'bndrz',\n 'tragos',\n 'dinophyceae',\n 'kuajok',\n 'harrells',\n 'wisoko',\n 'ghungroos',\n 'raphiolepsis',\n 'wealdheri',\n 'nordenflycht',\n 'urakhi',\n 'dawans',\n 'bharatganj',\n 'докмановић',\n 'yamshchiks',\n '14cm',\n 'tracyville',\n 'massenbach',\n 'excommunicates',\n 'ocufa',\n 'blain',\n 'cosmographicus',\n 'bonneveine',\n 'huecos',\n 'ecchellensis',\n 'geodomains',\n 'imeretinsky',\n 'ksamasramana',\n 'avercius',\n 'škeřík',\n 'madla',\n 'fedaian',\n 'amoenus',\n 'matandang',\n 'sot',\n 'melocosa',\n 'fanáticos',\n 'ţ',\n 'bethulua',\n 'carrickalinga',\n 'moguldom',\n 'ribofunk',\n 'mahmûd',\n 'nalivkas',\n 'aplia',\n 'nictonic',\n 'kindermedien',\n 'kagekuni',\n 'klyuyevskoye',\n 'manimekhalai',\n 'çığ',\n 'supratentorial',\n 'bookmobile',\n 'oxan',\n 'shimpoli',\n 'tumbalensis',\n 'mabeatae',\n 'velykyj',\n 'hnoh',\n '18359',\n 'quilquiña',\n 'monniais',\n 'earley',\n 'plmn',\n 'wwhl',\n 'm924',\n 'n3000',\n 'ewen',\n 'fréon',\n 'siefert',\n '合気剣',\n 'sser',\n 'rolfr',\n 'darmawaram',\n 'virbiage',\n 'gunillas',\n 'vismunda',\n 'böhmerrecht',\n 'cycle',\n 'venstresocialisterne',\n 'holešova',\n 'dogeship',\n 'inescapable',\n 'suvretta',\n 'chorals',\n 'quebrantahuesos',\n 'planemaking',\n 'yōrum',\n 'dwcommunications',\n 'shapers',\n 'marquezote',\n 'подушная',\n 'katá',\n 'planthopper',\n 'bloomy',\n 'nurí',\n 'autocrats',\n 'dccis',\n 'onychogryposis',\n 'meken',\n 'marmond',\n 'éibhliu',\n 'middernagdiens',\n '11869',\n 'railpro',\n 'cangemi',\n 'klcw',\n 'viljakkala',\n 'maggots',\n 'rivkesh',\n 'euthalius',\n 'brahmavihāra',\n 'bhealach',\n 'łobzów',\n 'l123',\n 'rigspolitiet',\n 'prüfungskommission',\n 'pfunders',\n 'faesco',\n 'hikiba',\n 'myelographic',\n 'ladesar',\n 'pfisteria',\n 'sanchayaka',\n 'gheyn',\n 'kerhóll',\n 'amimi',\n 'lateinischen',\n 'glendasan',\n 'progimnazija',\n 'fanjuls',\n 'kebosongo',\n 'dodemaide',\n 'maduari',\n 'a00',\n 'prokhanov',\n 'nbl1',\n 'mograbin',\n 'intelligitur',\n 'mordirith',\n 'resinuous',\n 'rinpoche',\n 'keymat',\n 'tučiai',\n 'asqui',\n 'kistnapatam',\n 'studder',\n 'boolungga',\n 'rozdilna',\n 'usna',\n 'kasopukhuri',\n 'suriyan',\n 'ccfw',\n 'gassian',\n 'tsugiyori',\n 'bless',\n 'ki67',\n 'qchex',\n 'genk',\n 'croftes',\n 'heuber',\n 'covfefe',\n 'heliarc',\n 'golosh',\n 'metaxalone',\n 'usaji',\n 'hillend',\n 'désopilante',\n 'bandish',\n 'cangiullo',\n 'alopecuri',\n 'iði',\n 'tamaphok',\n 'kawhatau',\n 'wremja',\n '0168',\n 'baldaufii',\n 'aadhaaram',\n 'ocated',\n 'percalates',\n 'yeatman',\n 'pawra',\n 'maiaspondylus',\n 'karimunjava',\n 'angacha',\n 'pottiales',\n 'spotlight',\n 'oshikiri',\n 'underripe',\n 'artilleriya',\n 'khushir',\n 'loughey',\n 'nanoelectrochemistry',\n 'brontotheriidae',\n 'paranthoen',\n 'anascaul',\n 'sudarov',\n 'frechites',\n 'xupet',\n 'chline',\n 'sevenracing',\n 'starooskolsky',\n 'suvalki',\n 'algenudi',\n 'bpos',\n 'dihalo',\n 'italiotes',\n 'critcs',\n 'kincardinshire',\n 'féron',\n 'perkley',\n 'conantia',\n 'almholme',\n 'turnbaugh',\n 'chumburung',\n 'milunovic',\n 'iscomplicatedd',\n 'pershamayski',\n 'miklol',\n 'betatype',\n 'dragonforce',\n 'wiemerstedt',\n 'snitterfield',\n 'lakhovsky',\n 'sécession',\n 'cragin',\n 'ogygiocarella',\n 'hardset',\n 'empathised',\n 'freezer',\n 'vampyre',\n 'четвериков',\n 'rydqvist',\n 'calavados',\n 'dibblee',\n 'geminale',\n 'acampo',\n 'roounds',\n 'tayiṛt',\n 'archilde',\n 'fuentelcésped',\n 'mulgao',\n 'broukere',\n 'chesnay',\n '维多利亚街',\n 'chipseys',\n 'lexica',\n 'hannwacker',\n 'lawnweed',\n 'ryskin',\n 'montgai',\n 'purutemote',\n 'payrsberg',\n 'radeon',\n 'häberle',\n 'tuterø',\n 'haotian',\n 'mashalah',\n 'exhodium',\n '袁家沟口',\n 'drswc',\n 'donagmore',\n 'veidenbaums',\n 'kilocalorie',\n 'צפו',\n 'gregorievich',\n 'tellurites',\n 'husulutepe',\n 'solovyev',\n 'adjoined',\n '子茲甫',\n 'tangigondu',\n 'aflatoon',\n 'paiss',\n 'felser',\n 'roccamonfina',\n 'kaie',\n 'tekniska',\n 'unalascensis',\n 'chatarina',\n 'haenni',\n '3mg',\n 'chiriguana',\n 'manningford',\n 'vanlian',\n 'sacremonte',\n 'mesentery',\n 'schindhelm',\n 'valdada',\n 'meconn',\n 'janssen',\n 'velans',\n 'selverian',\n 'fluoropyrimidine',\n 'graisely',\n 'thestudentschool',\n 'partalópa',\n 'szarejki',\n 'parsability',\n 'banderovite',\n 'vairamas',\n 'parenzano',\n 'llandegai',\n '6pp',\n 'suggestively',\n 'smike',\n 'shumushu',\n 'zairdja',\n 'svelekameratane',\n 'αμφι',\n 'fasty',\n 'laiming',\n 'dhaijan',\n 'peruibe',\n 'myōkōkōgen',\n 'hamburgensis',\n 'dilophosaurid',\n 'ermanno',\n 'tørnæs',\n 'coxa',\n 'uskoreniye',\n 'swithins',\n '7318',\n 'karimian',\n 'garbers',\n 'bindki',\n 'axonix',\n 'sandgrub',\n 'ryhonos',\n 'sigisfredo',\n 'agluukkaq',\n 'itvc',\n 'verwaltungsamt',\n 'craige',\n 'palmour',\n 'annotationes',\n 'chiefage',\n 'tjarnö',\n 'fortunato',\n 'phacusites',\n 'regstrup',\n 'katapahar',\n 'digistar',\n 'leontopoda',\n 'rheumotoid',\n 'vinyards',\n 'scabrously',\n 'cefmax',\n 'mycoides',\n 'zonnebeke',\n 'aveilus',\n 'andaymarca',\n 'siona',\n 'larmoriens',\n 'abuchatzeira',\n 'boxmen',\n 'migiani',\n '常重',\n 'islamonline',\n 'whhr',\n 'urleen',\n 'thulur',\n 'khawaled',\n 'falchero',\n 'sofosh',\n 'œùvre',\n 'uduk',\n 'monze',\n 'contentos',\n 'prosef',\n 'ccamlr',\n 'olivença',\n 'khaleelah',\n 'بریں',\n 'somholitaceae',\n 'hercle',\n 'niilin',\n 'berenbrinker',\n 'skinny',\n 'interrante',\n 'yaşandı',\n 'gaskiya',\n 'alexandreid',\n 'andreopoulos',\n 'waldevi',\n 'sauris',\n 'arcicóllar',\n 'ausaid',\n 'rastros',\n 'pépé',\n '190426',\n 'oxossi',\n 'olivato',\n 'girls',\n 'mouriesse',\n 'camaioni',\n 'rubria',\n 'parodoxical',\n 'evidentiality',\n 'kiping',\n '忽然一週',\n 'outperformance',\n 'electroliner',\n 'merital',\n 'dilación',\n 'gronausestraat',\n 'woodfog',\n 'baldacci',\n 'fermanagh',\n 'kikn',\n 'olgii',\n 'uppumavu',\n 'selačka',\n 'oxyodon',\n '9yi',\n 'elfar',\n 'brd4',\n 'imes',\n 'koogla',\n 'soeborg',\n 'naturalmente',\n 'lazerna',\n 'martya',\n 'staybridge',\n 'alsótök',\n 'virgina',\n 'osogbo',\n 'averring',\n 'romsdalsfjord',\n 'sissonville',\n 'barskyi',\n 'penlee',\n 'torgovanov',\n 'tseng',\n 'shrimpfish',\n 'bodhrán',\n 'gnadenfeld',\n 'nmtt',\n 'gesamtliberalismus',\n 'sárx',\n 'folkeblad',\n 'hapludalfs',\n 'smartwool',\n 'aerovale',\n 'streetville',\n '3678612',\n 'tr9007',\n 'poochon',\n 'rothomagensis',\n 'fouquart',\n 'glascote',\n 'meadia',\n 'davesland',\n 'spaniodon',\n 'ecossaise',\n 'preload',\n 'realmscon',\n 'toshitake',\n 'boujad',\n 'hydropiper',\n 'orlandez',\n 'gruvdisciples',\n 'figoli',\n 'buckbaum',\n 'soubras',\n 'rubinetterie',\n 'becknerville',\n 'sambhu',\n 'mg320',\n 'paradisiaque',\n 'guanhães',\n 'upmarket',\n 'chakana',\n 'altenheim',\n 'vidago',\n '401st',\n 'unbackable',\n 'kenderov',\n 'leppik',\n 'komisova',\n 'dnafets',\n 'confluentia',\n 'hardbeat',\n 'fucci',\n 'kreuzlingen',\n 'rheindiebach',\n 'ülfet',\n 'nimravus',\n 'jöransson',\n 'ktdo',\n 'e334',\n 'leuisa',\n 'venec',\n 'dabshado',\n 'tobruk',\n 'henuttadesh',\n 'eighth',\n 'expensive',\n 'adkinson',\n 'kogluktogmiut',\n 'brackney',\n '17324',\n '79817',\n 'peena',\n 'nathanson',\n 'tigapuluh',\n 'stonerside',\n 'cicillini',\n 'bréhatins',\n 'compatriotes',\n 'tfis',\n 'magnie',\n 'hoidaymakers',\n 'ohohoo',\n 'teufelssee',\n '續古摘奇算法',\n 'dtr2000',\n 'rrisd',\n 'delphinosaurus',\n 'rozborg',\n 'delforge',\n 'walgaon',\n 'germanville',\n 'mlingotini',\n 'anthypolochage',\n 'šalām',\n 'egialis',\n 'rochfordstown',\n 'cebrap',\n 'dreamchaser',\n 'planirostris',\n '梁德成',\n 'phresh',\n 'greyville',\n 'recorders',\n 'jushin',\n '2sat',\n 'verbruggen',\n 'zanobius',\n 'fuaß',\n 'hemimastigids',\n 'chubbuck',\n 'itaŋikom',\n 'preacherships',\n 'anibare',\n 'ozw',\n 'lokka',\n 'argeleb',\n 'suissa',\n 'pomanti',\n 'eschenlohe',\n 'vivax',\n 'rudersdorf',\n 'keshia',\n 'rfd1',\n 'guran',\n 'regir',\n 'moscoviticarum',\n 'powergel',\n 'androxal',\n 'gadianton',\n 'dupe',\n 'dihydrolipoyl',\n 'nmmt',\n '48222',\n 'öbek',\n 'amiriyeh',\n 'calamistratus',\n 'pedestrianise',\n 'udhampur',\n 'klipklop',\n 'alternativ',\n 'samochodowa',\n 'izobilnoye',\n 'pottschach',\n 'whip021cd',\n 'naguman',\n 'caesalpina',\n 'gildark',\n 'am1690',\n 'mures',\n 'argentas',\n 'tahohenta',\n 'senuc',\n 'planos',\n 'bocolo',\n 'سمعان',\n 'hilldring',\n 'mariola',\n 'visingsoe',\n 'manikoff',\n 'hagath',\n 'barwa',\n 'pufendorf',\n 'opposition',\n 'biuristic',\n 'maahn',\n 'conspirational',\n 'feinschmecker',\n 'qas',\n 'amatoya',\n 'ukraine',\n 'lipse',\n 'navales',\n 'heroized',\n 'freebrough',\n 'udayaravichandrika',\n 'oreo',\n 'sca13',\n 'dolorez',\n 'plectophanes',\n 'vimla',\n 'mosermeyerdöring',\n 'howa',\n 'waterstream',\n 'melvini',\n 'bedels',\n 'propanidid',\n 'hyacinthinae',\n 'bederman',\n 'u5a',\n 'usdoj',\n 'johnsmith',\n 'fdcpa',\n 'gadagne',\n '職業訓練局工商資訊學院',\n 'tightknit',\n 'menotropin',\n 'masakage',\n 'furion',\n 'chimeragenesis',\n 'liverius',\n 'closky',\n 'subsists',\n 'wieringerwaard',\n 'kimberlites',\n 'pseudoconvex',\n 'wandolleck',\n 'clodelsa',\n 'ylli',\n 'lartigue',\n 'boleadoras',\n 'hnawtsut',\n 'travankor',\n 'urras',\n 'excelenţa',\n 'hrastar',\n 'guruvayur',\n 'camoufladge',\n 'hafnarfjarðar',\n 'puṣkarī',\n 'furler',\n 'nourdin',\n 'δενδρον',\n 'babhruvahan',\n 'goiset',\n 'taiti',\n 'stagyrita',\n 'caishikou',\n '17184',\n 'räss',\n 'bairavi',\n 'hamdemir',\n 'makovicka',\n 'havaldar',\n 'southewestern',\n 'cslc',\n 'oomerabad',\n 'hurlen',\n 'hallingdalen',\n 'garzweiler',\n 'acebuchal',\n 'begriffsgeschichte',\n 'legally',\n 'lymphangiomyoma',\n 'askio',\n 'financia',\n 'toolkits',\n 'gaztáñaga',\n 'labreece',\n 'românii',\n 'macaca',\n 'palaeosinensis',\n 'akinomiya',\n 'ostenisibly',\n 'bettauer',\n 'sharazor',\n 'tuhaa',\n 'češvinica',\n 'fastighetsverk',\n 'wzrb',\n 'bepposax',\n 'stolfowa',\n 'laetantius',\n '2796',\n 'strempler',\n 'help',\n 'akmatbaev',\n 'genv',\n 'llangenith',\n 'aloyius',\n '192828',\n 'chhohra',\n 'tengbom',\n 'cormack',\n 'suci',\n 'lyuto',\n 'vampir',\n 'bednayel',\n 'sararith',\n 'hkcec',\n 'marigó',\n 'waterhen',\n 'harwarden',\n 'waigal',\n 'magundat',\n 'mrs3',\n 'glomerellaceae',\n 'jongale',\n 'afonsky',\n 'serginio',\n 'gavaras',\n 'copernizans',\n 'magarpatta',\n 'tweedvale',\n 'ovală',\n 'wilikers',\n 'vahoras',\n 'launedda',\n 'shealeigh',\n 'gravedona',\n 'houndsley',\n 'pyromusical',\n 'opuntioideae',\n 'речник',\n 'okev',\n 'indug',\n 'macgeoghegans',\n 'buckell',\n 'kcentra',\n 'yorath',\n 'burmeist',\n 'atroa',\n 'azz',\n 'mantiane',\n 'mitino',\n 'fullstop',\n 'bokito',\n 'thammathirat',\n 'laufbachtal',\n 'finat',\n 'sanatorii',\n 'rassisch',\n 'quadrumvirs',\n 'däwläkän',\n 'jasenik',\n 'pcll',\n 'platonists',\n 'monorom',\n 'bosquez',\n 'naduvattam',\n 'leptospirales',\n 'hbov',\n 'fm20',\n 'panditaaradhyacharita',\n 'kamarhatty',\n 'bauly',\n 'amajuba',\n 'gascueña',\n 'валеріан',\n 'alexandretta',\n 'picocurie',\n '強平',\n 'possao',\n 'sibutu',\n 'dudleba',\n 'kulyabi',\n 'newfallen',\n 'lellivelt',\n 'excrement',\n 'asparagoideae',\n 'consodine',\n 'wofr',\n 'bordvik',\n 'shotnez',\n 'gymreig',\n 'mörch',\n 'hearon',\n 'crohn',\n 'polylines',\n 'sapa',\n 'αριθμοδότησης',\n 'attapattu',\n '17658',\n 'qisthini',\n 'shaminder',\n 'urumaya',\n 'aatcheeswarar',\n 'insolia',\n 'kütbach',\n 'eumuroid',\n 'khóa',\n 'gorlin',\n 'gungriffon',\n 'bațn',\n 'monaster',\n 'buxin',\n 'ługowski',\n 'runamok',\n 'parceval',\n 'manganbeu',\n 'anthocarapa',\n 'comorn',\n '2538',\n 'queiró',\n 'galb',\n 'scodosia',\n '中国实业银行',\n 'petrunko',\n 'cooperbessemer',\n 'lahij',\n 'kuvlung',\n 'nailaga',\n 'alseth',\n 'liebesgarten',\n 'driven',\n 'papau',\n 'bruyn',\n 'sansum',\n 'momtaj',\n 'rothauser',\n 'laurentes',\n 'amtrust',\n '五代史記纂誤補',\n 'pilgeri',\n 'tuvaluans',\n 'meatplow',\n 'krahn',\n 'ffolliott',\n 'mcgarrahan',\n 'otálvaro',\n 'nsofor',\n 'mefenamic',\n 'maldjian',\n 'apahunik',\n 'changamwensis',\n 'aboms',\n 'gavalin',\n 'mazandarantv',\n 'cynered',\n 'kifuta',\n '24kt',\n 'ἀντιδικοµαριανῖται',\n 'qabil',\n 'pottersville',\n 'siani',\n 'reside',\n 'eurosibenergo',\n 'ти',\n 'giskra',\n 'tyneham',\n 'fleetmates',\n 'rehomes',\n 'materyn',\n 'publigroupe',\n 'adikhalamani',\n 'kõinchs',\n 'ulii',\n 'rauschift',\n 'intervenido',\n 'østerlars',\n 'territoriality',\n 'hatted',\n 'hamdam',\n 'belevied',\n 'pillaring',\n 'mydroilyn',\n 'upkeep',\n 'melanophidium',\n 'jácint',\n 'shardula',\n 'liberv',\n 'oreke',\n 'skirbeck',\n 'lullingstone',\n 'présidial',\n 'kirschwasser',\n 'yanyuwa',\n 'reverts',\n 'šensoj',\n ...}"
     },
     "execution_count": 14,
     "metadata": {},
     "output_type": "execute_result"
    }
   ],
   "source": [
    "vocab"
   ]
  },
  {
   "cell_type": "code",
   "execution_count": 15,
   "metadata": {},
   "outputs": [
    {
     "data": {
      "text/plain": "1286264"
     },
     "execution_count": 15,
     "metadata": {},
     "output_type": "execute_result"
    }
   ],
   "source": [
    "len(heaps_law_dataset)"
   ]
  },
  {
   "cell_type": "code",
   "execution_count": 16,
   "metadata": {
    "pycharm": {
     "name": "#%%\n"
    }
   },
   "outputs": [
    {
     "data": {
      "text/plain": "1286264"
     },
     "execution_count": 16,
     "metadata": {},
     "output_type": "execute_result"
    }
   ],
   "source": [
    "i"
   ]
  },
  {
   "cell_type": "code",
   "execution_count": 17,
   "metadata": {
    "pycharm": {
     "name": "#%%\n"
    }
   },
   "outputs": [
    {
     "data": {
      "text/plain": "145"
     },
     "execution_count": 17,
     "metadata": {},
     "output_type": "execute_result"
    }
   ],
   "source": [
    "len(wiki_dataframe_pickle['tokenized_content'][0])"
   ]
  },
  {
   "cell_type": "markdown",
   "metadata": {},
   "source": [
    "## Heaps Law"
   ]
  },
  {
   "cell_type": "code",
   "execution_count": 18,
   "metadata": {},
   "outputs": [
    {
     "data": {
      "text/plain": "1286264"
     },
     "execution_count": 18,
     "metadata": {},
     "output_type": "execute_result"
    }
   ],
   "source": [
    "len(heaps_law_dataset)"
   ]
  },
  {
   "cell_type": "code",
   "execution_count": 19,
   "metadata": {},
   "outputs": [
    {
     "data": {
      "text/plain": "(144533236, 1731793)"
     },
     "execution_count": 19,
     "metadata": {},
     "output_type": "execute_result"
    }
   ],
   "source": [
    "heaps_law_dataset[len(heaps_law_dataset)-1]"
   ]
  },
  {
   "cell_type": "code",
   "execution_count": 20,
   "metadata": {},
   "outputs": [],
   "source": [
    "import matplotlib.pyplot as plt\n",
    "import math\n",
    "\n",
    "def heaps_law(list_to_graph):\n",
    "        x = list()\n",
    "        y = list()\n",
    "        \n",
    "        for item in list_to_graph:\n",
    "            x.append(item[0])\n",
    "            y.append(item[1])\n",
    "            \n",
    "        expected_x = list()\n",
    "        expected_y = list()\n",
    "        \n",
    "        k = 20\n",
    "        for n in range(len(list_to_graph)):\n",
    "            expected_x.append(n)\n",
    "            expected_y.append(math.pow(n, 0.5) * k)\n",
    "\n",
    "        plt.loglog(x, y)\n",
    "        plt.xlim(1, x[-1])\n",
    "        plt.ylim(1, y[-1])\n",
    "        plt.loglog(expected_x,expected_y)\n",
    "        plt.xlim(1, x[-1])\n",
    "        plt.ylim(1, y[-1])\n",
    "        plt.savefig(\"heaps_law.png\")"
   ]
  },
  {
   "cell_type": "code",
   "execution_count": 21,
   "metadata": {
    "scrolled": true
   },
   "outputs": [
    {
     "data": {
      "text/plain": "<Figure size 432x288 with 1 Axes>",
      "image/png": "[encoded data removed]"
     },
     "metadata": {
      "needs_background": "light"
     },
     "output_type": "display_data"
    }
   ],
   "source": [
    "heaps_law(heaps_law_dataset)"
   ]
  },
  {
   "cell_type": "markdown",
   "source": [
    "## Creating Inverted Index"
   ],
   "metadata": {
    "collapsed": false
   }
  },
  {
   "cell_type": "code",
   "execution_count": null,
   "outputs": [
    {
     "name": "stderr",
     "output_type": "stream",
     "text": [
      "1286264it [00:43, 29354.93it/s]\n",
      "1286264it [00:43, 29283.49it/s]\n",
      "1286264it [00:43, 29547.53it/s]\n",
      "1286264it [00:43, 29375.51it/s]\n",
      "1286264it [00:43, 29494.13it/s]\n",
      "799800it [00:27, 29763.05it/s]"
     ]
    }
   ],
   "source": [
    "term_doc_list = {} # term, list of documents it appears in\n",
    "term_freq_list = {} # term, frequency\n",
    "for word in vocab:\n",
    "    for index, row in tqdm(wiki_dataframe_pickle.iterrows()):\n",
    "        if word in row['content']:\n",
    "            term_doc_list[word] = [row['id']]\n",
    "    for term in wiki_dataframe_pickle['tokenized_content']:\n",
    "        if term == word:\n",
    "            term_freq_list[word] += 1 if term_freq_list[word] >= 0 else 0"
   ],
   "metadata": {
    "collapsed": false,
    "pycharm": {
     "name": "#%%\n",
     "is_executing": true
    }
   }
  },
  {
   "cell_type": "code",
   "execution_count": null,
   "outputs": [],
   "source": [
    "inverted_index = pd.DataFrame({\"term\": vocab,\n",
    "                               \"doc_list\": term_doc_list.values(),\n",
    "                               \"frequency\":term_freq_list.values()}, columns=['term','doc_list','frequency'])\n",
    "inverted_index\n"
   ],
   "metadata": {
    "collapsed": false,
    "pycharm": {
     "name": "#%%\n",
     "is_executing": true
    }
   }
  }
 ],
 "metadata": {
  "kernelspec": {
   "name": "pycharm-e94c2030",
   "language": "python",
   "display_name": "PyCharm (project1)"
  },
  "language_info": {
   "codemirror_mode": {
    "name": "ipython",
    "version": 3
   },
   "file_extension": ".py",
   "mimetype": "text/x-python",
   "name": "python",
   "nbconvert_exporter": "python",
   "pygments_lexer": "ipython3",
   "version": "3.8.8"
  }
 },
 "nbformat": 4,
 "nbformat_minor": 1
}