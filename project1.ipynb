{
 "cells": [
  {
   "cell_type": "code",
   "execution_count": null,
   "metadata": {
    "pycharm": {
     "name": "#%%\n"
    },
    "scrolled": true
   },
   "outputs": [],
   "source": [
    "import nltk\n",
    "nltk.download('all')"
   ]
  },
  {
   "cell_type": "markdown",
   "metadata": {},
   "source": [
    "## Reading File and creating DataFrame"
   ]
  },
  {
   "cell_type": "code",
   "execution_count": null,
   "metadata": {},
   "outputs": [],
   "source": [
    "import pandas as pd\n",
    "import numpy as np\n",
    "from tqdm import tqdm\n",
    "tqdm.pandas()\n",
    "import pickle\n",
    "import nltk"
   ]
  },
  {
   "cell_type": "code",
   "execution_count": null,
   "metadata": {
    "pycharm": {
     "name": "#%%\n"
    },
    "scrolled": true
   },
   "outputs": [],
   "source": [
    "import pandas as pd\n",
    "wiki_files = pd.read_csv('wiki_sample.csv')\n",
    "wiki_dataframe = pd.DataFrame(wiki_files)\n",
    "wiki_dataframe"
   ]
  },
  {
   "cell_type": "markdown",
   "metadata": {
    "pycharm": {
     "name": "#%% md\n"
    }
   },
   "source": [
    "## Preprocessing and Creating Vocab"
   ]
  },
  {
   "cell_type": "code",
   "execution_count": null,
   "metadata": {},
   "outputs": [],
   "source": [
    "from nltk.corpus import stopwords\n",
    "from nltk.stem import WordNetLemmatizer \n",
    "import pycountry\n",
    "lemmatizer = WordNetLemmatizer()\n",
    "from names_dataset import NameDatasetV1 # v1\n",
    "names = NameDatasetV1()\n",
    "\n",
    "stop_words = set(stopwords.words('english'))\n",
    "# for domain_stop_word in domain_stop_words:\n",
    "#     stop_words.add(domain_stop_word)"
   ]
  },
  {
   "cell_type": "code",
   "execution_count": null,
   "metadata": {
    "scrolled": true
   },
   "outputs": [],
   "source": [
    "import pandas as pd\n",
    "companies_file = pd.read_csv('companies_sorted.csv')\n",
    "companies_dataframe = pd.DataFrame(companies_file)\n",
    "companies_dataframe"
   ]
  },
  {
   "cell_type": "code",
   "execution_count": null,
   "metadata": {},
   "outputs": [],
   "source": [
    "companies = set(companies_dataframe['name'])"
   ]
  },
  {
   "cell_type": "code",
   "execution_count": null,
   "metadata": {},
   "outputs": [],
   "source": [
    "stop_words = set(stopwords.words('english'))"
   ]
  },
  {
   "cell_type": "code",
   "execution_count": null,
   "metadata": {},
   "outputs": [],
   "source": [
    "words = set(nltk.corpus.words.words())\n",
    "lowerCasedWords = map(lambda word: word.lower(), nltk.corpus.words.words())\n",
    "lowerCasedWords = set(list(lowerCasedWords))\n",
    "for country in list(pycountry.countries):\n",
    "    lowerCasedWords.add(country.name.lower())\n",
    "for company in companies:\n",
    "    lowerCasedWords.add(str(company).lower())"
   ]
  },
  {
   "cell_type": "code",
   "execution_count": null,
   "metadata": {},
   "outputs": [],
   "source": [
    "# lemmatization, lowercase, remove non alphanumeric, remove non-english, remove numbers and stopword removal\n",
    "rejected_content = []\n",
    "def apply_function(row, lenTitle):\n",
    "    filtered_content = []\n",
    "    for token in nltk.word_tokenize(row['content'][lenTitle:]):\n",
    "        token = lemmatizer.lemmatize(token).lower()\n",
    "        if names.search_first_name(token) or names.search_last_name(token) or ((token in lowerCasedWords) and (token not in stop_words) and (token.isalpha())):\n",
    "            filtered_content.append(token) \n",
    "        else:\n",
    "            rejected_content.append(token)\n",
    "        \n",
    "    return filtered_content"
   ]
  },
  {
   "cell_type": "code",
   "execution_count": null,
   "metadata": {},
   "outputs": [],
   "source": [
    "wiki_dataframe['tokenized_content'] = wiki_dataframe.progress_apply(lambda row: apply_function(row, len(row['title'])), axis=1)"
   ]
  },
  {
   "cell_type": "code",
   "execution_count": null,
   "metadata": {},
   "outputs": [],
   "source": [
    "wiki_dataframe.to_pickle('./wiki_dataframe_augmented_nltk_corpus_to_remove_non-english.pkl')"
   ]
  },
  {
   "cell_type": "code",
   "execution_count": null,
   "metadata": {},
   "outputs": [],
   "source": [
    "import pickle5 as pickle\n",
    "with open(\"./wiki_dataframe_augmented_nltk_corpus_to_remove_non-english.pkl\", \"rb\") as pickle_file:\n",
    "    wiki_dataframe = pickle.load(pickle_file)\n",
    "# wiki_dataframe = pd.read_pickle('./wiki_dataframe_augmented_nltk_corpus_to_remove_non-english.pkl')"
   ]
  },
  {
   "cell_type": "code",
   "execution_count": null,
   "metadata": {
    "pycharm": {
     "name": "#%%\n"
    },
    "scrolled": true
   },
   "outputs": [],
   "source": [
    "wiki_dataframe"
   ]
  },
  {
   "cell_type": "markdown",
   "metadata": {},
   "source": [
    "## Creating Part of Inverted Index"
   ]
  },
  {
   "cell_type": "code",
   "execution_count": null,
   "metadata": {
    "pycharm": {
     "name": "#%%\n"
    },
    "scrolled": false
   },
   "outputs": [],
   "source": [
    "from collections import defaultdict\n",
    "from collections import Counter\n",
    "\n",
    "inv_idx = defaultdict(list)\n",
    "vocab = set()\n",
    "heaps_law_dataset = list()\n",
    "\n",
    "most_freq = []\n",
    "id = 1\n",
    "total_words = 0\n",
    "for document in tqdm(wiki_dataframe['tokenized_content']):\n",
    "    counter = Counter(document)\n",
    "    most_occur = counter.most_common(1)\n",
    "    most_freq.append(most_occur)\n",
    "    heaps_law_dataset.append((total_words, len(vocab)))\n",
    "    for word in document:\n",
    "        inv_idx[word].append(id)\n",
    "        total_words += 1\n",
    "        vocab.add(word)\n",
    "    id +=1"
   ]
  },
  {
   "cell_type": "code",
   "execution_count": null,
   "metadata": {},
   "outputs": [],
   "source": [
    "wiki_dataframe['most_frequent_term'] = most_freq"
   ]
  },
  {
   "cell_type": "code",
   "execution_count": null,
   "metadata": {
    "scrolled": true
   },
   "outputs": [],
   "source": [
    "wiki_dataframe"
   ]
  },
  {
   "cell_type": "code",
   "execution_count": null,
   "metadata": {},
   "outputs": [],
   "source": [
    "from collections import OrderedDict\n",
    "inv_idx_ordered = OrderedDict(sorted(inv_idx.items(), key=lambda item: len(item[1]), reverse=True))"
   ]
  },
  {
   "cell_type": "code",
   "execution_count": null,
   "metadata": {},
   "outputs": [],
   "source": [
    "words = list(inv_idx_ordered.keys())\n",
    "domain_stop_words = words[0:10000]"
   ]
  },
  {
   "cell_type": "markdown",
   "metadata": {},
   "source": [
    "## Heaps Law"
   ]
  },
  {
   "cell_type": "code",
   "execution_count": null,
   "metadata": {},
   "outputs": [],
   "source": [
    "heaps_law_dataset[len(heaps_law_dataset)-1]"
   ]
  },
  {
   "cell_type": "code",
   "execution_count": null,
   "metadata": {},
   "outputs": [],
   "source": [
    "import matplotlib.pyplot as plt\n",
    "import math\n",
    "\n",
    "def heaps_law(list_to_graph):\n",
    "        x = list()\n",
    "        y = list()\n",
    "        \n",
    "        for item in list_to_graph:\n",
    "            x.append(item[0])\n",
    "            y.append(item[1])\n",
    "\n",
    "        plt.plot(x, y)\n",
    "        plt.xlim(1, x[-1])\n",
    "        plt.ylim(1, y[-1])\n",
    "        plt.savefig(\"heaps_law_words_from_nltk_english_corpus.png\")"
   ]
  },
  {
   "cell_type": "code",
   "execution_count": null,
   "metadata": {
    "scrolled": true
   },
   "outputs": [],
   "source": [
    "heaps_law(heaps_law_dataset)"
   ]
  },
  {
   "cell_type": "markdown",
   "metadata": {},
   "source": [
    "## Zipfs Law"
   ]
  },
  {
   "cell_type": "code",
   "execution_count": null,
   "metadata": {},
   "outputs": [],
   "source": [
    "import matplotlib.pyplot as plt\n",
    "import math\n",
    "\n",
    "def zipfs_law(list_to_graph):\n",
    "        x = list()\n",
    "        y = list()\n",
    "        \n",
    "        for i, word in enumerate(list_to_graph):\n",
    "            x.append(i+1)\n",
    "            y.append(len(inv_idx_ordered[word]))\n",
    "            \n",
    "\n",
    "        plt.loglog(x, y)\n",
    "        plt.savefig(\"zipfs_law.png\")"
   ]
  },
  {
   "cell_type": "code",
   "execution_count": null,
   "metadata": {},
   "outputs": [],
   "source": [
    "zipfs_law(inv_idx_ordered)"
   ]
  },
  {
   "cell_type": "markdown",
   "metadata": {},
   "source": [
    "## Finishing Inverted Index"
   ]
  },
  {
   "cell_type": "code",
   "execution_count": null,
   "metadata": {},
   "outputs": [],
   "source": [
    "from collections import Counter\n",
    "\n",
    "most_occur = counter.most_common(1)\n",
    "most_freq.append(most_occur)"
   ]
  },
  {
   "cell_type": "code",
   "execution_count": null,
   "metadata": {},
   "outputs": [],
   "source": [
    "for value in tqdm(inv_idx_ordered.items()):\n",
    "    inv_idx[value[0]] = (Counter(value[1]))"
   ]
  },
  {
   "cell_type": "code",
   "execution_count": null,
   "metadata": {},
   "outputs": [],
   "source": [
    "file_to_write = open(\"inv_idx_augmented_nltk_corpus_to_remove_non-english.pkl\", \"wb\")\n",
    "pickle.dump(inv_idx, file_to_write)"
   ]
  },
  {
   "cell_type": "markdown",
   "metadata": {
    "collapsed": false,
    "pycharm": {
     "name": "#%% md\n"
    }
   },
   "source": [
    "## TF-IDF\n",
    "#### 𝑇𝐹(𝑤, 𝑑) = 𝑓𝑟𝑒𝑞(𝑤, 𝑑) ÷ (𝑚𝑎𝑥_𝑑)\n",
    "#### 𝐼𝐷𝐹(𝑤) = 𝑙𝑜𝑔__2 (𝑁 ÷ 𝑛_𝑤)"
   ]
  },
  {
   "cell_type": "code",
   "execution_count": null,
   "metadata": {
    "collapsed": false,
    "pycharm": {
     "name": "#%%\n"
    }
   },
   "outputs": [],
   "source": [
    "len(wiki_dataframe)"
   ]
  },
  {
   "cell_type": "code",
   "execution_count": null,
   "metadata": {
    "pycharm": {
     "name": "#%%\n"
    }
   },
   "outputs": [],
   "source": [
    "import math\n",
    "def tf_idf(term, doc):\n",
    "    return (inv_idx[term][doc] / most_freq[doc]) * math.log((len(wiki_dataframe) / len(inv_idx[term])), 2)"
   ]
  },
  {
   "cell_type": "markdown",
   "metadata": {},
   "source": [
    "## Suggesting Queries"
   ]
  },
  {
   "cell_type": "code",
   "execution_count": null,
   "metadata": {},
   "outputs": [],
   "source": [
    "from os import listdir\n",
    "from os.path import isfile, join\n",
    "aol_query_log = pd.read_csv('project_1_AOL_query_log\\Clean-Data-01.txt', sep=\"\\t\")\n",
    "for file in listdir('project_1_AOL_query_log')[1:]:\n",
    "    aol_query_log = aol_query_log.append(pd.read_csv('project_1_AOL_query_log\\\\' + str(file), sep=\"\\t\"), ignore_index=True)"
   ]
  },
  {
   "cell_type": "code",
   "execution_count": null,
   "metadata": {
    "scrolled": true
   },
   "outputs": [],
   "source": [
    "aol_query_log"
   ]
  },
  {
   "cell_type": "code",
   "execution_count": null,
   "metadata": {},
   "outputs": [],
   "source": [
    "# lemmatizaiton, lowercase, remove non alphanumeric, remove non-english, remove numbers and stopword removal\n",
    "def query_logs_preprocessing(row):\n",
    "    filtered_content = []\n",
    "    for token in nltk.word_tokenize(str(row['Query'])):\n",
    "        token = lemmatizer.lemmatize(token).lower()\n",
    "        if token not in stop_words and token.isalpha()):\n",
    "            filtered_content.append(token) \n",
    "    \n",
    "    return filtered_content"
   ]
  },
  {
   "cell_type": "code",
   "execution_count": null,
   "metadata": {},
   "outputs": [],
   "source": [
    "aol_query_log['Tokenized Query'] = aol_query_log.progress_apply(lambda row: query_logs_preprocessing(row), axis=1)"
   ]
  },
  {
   "cell_type": "code",
   "execution_count": null,
   "metadata": {},
   "outputs": [],
   "source": [
    "aol_queries = aol_query_log['Tokenized Query'].values\n",
    "candidate_queries = []\n",
    "def identify_candidate_queries(query):\n",
    "    split_query = query.split()\n",
    "    for index, aol_query in enumerate(aol_queries):\n",
    "        if len(aol_query) > len(split_query):\n",
    "            for term in split_query:\n",
    "                if term in aol_query:\n",
    "                    candidate_queries.append((aol_query_log.iloc[[index]]['AnonID'], aol_query)) \n",
    "    return candidate_queries"
   ]
  },
  {
   "cell_type": "code",
   "execution_count": null,
   "metadata": {},
   "outputs": [],
   "source": [
    "candidate_queries = identify_candidate_queries(\"gall bladder\")"
   ]
  },
  {
   "cell_type": "markdown",
   "source": [
    "#### Ranking Candidates\n",
    "##### 𝑆𝑐𝑜𝑟𝑒(𝐶𝑄, 𝑞′) = \\# 𝑜𝑓 𝑠𝑒𝑠𝑠𝑖𝑜𝑛𝑠 𝑖𝑛 𝑤ℎ𝑖𝑐ℎ 𝑞 𝑖𝑠 𝑚𝑜𝑑𝑖𝑓𝑖𝑒𝑑 𝑡𝑜 𝐶𝑄 ÷ \\# 𝑜𝑓 𝑠𝑒𝑠𝑠𝑖𝑜𝑛𝑠 𝑖𝑛 𝑤ℎ𝑖𝑐ℎ 𝑞 𝑎𝑝𝑝𝑒𝑎𝑟𝑠"
   ],
   "metadata": {
    "collapsed": false,
    "pycharm": {
     "name": "#%% md\n"
    }
   }
  },
  {
   "cell_type": "code",
   "execution_count": null,
   "metadata": {},
   "outputs": [],
   "source": [
    "aol_queries = aol_query_log['Query'].values\n",
    "\n",
    "def rank_candidate_queries(original_query, candidates):\n",
    "    num_sessions_q_modified = 0\n",
    "    for query in candidates:\n",
    "        # find session in query log from candidates list\n",
    "        # check if it was changed to original_query\n",
    "            # num_sessions_q_modified += 1 if it was\n",
    "        print(query)\n",
    "    return num_sessions_q_modified / len(candidates)"
   ]
  },
  {
   "cell_type": "code",
   "execution_count": null,
   "metadata": {},
   "outputs": [],
   "source": [
    "companies"
   ]
  },
  {
   "cell_type": "code",
   "execution_count": null,
   "metadata": {},
   "outputs": [],
   "source": [
    "aol_queries = aol_query_log['Query'].values"
   ]
  },
  {
   "cell_type": "code",
   "execution_count": null,
   "metadata": {},
   "outputs": [],
   "source": [
    "numSessionsQAppears = 0\n",
    "for aol_query in aol_queries:\n",
    "    if aol_query == 'cbc companies':\n",
    "        numSessionsQAppears += 1"
   ]
  },
  {
   "cell_type": "code",
   "execution_count": null,
   "metadata": {},
   "outputs": [],
   "source": [
    "numSessionsQAppears"
   ]
  },
  {
   "cell_type": "code",
   "execution_count": null,
   "metadata": {},
   "outputs": [],
   "source": [
    "'gall bladder' == 'gall bladder surgery'"
   ]
  },
  {
   "cell_type": "code",
   "execution_count": null,
   "metadata": {},
   "outputs": [],
   "source": []
  }
 ],
 "metadata": {
  "kernelspec": {
   "display_name": "Python 3 (ipykernel)",
   "language": "python",
   "name": "python3"
  },
  "language_info": {
   "codemirror_mode": {
    "name": "ipython",
    "version": 3
   },
   "file_extension": ".py",
   "mimetype": "text/x-python",
   "name": "python",
   "nbconvert_exporter": "python",
   "pygments_lexer": "ipython3",
   "version": "3.7.11"
  }
 },
 "nbformat": 4,
 "nbformat_minor": 1
}