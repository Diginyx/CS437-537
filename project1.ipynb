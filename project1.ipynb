{
 "cells": [
  {
   "cell_type": "code",
   "execution_count": 1,
   "metadata": {
    "pycharm": {
     "name": "#%%\n"
    },
    "scrolled": false
   },
   "outputs": [
    {
     "name": "stderr",
     "output_type": "stream",
     "text": [
      "[nltk_data] Downloading collection 'all'\n",
      "[nltk_data]    | \n",
      "[nltk_data]    | Downloading package abc to /Users/josue/nltk_data...\n",
      "[nltk_data]    |   Package abc is already up-to-date!\n",
      "[nltk_data]    | Downloading package alpino to\n",
      "[nltk_data]    |     /Users/josue/nltk_data...\n",
      "[nltk_data]    |   Package alpino is already up-to-date!\n",
      "[nltk_data]    | Downloading package biocreative_ppi to\n",
      "[nltk_data]    |     /Users/josue/nltk_data...\n",
      "[nltk_data]    |   Package biocreative_ppi is already up-to-date!\n",
      "[nltk_data]    | Downloading package brown to\n",
      "[nltk_data]    |     /Users/josue/nltk_data...\n",
      "[nltk_data]    |   Package brown is already up-to-date!\n",
      "[nltk_data]    | Downloading package brown_tei to\n",
      "[nltk_data]    |     /Users/josue/nltk_data...\n",
      "[nltk_data]    |   Package brown_tei is already up-to-date!\n",
      "[nltk_data]    | Downloading package cess_cat to\n",
      "[nltk_data]    |     /Users/josue/nltk_data...\n",
      "[nltk_data]    |   Package cess_cat is already up-to-date!\n",
      "[nltk_data]    | Downloading package cess_esp to\n",
      "[nltk_data]    |     /Users/josue/nltk_data...\n",
      "[nltk_data]    |   Package cess_esp is already up-to-date!\n",
      "[nltk_data]    | Downloading package chat80 to\n",
      "[nltk_data]    |     /Users/josue/nltk_data...\n",
      "[nltk_data]    |   Package chat80 is already up-to-date!\n",
      "[nltk_data]    | Downloading package city_database to\n",
      "[nltk_data]    |     /Users/josue/nltk_data...\n",
      "[nltk_data]    |   Package city_database is already up-to-date!\n",
      "[nltk_data]    | Downloading package cmudict to\n",
      "[nltk_data]    |     /Users/josue/nltk_data...\n",
      "[nltk_data]    |   Package cmudict is already up-to-date!\n",
      "[nltk_data]    | Downloading package comparative_sentences to\n",
      "[nltk_data]    |     /Users/josue/nltk_data...\n",
      "[nltk_data]    |   Package comparative_sentences is already up-to-\n",
      "[nltk_data]    |       date!\n",
      "[nltk_data]    | Downloading package comtrans to\n",
      "[nltk_data]    |     /Users/josue/nltk_data...\n",
      "[nltk_data]    |   Package comtrans is already up-to-date!\n",
      "[nltk_data]    | Downloading package conll2000 to\n",
      "[nltk_data]    |     /Users/josue/nltk_data...\n",
      "[nltk_data]    |   Package conll2000 is already up-to-date!\n",
      "[nltk_data]    | Downloading package conll2002 to\n",
      "[nltk_data]    |     /Users/josue/nltk_data...\n",
      "[nltk_data]    |   Package conll2002 is already up-to-date!\n",
      "[nltk_data]    | Downloading package conll2007 to\n",
      "[nltk_data]    |     /Users/josue/nltk_data...\n",
      "[nltk_data]    |   Package conll2007 is already up-to-date!\n",
      "[nltk_data]    | Downloading package crubadan to\n",
      "[nltk_data]    |     /Users/josue/nltk_data...\n",
      "[nltk_data]    |   Package crubadan is already up-to-date!\n",
      "[nltk_data]    | Downloading package dependency_treebank to\n",
      "[nltk_data]    |     /Users/josue/nltk_data...\n",
      "[nltk_data]    |   Package dependency_treebank is already up-to-date!\n",
      "[nltk_data]    | Downloading package dolch to\n",
      "[nltk_data]    |     /Users/josue/nltk_data...\n",
      "[nltk_data]    |   Package dolch is already up-to-date!\n",
      "[nltk_data]    | Downloading package europarl_raw to\n",
      "[nltk_data]    |     /Users/josue/nltk_data...\n",
      "[nltk_data]    |   Package europarl_raw is already up-to-date!\n",
      "[nltk_data]    | Downloading package floresta to\n",
      "[nltk_data]    |     /Users/josue/nltk_data...\n",
      "[nltk_data]    |   Package floresta is already up-to-date!\n",
      "[nltk_data]    | Downloading package framenet_v15 to\n",
      "[nltk_data]    |     /Users/josue/nltk_data...\n",
      "[nltk_data]    |   Package framenet_v15 is already up-to-date!\n",
      "[nltk_data]    | Downloading package framenet_v17 to\n",
      "[nltk_data]    |     /Users/josue/nltk_data...\n",
      "[nltk_data]    |   Package framenet_v17 is already up-to-date!\n",
      "[nltk_data]    | Downloading package gazetteers to\n",
      "[nltk_data]    |     /Users/josue/nltk_data...\n",
      "[nltk_data]    |   Package gazetteers is already up-to-date!\n",
      "[nltk_data]    | Downloading package genesis to\n",
      "[nltk_data]    |     /Users/josue/nltk_data...\n",
      "[nltk_data]    |   Package genesis is already up-to-date!\n",
      "[nltk_data]    | Downloading package gutenberg to\n",
      "[nltk_data]    |     /Users/josue/nltk_data...\n",
      "[nltk_data]    |   Package gutenberg is already up-to-date!\n",
      "[nltk_data]    | Downloading package ieer to /Users/josue/nltk_data...\n",
      "[nltk_data]    |   Package ieer is already up-to-date!\n",
      "[nltk_data]    | Downloading package inaugural to\n",
      "[nltk_data]    |     /Users/josue/nltk_data...\n",
      "[nltk_data]    |   Package inaugural is already up-to-date!\n",
      "[nltk_data]    | Downloading package indian to\n",
      "[nltk_data]    |     /Users/josue/nltk_data...\n",
      "[nltk_data]    |   Package indian is already up-to-date!\n",
      "[nltk_data]    | Downloading package jeita to\n",
      "[nltk_data]    |     /Users/josue/nltk_data...\n",
      "[nltk_data]    |   Package jeita is already up-to-date!\n",
      "[nltk_data]    | Downloading package kimmo to\n",
      "[nltk_data]    |     /Users/josue/nltk_data...\n",
      "[nltk_data]    |   Package kimmo is already up-to-date!\n",
      "[nltk_data]    | Downloading package knbc to /Users/josue/nltk_data...\n",
      "[nltk_data]    |   Package knbc is already up-to-date!\n",
      "[nltk_data]    | Downloading package lin_thesaurus to\n",
      "[nltk_data]    |     /Users/josue/nltk_data...\n",
      "[nltk_data]    |   Package lin_thesaurus is already up-to-date!\n",
      "[nltk_data]    | Downloading package mac_morpho to\n",
      "[nltk_data]    |     /Users/josue/nltk_data...\n",
      "[nltk_data]    |   Package mac_morpho is already up-to-date!\n",
      "[nltk_data]    | Downloading package machado to\n",
      "[nltk_data]    |     /Users/josue/nltk_data...\n",
      "[nltk_data]    |   Package machado is already up-to-date!\n",
      "[nltk_data]    | Downloading package masc_tagged to\n",
      "[nltk_data]    |     /Users/josue/nltk_data...\n",
      "[nltk_data]    |   Package masc_tagged is already up-to-date!\n",
      "[nltk_data]    | Downloading package moses_sample to\n",
      "[nltk_data]    |     /Users/josue/nltk_data...\n",
      "[nltk_data]    |   Package moses_sample is already up-to-date!\n",
      "[nltk_data]    | Downloading package movie_reviews to\n",
      "[nltk_data]    |     /Users/josue/nltk_data...\n",
      "[nltk_data]    |   Package movie_reviews is already up-to-date!\n",
      "[nltk_data]    | Downloading package names to\n",
      "[nltk_data]    |     /Users/josue/nltk_data...\n",
      "[nltk_data]    |   Package names is already up-to-date!\n",
      "[nltk_data]    | Downloading package nombank.1.0 to\n",
      "[nltk_data]    |     /Users/josue/nltk_data...\n",
      "[nltk_data]    |   Package nombank.1.0 is already up-to-date!\n",
      "[nltk_data]    | Downloading package nps_chat to\n",
      "[nltk_data]    |     /Users/josue/nltk_data...\n",
      "[nltk_data]    |   Package nps_chat is already up-to-date!\n",
      "[nltk_data]    | Downloading package omw to /Users/josue/nltk_data...\n",
      "[nltk_data]    |   Package omw is already up-to-date!\n",
      "[nltk_data]    | Downloading package opinion_lexicon to\n",
      "[nltk_data]    |     /Users/josue/nltk_data...\n",
      "[nltk_data]    |   Package opinion_lexicon is already up-to-date!\n",
      "[nltk_data]    | Downloading package paradigms to\n",
      "[nltk_data]    |     /Users/josue/nltk_data...\n",
      "[nltk_data]    |   Package paradigms is already up-to-date!\n",
      "[nltk_data]    | Downloading package pil to /Users/josue/nltk_data...\n",
      "[nltk_data]    |   Package pil is already up-to-date!\n",
      "[nltk_data]    | Downloading package pl196x to\n",
      "[nltk_data]    |     /Users/josue/nltk_data...\n",
      "[nltk_data]    |   Package pl196x is already up-to-date!\n",
      "[nltk_data]    | Downloading package ppattach to\n",
      "[nltk_data]    |     /Users/josue/nltk_data...\n",
      "[nltk_data]    |   Package ppattach is already up-to-date!\n",
      "[nltk_data]    | Downloading package problem_reports to\n",
      "[nltk_data]    |     /Users/josue/nltk_data...\n",
      "[nltk_data]    |   Package problem_reports is already up-to-date!\n",
      "[nltk_data]    | Downloading package propbank to\n",
      "[nltk_data]    |     /Users/josue/nltk_data...\n",
      "[nltk_data]    |   Package propbank is already up-to-date!\n",
      "[nltk_data]    | Downloading package ptb to /Users/josue/nltk_data...\n",
      "[nltk_data]    |   Package ptb is already up-to-date!\n",
      "[nltk_data]    | Downloading package product_reviews_1 to\n",
      "[nltk_data]    |     /Users/josue/nltk_data...\n",
      "[nltk_data]    |   Package product_reviews_1 is already up-to-date!\n",
      "[nltk_data]    | Downloading package product_reviews_2 to\n",
      "[nltk_data]    |     /Users/josue/nltk_data...\n",
      "[nltk_data]    |   Package product_reviews_2 is already up-to-date!\n",
      "[nltk_data]    | Downloading package pros_cons to\n",
      "[nltk_data]    |     /Users/josue/nltk_data...\n",
      "[nltk_data]    |   Package pros_cons is already up-to-date!\n",
      "[nltk_data]    | Downloading package qc to /Users/josue/nltk_data...\n",
      "[nltk_data]    |   Package qc is already up-to-date!\n",
      "[nltk_data]    | Downloading package reuters to\n",
      "[nltk_data]    |     /Users/josue/nltk_data...\n",
      "[nltk_data]    |   Package reuters is already up-to-date!\n",
      "[nltk_data]    | Downloading package rte to /Users/josue/nltk_data...\n",
      "[nltk_data]    |   Package rte is already up-to-date!\n",
      "[nltk_data]    | Downloading package semcor to\n",
      "[nltk_data]    |     /Users/josue/nltk_data...\n",
      "[nltk_data]    |   Package semcor is already up-to-date!\n",
      "[nltk_data]    | Downloading package senseval to\n",
      "[nltk_data]    |     /Users/josue/nltk_data...\n",
      "[nltk_data]    |   Package senseval is already up-to-date!\n",
      "[nltk_data]    | Downloading package sentiwordnet to\n",
      "[nltk_data]    |     /Users/josue/nltk_data...\n",
      "[nltk_data]    |   Package sentiwordnet is already up-to-date!\n",
      "[nltk_data]    | Downloading package sentence_polarity to\n",
      "[nltk_data]    |     /Users/josue/nltk_data...\n",
      "[nltk_data]    |   Package sentence_polarity is already up-to-date!\n",
      "[nltk_data]    | Downloading package shakespeare to\n",
      "[nltk_data]    |     /Users/josue/nltk_data...\n",
      "[nltk_data]    |   Package shakespeare is already up-to-date!\n",
      "[nltk_data]    | Downloading package sinica_treebank to\n",
      "[nltk_data]    |     /Users/josue/nltk_data...\n",
      "[nltk_data]    |   Package sinica_treebank is already up-to-date!\n",
      "[nltk_data]    | Downloading package smultron to\n",
      "[nltk_data]    |     /Users/josue/nltk_data...\n",
      "[nltk_data]    |   Package smultron is already up-to-date!\n",
      "[nltk_data]    | Downloading package state_union to\n",
      "[nltk_data]    |     /Users/josue/nltk_data...\n",
      "[nltk_data]    |   Package state_union is already up-to-date!\n",
      "[nltk_data]    | Downloading package stopwords to\n",
      "[nltk_data]    |     /Users/josue/nltk_data...\n",
      "[nltk_data]    |   Unzipping corpora/stopwords.zip.\n",
      "[nltk_data]    | Downloading package subjectivity to\n",
      "[nltk_data]    |     /Users/josue/nltk_data...\n",
      "[nltk_data]    |   Package subjectivity is already up-to-date!\n",
      "[nltk_data]    | Downloading package swadesh to\n",
      "[nltk_data]    |     /Users/josue/nltk_data...\n",
      "[nltk_data]    |   Package swadesh is already up-to-date!\n",
      "[nltk_data]    | Downloading package switchboard to\n",
      "[nltk_data]    |     /Users/josue/nltk_data...\n",
      "[nltk_data]    |   Package switchboard is already up-to-date!\n",
      "[nltk_data]    | Downloading package timit to\n",
      "[nltk_data]    |     /Users/josue/nltk_data...\n"
     ]
    },
    {
     "name": "stderr",
     "output_type": "stream",
     "text": [
      "[nltk_data]    |   Package timit is already up-to-date!\n",
      "[nltk_data]    | Downloading package toolbox to\n",
      "[nltk_data]    |     /Users/josue/nltk_data...\n",
      "[nltk_data]    |   Package toolbox is already up-to-date!\n",
      "[nltk_data]    | Downloading package treebank to\n",
      "[nltk_data]    |     /Users/josue/nltk_data...\n",
      "[nltk_data]    |   Package treebank is already up-to-date!\n",
      "[nltk_data]    | Downloading package twitter_samples to\n",
      "[nltk_data]    |     /Users/josue/nltk_data...\n",
      "[nltk_data]    |   Package twitter_samples is already up-to-date!\n",
      "[nltk_data]    | Downloading package udhr to /Users/josue/nltk_data...\n",
      "[nltk_data]    |   Package udhr is already up-to-date!\n",
      "[nltk_data]    | Downloading package udhr2 to\n",
      "[nltk_data]    |     /Users/josue/nltk_data...\n",
      "[nltk_data]    |   Package udhr2 is already up-to-date!\n",
      "[nltk_data]    | Downloading package unicode_samples to\n",
      "[nltk_data]    |     /Users/josue/nltk_data...\n",
      "[nltk_data]    |   Package unicode_samples is already up-to-date!\n",
      "[nltk_data]    | Downloading package universal_treebanks_v20 to\n",
      "[nltk_data]    |     /Users/josue/nltk_data...\n",
      "[nltk_data]    |   Package universal_treebanks_v20 is already up-to-\n",
      "[nltk_data]    |       date!\n",
      "[nltk_data]    | Downloading package verbnet to\n",
      "[nltk_data]    |     /Users/josue/nltk_data...\n",
      "[nltk_data]    |   Package verbnet is already up-to-date!\n",
      "[nltk_data]    | Downloading package verbnet3 to\n",
      "[nltk_data]    |     /Users/josue/nltk_data...\n",
      "[nltk_data]    |   Package verbnet3 is already up-to-date!\n",
      "[nltk_data]    | Downloading package webtext to\n",
      "[nltk_data]    |     /Users/josue/nltk_data...\n",
      "[nltk_data]    |   Package webtext is already up-to-date!\n",
      "[nltk_data]    | Downloading package wordnet to\n",
      "[nltk_data]    |     /Users/josue/nltk_data...\n",
      "[nltk_data]    |   Package wordnet is already up-to-date!\n",
      "[nltk_data]    | Downloading package wordnet31 to\n",
      "[nltk_data]    |     /Users/josue/nltk_data...\n",
      "[nltk_data]    |   Package wordnet31 is already up-to-date!\n",
      "[nltk_data]    | Downloading package wordnet_ic to\n",
      "[nltk_data]    |     /Users/josue/nltk_data...\n",
      "[nltk_data]    |   Package wordnet_ic is already up-to-date!\n",
      "[nltk_data]    | Downloading package words to\n",
      "[nltk_data]    |     /Users/josue/nltk_data...\n",
      "[nltk_data]    |   Package words is already up-to-date!\n",
      "[nltk_data]    | Downloading package ycoe to /Users/josue/nltk_data...\n",
      "[nltk_data]    |   Package ycoe is already up-to-date!\n",
      "[nltk_data]    | Downloading package rslp to /Users/josue/nltk_data...\n",
      "[nltk_data]    |   Package rslp is already up-to-date!\n",
      "[nltk_data]    | Downloading package maxent_treebank_pos_tagger to\n",
      "[nltk_data]    |     /Users/josue/nltk_data...\n",
      "[nltk_data]    |   Package maxent_treebank_pos_tagger is already up-\n",
      "[nltk_data]    |       to-date!\n",
      "[nltk_data]    | Downloading package universal_tagset to\n",
      "[nltk_data]    |     /Users/josue/nltk_data...\n",
      "[nltk_data]    |   Package universal_tagset is already up-to-date!\n",
      "[nltk_data]    | Downloading package maxent_ne_chunker to\n",
      "[nltk_data]    |     /Users/josue/nltk_data...\n",
      "[nltk_data]    |   Package maxent_ne_chunker is already up-to-date!\n",
      "[nltk_data]    | Downloading package punkt to\n",
      "[nltk_data]    |     /Users/josue/nltk_data...\n",
      "[nltk_data]    |   Package punkt is already up-to-date!\n",
      "[nltk_data]    | Downloading package book_grammars to\n",
      "[nltk_data]    |     /Users/josue/nltk_data...\n",
      "[nltk_data]    |   Package book_grammars is already up-to-date!\n",
      "[nltk_data]    | Downloading package sample_grammars to\n",
      "[nltk_data]    |     /Users/josue/nltk_data...\n",
      "[nltk_data]    |   Package sample_grammars is already up-to-date!\n",
      "[nltk_data]    | Downloading package spanish_grammars to\n",
      "[nltk_data]    |     /Users/josue/nltk_data...\n",
      "[nltk_data]    |   Package spanish_grammars is already up-to-date!\n",
      "[nltk_data]    | Downloading package basque_grammars to\n",
      "[nltk_data]    |     /Users/josue/nltk_data...\n",
      "[nltk_data]    |   Package basque_grammars is already up-to-date!\n",
      "[nltk_data]    | Downloading package large_grammars to\n",
      "[nltk_data]    |     /Users/josue/nltk_data...\n",
      "[nltk_data]    |   Package large_grammars is already up-to-date!\n",
      "[nltk_data]    | Downloading package tagsets to\n",
      "[nltk_data]    |     /Users/josue/nltk_data...\n",
      "[nltk_data]    |   Package tagsets is already up-to-date!\n",
      "[nltk_data]    | Downloading package snowball_data to\n",
      "[nltk_data]    |     /Users/josue/nltk_data...\n",
      "[nltk_data]    |   Package snowball_data is already up-to-date!\n",
      "[nltk_data]    | Downloading package bllip_wsj_no_aux to\n",
      "[nltk_data]    |     /Users/josue/nltk_data...\n",
      "[nltk_data]    |   Package bllip_wsj_no_aux is already up-to-date!\n",
      "[nltk_data]    | Downloading package word2vec_sample to\n",
      "[nltk_data]    |     /Users/josue/nltk_data...\n",
      "[nltk_data]    |   Package word2vec_sample is already up-to-date!\n",
      "[nltk_data]    | Downloading package panlex_swadesh to\n",
      "[nltk_data]    |     /Users/josue/nltk_data...\n",
      "[nltk_data]    |   Package panlex_swadesh is already up-to-date!\n",
      "[nltk_data]    | Downloading package mte_teip5 to\n",
      "[nltk_data]    |     /Users/josue/nltk_data...\n",
      "[nltk_data]    |   Package mte_teip5 is already up-to-date!\n",
      "[nltk_data]    | Downloading package averaged_perceptron_tagger to\n",
      "[nltk_data]    |     /Users/josue/nltk_data...\n",
      "[nltk_data]    |   Package averaged_perceptron_tagger is already up-\n",
      "[nltk_data]    |       to-date!\n",
      "[nltk_data]    | Downloading package averaged_perceptron_tagger_ru to\n",
      "[nltk_data]    |     /Users/josue/nltk_data...\n",
      "[nltk_data]    |   Package averaged_perceptron_tagger_ru is already\n",
      "[nltk_data]    |       up-to-date!\n",
      "[nltk_data]    | Downloading package perluniprops to\n",
      "[nltk_data]    |     /Users/josue/nltk_data...\n",
      "[nltk_data]    |   Package perluniprops is already up-to-date!\n",
      "[nltk_data]    | Downloading package nonbreaking_prefixes to\n",
      "[nltk_data]    |     /Users/josue/nltk_data...\n",
      "[nltk_data]    |   Package nonbreaking_prefixes is already up-to-date!\n",
      "[nltk_data]    | Downloading package vader_lexicon to\n",
      "[nltk_data]    |     /Users/josue/nltk_data...\n",
      "[nltk_data]    |   Package vader_lexicon is already up-to-date!\n",
      "[nltk_data]    | Downloading package porter_test to\n",
      "[nltk_data]    |     /Users/josue/nltk_data...\n",
      "[nltk_data]    |   Package porter_test is already up-to-date!\n",
      "[nltk_data]    | Downloading package wmt15_eval to\n",
      "[nltk_data]    |     /Users/josue/nltk_data...\n",
      "[nltk_data]    |   Package wmt15_eval is already up-to-date!\n",
      "[nltk_data]    | Downloading package mwa_ppdb to\n",
      "[nltk_data]    |     /Users/josue/nltk_data...\n",
      "[nltk_data]    |   Package mwa_ppdb is already up-to-date!\n",
      "[nltk_data]    | \n",
      "[nltk_data]  Done downloading collection all\n"
     ]
    },
    {
     "data": {
      "text/plain": [
       "True"
      ]
     },
     "execution_count": 1,
     "metadata": {},
     "output_type": "execute_result"
    }
   ],
   "source": [
    "import nltk\n",
    "nltk.download('all')"
   ]
  },
  {
   "cell_type": "markdown",
   "metadata": {},
   "source": [
    "## Reading File and creating DataFrame"
   ]
  },
  {
   "cell_type": "code",
   "execution_count": 2,
   "metadata": {},
   "outputs": [],
   "source": [
    "import pandas as pd\n",
    "import numpy as np\n",
    "from tqdm import tqdm\n",
    "tqdm.pandas()\n",
    "import pickle"
   ]
  },
  {
   "cell_type": "code",
   "execution_count": 3,
   "metadata": {
    "pycharm": {
     "name": "#%%\n"
    },
    "scrolled": true
   },
   "outputs": [
    {
     "data": {
      "text/html": [
       "<div>\n",
       "<style scoped>\n",
       "    .dataframe tbody tr th:only-of-type {\n",
       "        vertical-align: middle;\n",
       "    }\n",
       "\n",
       "    .dataframe tbody tr th {\n",
       "        vertical-align: top;\n",
       "    }\n",
       "\n",
       "    .dataframe thead th {\n",
       "        text-align: right;\n",
       "    }\n",
       "</style>\n",
       "<table border=\"1\" class=\"dataframe\">\n",
       "  <thead>\n",
       "    <tr style=\"text-align: right;\">\n",
       "      <th></th>\n",
       "      <th>content</th>\n",
       "      <th>title</th>\n",
       "      <th>id</th>\n",
       "    </tr>\n",
       "  </thead>\n",
       "  <tbody>\n",
       "    <tr>\n",
       "      <th>0</th>\n",
       "      <td>Morocco–Saudi Arabia relations\\r\\n\\r\\nMoroccan...</td>\n",
       "      <td>Morocco–Saudi Arabia relations</td>\n",
       "      <td>1</td>\n",
       "    </tr>\n",
       "    <tr>\n",
       "      <th>1</th>\n",
       "      <td>Anthony United States Post Office\\r\\n\\r\\nThe A...</td>\n",
       "      <td>Anthony United States Post Office</td>\n",
       "      <td>2</td>\n",
       "    </tr>\n",
       "    <tr>\n",
       "      <th>2</th>\n",
       "      <td>Dumraon (Vidhan Sabha constituency)\\r\\n\\r\\nDum...</td>\n",
       "      <td>Dumraon  Vidhan Sabha constituency</td>\n",
       "      <td>3</td>\n",
       "    </tr>\n",
       "    <tr>\n",
       "      <th>3</th>\n",
       "      <td>Chaker Khazaal\\r\\n\\r\\nChaker Khazaal (born 28 ...</td>\n",
       "      <td>Chaker Khazaal</td>\n",
       "      <td>4</td>\n",
       "    </tr>\n",
       "    <tr>\n",
       "      <th>4</th>\n",
       "      <td>Vicente Pascual Pastor\\r\\n\\r\\nVicente Pascual ...</td>\n",
       "      <td>Vicente Pascual Pastor</td>\n",
       "      <td>5</td>\n",
       "    </tr>\n",
       "    <tr>\n",
       "      <th>...</th>\n",
       "      <td>...</td>\n",
       "      <td>...</td>\n",
       "      <td>...</td>\n",
       "    </tr>\n",
       "    <tr>\n",
       "      <th>1286259</th>\n",
       "      <td>Toppr\\r\\n\\r\\nToppr is a product of Haygot Educ...</td>\n",
       "      <td>Toppr</td>\n",
       "      <td>1286260</td>\n",
       "    </tr>\n",
       "    <tr>\n",
       "      <th>1286260</th>\n",
       "      <td>Outline of education\\r\\n\\r\\nThe following outl...</td>\n",
       "      <td>Outline of education</td>\n",
       "      <td>1286261</td>\n",
       "    </tr>\n",
       "    <tr>\n",
       "      <th>1286261</th>\n",
       "      <td>Raell Padamsee\\r\\n\\r\\nRaell Padamsee is an Ind...</td>\n",
       "      <td>Raell Padamsee</td>\n",
       "      <td>1286262</td>\n",
       "    </tr>\n",
       "    <tr>\n",
       "      <th>1286262</th>\n",
       "      <td>Megan Callaway\\r\\n\\r\\nMegan Callaway is a foun...</td>\n",
       "      <td>Megan Callaway</td>\n",
       "      <td>1286263</td>\n",
       "    </tr>\n",
       "    <tr>\n",
       "      <th>1286263</th>\n",
       "      <td>Diane Reay\\r\\n\\r\\nDiane Reay is a sociologist ...</td>\n",
       "      <td>Diane Reay</td>\n",
       "      <td>1286264</td>\n",
       "    </tr>\n",
       "  </tbody>\n",
       "</table>\n",
       "<p>1286264 rows × 3 columns</p>\n",
       "</div>"
      ],
      "text/plain": [
       "                                                   content  \\\n",
       "0        Morocco–Saudi Arabia relations\\r\\n\\r\\nMoroccan...   \n",
       "1        Anthony United States Post Office\\r\\n\\r\\nThe A...   \n",
       "2        Dumraon (Vidhan Sabha constituency)\\r\\n\\r\\nDum...   \n",
       "3        Chaker Khazaal\\r\\n\\r\\nChaker Khazaal (born 28 ...   \n",
       "4        Vicente Pascual Pastor\\r\\n\\r\\nVicente Pascual ...   \n",
       "...                                                    ...   \n",
       "1286259  Toppr\\r\\n\\r\\nToppr is a product of Haygot Educ...   \n",
       "1286260  Outline of education\\r\\n\\r\\nThe following outl...   \n",
       "1286261  Raell Padamsee\\r\\n\\r\\nRaell Padamsee is an Ind...   \n",
       "1286262  Megan Callaway\\r\\n\\r\\nMegan Callaway is a foun...   \n",
       "1286263  Diane Reay\\r\\n\\r\\nDiane Reay is a sociologist ...   \n",
       "\n",
       "                                       title       id  \n",
       "0             Morocco–Saudi Arabia relations        1  \n",
       "1          Anthony United States Post Office        2  \n",
       "2        Dumraon  Vidhan Sabha constituency         3  \n",
       "3                             Chaker Khazaal        4  \n",
       "4                     Vicente Pascual Pastor        5  \n",
       "...                                      ...      ...  \n",
       "1286259                                Toppr  1286260  \n",
       "1286260                 Outline of education  1286261  \n",
       "1286261                       Raell Padamsee  1286262  \n",
       "1286262                       Megan Callaway  1286263  \n",
       "1286263                           Diane Reay  1286264  \n",
       "\n",
       "[1286264 rows x 3 columns]"
      ]
     },
     "execution_count": 3,
     "metadata": {},
     "output_type": "execute_result"
    }
   ],
   "source": [
    "import pandas as pd\n",
    "wiki_files = pd.read_csv('wiki_sample.csv')\n",
    "wiki_dataframe = pd.DataFrame(wiki_files)\n",
    "wiki_dataframe"
   ]
  },
  {
   "cell_type": "code",
   "execution_count": 9,
   "metadata": {},
   "outputs": [
    {
     "ename": "KeyError",
     "evalue": "'tokenized_content'",
     "output_type": "error",
     "traceback": [
      "\u001B[0;31m---------------------------------------------------------------------------\u001B[0m",
      "\u001B[0;31mKeyError\u001B[0m                                  Traceback (most recent call last)",
      "\u001B[0;32m~/opt/anaconda3/envs/python3.7/lib/python3.7/site-packages/pandas/core/indexes/base.py\u001B[0m in \u001B[0;36mget_loc\u001B[0;34m(self, key, method, tolerance)\u001B[0m\n\u001B[1;32m   3360\u001B[0m             \u001B[0;32mtry\u001B[0m\u001B[0;34m:\u001B[0m\u001B[0;34m\u001B[0m\u001B[0;34m\u001B[0m\u001B[0m\n\u001B[0;32m-> 3361\u001B[0;31m                 \u001B[0;32mreturn\u001B[0m \u001B[0mself\u001B[0m\u001B[0;34m.\u001B[0m\u001B[0m_engine\u001B[0m\u001B[0;34m.\u001B[0m\u001B[0mget_loc\u001B[0m\u001B[0;34m(\u001B[0m\u001B[0mcasted_key\u001B[0m\u001B[0;34m)\u001B[0m\u001B[0;34m\u001B[0m\u001B[0;34m\u001B[0m\u001B[0m\n\u001B[0m\u001B[1;32m   3362\u001B[0m             \u001B[0;32mexcept\u001B[0m \u001B[0mKeyError\u001B[0m \u001B[0;32mas\u001B[0m \u001B[0merr\u001B[0m\u001B[0;34m:\u001B[0m\u001B[0;34m\u001B[0m\u001B[0;34m\u001B[0m\u001B[0m\n",
      "\u001B[0;32m~/opt/anaconda3/envs/python3.7/lib/python3.7/site-packages/pandas/_libs/index.pyx\u001B[0m in \u001B[0;36mpandas._libs.index.IndexEngine.get_loc\u001B[0;34m()\u001B[0m\n",
      "\u001B[0;32m~/opt/anaconda3/envs/python3.7/lib/python3.7/site-packages/pandas/_libs/index.pyx\u001B[0m in \u001B[0;36mpandas._libs.index.IndexEngine.get_loc\u001B[0;34m()\u001B[0m\n",
      "\u001B[0;32mpandas/_libs/hashtable_class_helper.pxi\u001B[0m in \u001B[0;36mpandas._libs.hashtable.PyObjectHashTable.get_item\u001B[0;34m()\u001B[0m\n",
      "\u001B[0;32mpandas/_libs/hashtable_class_helper.pxi\u001B[0m in \u001B[0;36mpandas._libs.hashtable.PyObjectHashTable.get_item\u001B[0;34m()\u001B[0m\n",
      "\u001B[0;31mKeyError\u001B[0m: 'tokenized_content'",
      "\nThe above exception was the direct cause of the following exception:\n",
      "\u001B[0;31mKeyError\u001B[0m                                  Traceback (most recent call last)",
      "\u001B[0;32m/var/folders/3n/344lt8m52hgg43g5j4q6rtwh0000gp/T/ipykernel_82299/2064337901.py\u001B[0m in \u001B[0;36m<module>\u001B[0;34m\u001B[0m\n\u001B[1;32m      1\u001B[0m \u001B[0msum\u001B[0m \u001B[0;34m=\u001B[0m \u001B[0;36m0\u001B[0m\u001B[0;34m\u001B[0m\u001B[0;34m\u001B[0m\u001B[0m\n\u001B[0;32m----> 2\u001B[0;31m \u001B[0;32mfor\u001B[0m \u001B[0mentry\u001B[0m \u001B[0;32min\u001B[0m \u001B[0mwiki_dataframe\u001B[0m\u001B[0;34m[\u001B[0m\u001B[0;34m'tokenized_content'\u001B[0m\u001B[0;34m]\u001B[0m\u001B[0;34m:\u001B[0m\u001B[0;34m\u001B[0m\u001B[0;34m\u001B[0m\u001B[0m\n\u001B[0m\u001B[1;32m      3\u001B[0m     \u001B[0msum\u001B[0m \u001B[0;34m+=\u001B[0m \u001B[0mlen\u001B[0m\u001B[0;34m(\u001B[0m\u001B[0mentry\u001B[0m\u001B[0;34m)\u001B[0m\u001B[0;34m\u001B[0m\u001B[0;34m\u001B[0m\u001B[0m\n\u001B[1;32m      4\u001B[0m \u001B[0;34m\u001B[0m\u001B[0m\n",
      "\u001B[0;32m~/opt/anaconda3/envs/python3.7/lib/python3.7/site-packages/pandas/core/frame.py\u001B[0m in \u001B[0;36m__getitem__\u001B[0;34m(self, key)\u001B[0m\n\u001B[1;32m   3453\u001B[0m             \u001B[0;32mif\u001B[0m \u001B[0mself\u001B[0m\u001B[0;34m.\u001B[0m\u001B[0mcolumns\u001B[0m\u001B[0;34m.\u001B[0m\u001B[0mnlevels\u001B[0m \u001B[0;34m>\u001B[0m \u001B[0;36m1\u001B[0m\u001B[0;34m:\u001B[0m\u001B[0;34m\u001B[0m\u001B[0;34m\u001B[0m\u001B[0m\n\u001B[1;32m   3454\u001B[0m                 \u001B[0;32mreturn\u001B[0m \u001B[0mself\u001B[0m\u001B[0;34m.\u001B[0m\u001B[0m_getitem_multilevel\u001B[0m\u001B[0;34m(\u001B[0m\u001B[0mkey\u001B[0m\u001B[0;34m)\u001B[0m\u001B[0;34m\u001B[0m\u001B[0;34m\u001B[0m\u001B[0m\n\u001B[0;32m-> 3455\u001B[0;31m             \u001B[0mindexer\u001B[0m \u001B[0;34m=\u001B[0m \u001B[0mself\u001B[0m\u001B[0;34m.\u001B[0m\u001B[0mcolumns\u001B[0m\u001B[0;34m.\u001B[0m\u001B[0mget_loc\u001B[0m\u001B[0;34m(\u001B[0m\u001B[0mkey\u001B[0m\u001B[0;34m)\u001B[0m\u001B[0;34m\u001B[0m\u001B[0;34m\u001B[0m\u001B[0m\n\u001B[0m\u001B[1;32m   3456\u001B[0m             \u001B[0;32mif\u001B[0m \u001B[0mis_integer\u001B[0m\u001B[0;34m(\u001B[0m\u001B[0mindexer\u001B[0m\u001B[0;34m)\u001B[0m\u001B[0;34m:\u001B[0m\u001B[0;34m\u001B[0m\u001B[0;34m\u001B[0m\u001B[0m\n\u001B[1;32m   3457\u001B[0m                 \u001B[0mindexer\u001B[0m \u001B[0;34m=\u001B[0m \u001B[0;34m[\u001B[0m\u001B[0mindexer\u001B[0m\u001B[0;34m]\u001B[0m\u001B[0;34m\u001B[0m\u001B[0;34m\u001B[0m\u001B[0m\n",
      "\u001B[0;32m~/opt/anaconda3/envs/python3.7/lib/python3.7/site-packages/pandas/core/indexes/base.py\u001B[0m in \u001B[0;36mget_loc\u001B[0;34m(self, key, method, tolerance)\u001B[0m\n\u001B[1;32m   3361\u001B[0m                 \u001B[0;32mreturn\u001B[0m \u001B[0mself\u001B[0m\u001B[0;34m.\u001B[0m\u001B[0m_engine\u001B[0m\u001B[0;34m.\u001B[0m\u001B[0mget_loc\u001B[0m\u001B[0;34m(\u001B[0m\u001B[0mcasted_key\u001B[0m\u001B[0;34m)\u001B[0m\u001B[0;34m\u001B[0m\u001B[0;34m\u001B[0m\u001B[0m\n\u001B[1;32m   3362\u001B[0m             \u001B[0;32mexcept\u001B[0m \u001B[0mKeyError\u001B[0m \u001B[0;32mas\u001B[0m \u001B[0merr\u001B[0m\u001B[0;34m:\u001B[0m\u001B[0;34m\u001B[0m\u001B[0;34m\u001B[0m\u001B[0m\n\u001B[0;32m-> 3363\u001B[0;31m                 \u001B[0;32mraise\u001B[0m \u001B[0mKeyError\u001B[0m\u001B[0;34m(\u001B[0m\u001B[0mkey\u001B[0m\u001B[0;34m)\u001B[0m \u001B[0;32mfrom\u001B[0m \u001B[0merr\u001B[0m\u001B[0;34m\u001B[0m\u001B[0;34m\u001B[0m\u001B[0m\n\u001B[0m\u001B[1;32m   3364\u001B[0m \u001B[0;34m\u001B[0m\u001B[0m\n\u001B[1;32m   3365\u001B[0m         \u001B[0;32mif\u001B[0m \u001B[0mis_scalar\u001B[0m\u001B[0;34m(\u001B[0m\u001B[0mkey\u001B[0m\u001B[0;34m)\u001B[0m \u001B[0;32mand\u001B[0m \u001B[0misna\u001B[0m\u001B[0;34m(\u001B[0m\u001B[0mkey\u001B[0m\u001B[0;34m)\u001B[0m \u001B[0;32mand\u001B[0m \u001B[0;32mnot\u001B[0m \u001B[0mself\u001B[0m\u001B[0;34m.\u001B[0m\u001B[0mhasnans\u001B[0m\u001B[0;34m:\u001B[0m\u001B[0;34m\u001B[0m\u001B[0;34m\u001B[0m\u001B[0m\n",
      "\u001B[0;31mKeyError\u001B[0m: 'tokenized_content'"
     ]
    }
   ],
   "source": [
    "sum = 0\n",
    "for entry in wiki_dataframe['tokenized_content']:\n",
    "    sum += len(entry)\n",
    "    "
   ]
  },
  {
   "cell_type": "code",
   "execution_count": null,
   "metadata": {},
   "outputs": [],
   "source": [
    "sum\n",
    "len(vocab)"
   ]
  },
  {
   "cell_type": "code",
   "execution_count": null,
   "metadata": {},
   "outputs": [],
   "source": [
    "total_words\n",
    "len(inv_idx)"
   ]
  },
  {
   "cell_type": "markdown",
   "metadata": {
    "pycharm": {
     "name": "#%% md\n"
    }
   },
   "source": [
    "## Preprocessing and Creating Vocab"
   ]
  },
  {
   "cell_type": "code",
   "execution_count": 4,
   "metadata": {},
   "outputs": [],
   "source": [
    "from nltk.corpus import stopwords\n",
    "from nltk.stem import WordNetLemmatizer \n",
    "import pycountry\n",
    "lemmatizer = WordNetLemmatizer()\n",
    "from names_dataset import NameDatasetV1 # v1\n",
    "names = NameDatasetV1()\n",
    "\n",
    "stop_words = set(stopwords.words('english'))\n",
    "# for domain_stop_word in domain_stop_words:\n",
    "#     stop_words.add(domain_stop_word)"
   ]
  },
  {
   "cell_type": "code",
   "execution_count": 5,
   "metadata": {
    "scrolled": true
   },
   "outputs": [
    {
     "data": {
      "text/html": [
       "<div>\n",
       "<style scoped>\n",
       "    .dataframe tbody tr th:only-of-type {\n",
       "        vertical-align: middle;\n",
       "    }\n",
       "\n",
       "    .dataframe tbody tr th {\n",
       "        vertical-align: top;\n",
       "    }\n",
       "\n",
       "    .dataframe thead th {\n",
       "        text-align: right;\n",
       "    }\n",
       "</style>\n",
       "<table border=\"1\" class=\"dataframe\">\n",
       "  <thead>\n",
       "    <tr style=\"text-align: right;\">\n",
       "      <th></th>\n",
       "      <th>Unnamed: 0</th>\n",
       "      <th>name</th>\n",
       "      <th>domain</th>\n",
       "      <th>year founded</th>\n",
       "      <th>industry</th>\n",
       "      <th>size range</th>\n",
       "      <th>locality</th>\n",
       "      <th>country</th>\n",
       "      <th>linkedin url</th>\n",
       "      <th>current employee estimate</th>\n",
       "      <th>total employee estimate</th>\n",
       "    </tr>\n",
       "  </thead>\n",
       "  <tbody>\n",
       "    <tr>\n",
       "      <th>0</th>\n",
       "      <td>5872184</td>\n",
       "      <td>ibm</td>\n",
       "      <td>ibm.com</td>\n",
       "      <td>1911.0</td>\n",
       "      <td>information technology and services</td>\n",
       "      <td>10001+</td>\n",
       "      <td>new york, new york, united states</td>\n",
       "      <td>united states</td>\n",
       "      <td>linkedin.com/company/ibm</td>\n",
       "      <td>274047</td>\n",
       "      <td>716906</td>\n",
       "    </tr>\n",
       "    <tr>\n",
       "      <th>1</th>\n",
       "      <td>4425416</td>\n",
       "      <td>tata consultancy services</td>\n",
       "      <td>tcs.com</td>\n",
       "      <td>1968.0</td>\n",
       "      <td>information technology and services</td>\n",
       "      <td>10001+</td>\n",
       "      <td>bombay, maharashtra, india</td>\n",
       "      <td>india</td>\n",
       "      <td>linkedin.com/company/tata-consultancy-services</td>\n",
       "      <td>190771</td>\n",
       "      <td>341369</td>\n",
       "    </tr>\n",
       "    <tr>\n",
       "      <th>2</th>\n",
       "      <td>21074</td>\n",
       "      <td>accenture</td>\n",
       "      <td>accenture.com</td>\n",
       "      <td>1989.0</td>\n",
       "      <td>information technology and services</td>\n",
       "      <td>10001+</td>\n",
       "      <td>dublin, dublin, ireland</td>\n",
       "      <td>ireland</td>\n",
       "      <td>linkedin.com/company/accenture</td>\n",
       "      <td>190689</td>\n",
       "      <td>455768</td>\n",
       "    </tr>\n",
       "    <tr>\n",
       "      <th>3</th>\n",
       "      <td>2309813</td>\n",
       "      <td>us army</td>\n",
       "      <td>goarmy.com</td>\n",
       "      <td>1800.0</td>\n",
       "      <td>military</td>\n",
       "      <td>10001+</td>\n",
       "      <td>alexandria, virginia, united states</td>\n",
       "      <td>united states</td>\n",
       "      <td>linkedin.com/company/us-army</td>\n",
       "      <td>162163</td>\n",
       "      <td>445958</td>\n",
       "    </tr>\n",
       "    <tr>\n",
       "      <th>4</th>\n",
       "      <td>1558607</td>\n",
       "      <td>ey</td>\n",
       "      <td>ey.com</td>\n",
       "      <td>1989.0</td>\n",
       "      <td>accounting</td>\n",
       "      <td>10001+</td>\n",
       "      <td>london, greater london, united kingdom</td>\n",
       "      <td>united kingdom</td>\n",
       "      <td>linkedin.com/company/ernstandyoung</td>\n",
       "      <td>158363</td>\n",
       "      <td>428960</td>\n",
       "    </tr>\n",
       "    <tr>\n",
       "      <th>...</th>\n",
       "      <td>...</td>\n",
       "      <td>...</td>\n",
       "      <td>...</td>\n",
       "      <td>...</td>\n",
       "      <td>...</td>\n",
       "      <td>...</td>\n",
       "      <td>...</td>\n",
       "      <td>...</td>\n",
       "      <td>...</td>\n",
       "      <td>...</td>\n",
       "      <td>...</td>\n",
       "    </tr>\n",
       "    <tr>\n",
       "      <th>7173421</th>\n",
       "      <td>1494427</td>\n",
       "      <td>certiport vouchers</td>\n",
       "      <td>certiportvouchers.com</td>\n",
       "      <td>2011.0</td>\n",
       "      <td>information technology and services</td>\n",
       "      <td>1 - 10</td>\n",
       "      <td>NaN</td>\n",
       "      <td>NaN</td>\n",
       "      <td>linkedin.com/company/certiport-vouchers</td>\n",
       "      <td>0</td>\n",
       "      <td>1</td>\n",
       "    </tr>\n",
       "    <tr>\n",
       "      <th>7173422</th>\n",
       "      <td>1494429</td>\n",
       "      <td>black tiger fight club</td>\n",
       "      <td>blacktigerclub.com</td>\n",
       "      <td>2006.0</td>\n",
       "      <td>health, wellness and fitness</td>\n",
       "      <td>1 - 10</td>\n",
       "      <td>peking, beijing, china</td>\n",
       "      <td>china</td>\n",
       "      <td>linkedin.com/company/black-tiger-club-hero</td>\n",
       "      <td>0</td>\n",
       "      <td>6</td>\n",
       "    </tr>\n",
       "    <tr>\n",
       "      <th>7173423</th>\n",
       "      <td>4768462</td>\n",
       "      <td>catholic bishop of chicago</td>\n",
       "      <td>NaN</td>\n",
       "      <td>NaN</td>\n",
       "      <td>religious institutions</td>\n",
       "      <td>1 - 10</td>\n",
       "      <td>inverness, illinois, united states</td>\n",
       "      <td>united states</td>\n",
       "      <td>linkedin.com/company/catholic-bishop-of-chicago</td>\n",
       "      <td>0</td>\n",
       "      <td>1</td>\n",
       "    </tr>\n",
       "    <tr>\n",
       "      <th>7173424</th>\n",
       "      <td>1494436</td>\n",
       "      <td>medexo robotics ltd</td>\n",
       "      <td>NaN</td>\n",
       "      <td>NaN</td>\n",
       "      <td>research</td>\n",
       "      <td>1 - 10</td>\n",
       "      <td>london, london, united kingdom</td>\n",
       "      <td>united kingdom</td>\n",
       "      <td>linkedin.com/company/medexo-robotics-ltd</td>\n",
       "      <td>0</td>\n",
       "      <td>2</td>\n",
       "    </tr>\n",
       "    <tr>\n",
       "      <th>7173425</th>\n",
       "      <td>2842728</td>\n",
       "      <td>dynamic controls solutions inc</td>\n",
       "      <td>dynamiccontrolssolutions.com</td>\n",
       "      <td>NaN</td>\n",
       "      <td>automotive</td>\n",
       "      <td>1 - 10</td>\n",
       "      <td>wixom, michigan, united states</td>\n",
       "      <td>united states</td>\n",
       "      <td>linkedin.com/company/dynamic-controls-solution...</td>\n",
       "      <td>0</td>\n",
       "      <td>1</td>\n",
       "    </tr>\n",
       "  </tbody>\n",
       "</table>\n",
       "<p>7173426 rows × 11 columns</p>\n",
       "</div>"
      ],
      "text/plain": [
       "         Unnamed: 0                            name  \\\n",
       "0           5872184                             ibm   \n",
       "1           4425416       tata consultancy services   \n",
       "2             21074                       accenture   \n",
       "3           2309813                         us army   \n",
       "4           1558607                              ey   \n",
       "...             ...                             ...   \n",
       "7173421     1494427              certiport vouchers   \n",
       "7173422     1494429          black tiger fight club   \n",
       "7173423     4768462      catholic bishop of chicago   \n",
       "7173424     1494436             medexo robotics ltd   \n",
       "7173425     2842728  dynamic controls solutions inc   \n",
       "\n",
       "                               domain  year founded  \\\n",
       "0                             ibm.com        1911.0   \n",
       "1                             tcs.com        1968.0   \n",
       "2                       accenture.com        1989.0   \n",
       "3                          goarmy.com        1800.0   \n",
       "4                              ey.com        1989.0   \n",
       "...                               ...           ...   \n",
       "7173421         certiportvouchers.com        2011.0   \n",
       "7173422            blacktigerclub.com        2006.0   \n",
       "7173423                           NaN           NaN   \n",
       "7173424                           NaN           NaN   \n",
       "7173425  dynamiccontrolssolutions.com           NaN   \n",
       "\n",
       "                                    industry size range  \\\n",
       "0        information technology and services     10001+   \n",
       "1        information technology and services     10001+   \n",
       "2        information technology and services     10001+   \n",
       "3                                   military     10001+   \n",
       "4                                 accounting     10001+   \n",
       "...                                      ...        ...   \n",
       "7173421  information technology and services     1 - 10   \n",
       "7173422         health, wellness and fitness     1 - 10   \n",
       "7173423               religious institutions     1 - 10   \n",
       "7173424                             research     1 - 10   \n",
       "7173425                           automotive     1 - 10   \n",
       "\n",
       "                                       locality         country  \\\n",
       "0             new york, new york, united states   united states   \n",
       "1                    bombay, maharashtra, india           india   \n",
       "2                       dublin, dublin, ireland         ireland   \n",
       "3           alexandria, virginia, united states   united states   \n",
       "4        london, greater london, united kingdom  united kingdom   \n",
       "...                                         ...             ...   \n",
       "7173421                                     NaN             NaN   \n",
       "7173422                  peking, beijing, china           china   \n",
       "7173423      inverness, illinois, united states   united states   \n",
       "7173424          london, london, united kingdom  united kingdom   \n",
       "7173425          wixom, michigan, united states   united states   \n",
       "\n",
       "                                              linkedin url  \\\n",
       "0                                 linkedin.com/company/ibm   \n",
       "1           linkedin.com/company/tata-consultancy-services   \n",
       "2                           linkedin.com/company/accenture   \n",
       "3                             linkedin.com/company/us-army   \n",
       "4                       linkedin.com/company/ernstandyoung   \n",
       "...                                                    ...   \n",
       "7173421            linkedin.com/company/certiport-vouchers   \n",
       "7173422         linkedin.com/company/black-tiger-club-hero   \n",
       "7173423    linkedin.com/company/catholic-bishop-of-chicago   \n",
       "7173424           linkedin.com/company/medexo-robotics-ltd   \n",
       "7173425  linkedin.com/company/dynamic-controls-solution...   \n",
       "\n",
       "         current employee estimate  total employee estimate  \n",
       "0                           274047                   716906  \n",
       "1                           190771                   341369  \n",
       "2                           190689                   455768  \n",
       "3                           162163                   445958  \n",
       "4                           158363                   428960  \n",
       "...                            ...                      ...  \n",
       "7173421                          0                        1  \n",
       "7173422                          0                        6  \n",
       "7173423                          0                        1  \n",
       "7173424                          0                        2  \n",
       "7173425                          0                        1  \n",
       "\n",
       "[7173426 rows x 11 columns]"
      ]
     },
     "execution_count": 5,
     "metadata": {},
     "output_type": "execute_result"
    }
   ],
   "source": [
    "import pandas as pd\n",
    "companies_file = pd.read_csv('companies_sorted.csv')\n",
    "companies_dataframe = pd.DataFrame(companies_file)\n",
    "companies_dataframe"
   ]
  },
  {
   "cell_type": "code",
   "execution_count": 6,
   "metadata": {},
   "outputs": [],
   "source": [
    "companies = set(companies_dataframe['name'])"
   ]
  },
  {
   "cell_type": "code",
   "execution_count": 7,
   "metadata": {},
   "outputs": [],
   "source": [
    "stop_words = set(stopwords.words('english'))"
   ]
  },
  {
   "cell_type": "code",
   "execution_count": 8,
   "metadata": {},
   "outputs": [],
   "source": [
    "words = set(nltk.corpus.words.words())\n",
    "lowerCasedWords = map(lambda word: word.lower(), nltk.corpus.words.words())\n",
    "lowerCasedWords = set(list(lowerCasedWords))\n",
    "for country in list(pycountry.countries):\n",
    "    lowerCasedWords.add(country.name.lower())\n",
    "for company in companies:\n",
    "    lowerCasedWords.add(str(company).lower())"
   ]
  },
  {
   "cell_type": "code",
   "execution_count": 9,
   "metadata": {},
   "outputs": [],
   "source": [
    "# lemmatization, lowercase, remove non alpha, remove non-english, remove numbers and stopword removal\n",
    "rejected_content = []\n",
    "def preprocess_vocab(row, lenTitle):\n",
    "    filtered_content = []\n",
    "    for token in nltk.word_tokenize(row['content'][lenTitle:]):\n",
    "        token = lemmatizer.lemmatize(token).lower()\n",
    "        if names.search_first_name(token) or names.search_last_name(token) or ((token in lowerCasedWords) and (token not in stop_words) and (token.isalpha())):\n",
    "            filtered_content.append(token) \n",
    "        else:\n",
    "            rejected_content.append(token)\n",
    "        \n",
    "    return filtered_content"
   ]
  },
  {
   "cell_type": "code",
   "execution_count": 10,
   "metadata": {},
   "outputs": [],
   "source": [
    "# no preprocessing\n",
    "rejected_content = []\n",
    "def preprocess_vocab(row, lenTitle):\n",
    "    filtered_content = []\n",
    "    for token in nltk.word_tokenize(row['content'][lenTitle:]):\n",
    "        filtered_content.append(token) \n",
    "    return filtered_content"
   ]
  },
  {
   "cell_type": "code",
   "execution_count": 11,
   "metadata": {},
   "outputs": [],
   "source": [
    "# just lemmatizing\n",
    "rejected_content = []\n",
    "def preprocess_vocab_lemmatize(row, lenTitle):\n",
    "    filtered_content = []\n",
    "    for token in nltk.word_tokenize(row['content'][lenTitle:]):\n",
    "        token = lemmatizer.lemmatize(token)\n",
    "        filtered_content.append(token) \n",
    "    return filtered_content"
   ]
  },
  {
   "cell_type": "code",
   "execution_count": 12,
   "metadata": {},
   "outputs": [],
   "source": [
    "# just lowercasing\n",
    "rejected_content = []\n",
    "def preprocess_vocab_lowercase(row, lenTitle):\n",
    "    filtered_content = []\n",
    "    for token in nltk.word_tokenize(row['content'][lenTitle:]):\n",
    "        token = token.lower()\n",
    "        filtered_content.append(token) \n",
    "    return filtered_content"
   ]
  },
  {
   "cell_type": "code",
   "execution_count": 13,
   "metadata": {},
   "outputs": [],
   "source": [
    "# just alpha filtering\n",
    "rejected_content = []\n",
    "def preprocess_vocab_alphafilter(row, lenTitle):\n",
    "    filtered_content = []\n",
    "    for token in nltk.word_tokenize(row['content'][lenTitle:]):\n",
    "        if token.isalpha():\n",
    "            filtered_content.append(token) \n",
    "    return filtered_content"
   ]
  },
  {
   "cell_type": "code",
   "execution_count": 14,
   "metadata": {},
   "outputs": [],
   "source": [
    "# just stopword removal\n",
    "rejected_content = []\n",
    "def preprocess_vocab_stopwordremoval(row, lenTitle):\n",
    "    filtered_content = []\n",
    "    for token in nltk.word_tokenize(row['content'][lenTitle:]):\n",
    "        if token not in stopwords:\n",
    "            filtered_content.append(token) \n",
    "    return filtered_content"
   ]
  },
  {
   "cell_type": "code",
   "execution_count": 15,
   "metadata": {},
   "outputs": [],
   "source": [
    "#just checking for first/last/country/company name\n",
    "rejected_content = []\n",
    "def preprocess_vocab_corpus(row, lenTitle):\n",
    "    filtered_content = []\n",
    "    for token in nltk.word_tokenize(row['content'][lenTitle:]):\n",
    "        if names.search_first_name(token) or names.search_last_name(token) or (token in lowerCasedWords):\n",
    "            filtered_content.append(token) \n",
    "    return filtered_content"
   ]
  },
  {
   "cell_type": "code",
   "execution_count": 19,
   "metadata": {},
   "outputs": [
    {
     "name": "stderr",
     "output_type": "stream",
     "text": [
      "100%|████████████████████████████████| 1286264/1286264 [31:21<00:00, 683.50it/s]\n"
     ]
    }
   ],
   "source": [
    "wiki_dataframe['tokenized_content'] = wiki_dataframe.progress_apply(lambda row: preprocess_vocab(row, len(row['title'])), axis=1)"
   ]
  },
  {
   "cell_type": "code",
   "execution_count": 20,
   "metadata": {},
   "outputs": [
    {
     "name": "stderr",
     "output_type": "stream",
     "text": [
      "100%|███████████████████████████████| 1286264/1286264 [03:36<00:00, 5930.19it/s]\n"
     ]
    },
    {
     "data": {
      "text/plain": [
       "2936354"
      ]
     },
     "execution_count": 20,
     "metadata": {},
     "output_type": "execute_result"
    }
   ],
   "source": [
    "from collections import defaultdict\n",
    "from collections import Counter\n",
    "\n",
    "inv_idx = defaultdict(list)\n",
    "vocab = set()\n",
    "heaps_law_dataset = list()\n",
    "\n",
    "most_freq = []\n",
    "id = 1\n",
    "total_words = 0\n",
    "for document in tqdm(wiki_dataframe['tokenized_content']):\n",
    "    counter = Counter(document)\n",
    "    most_occur = counter.most_common(1)\n",
    "    most_freq.append(most_occur)\n",
    "    heaps_law_dataset.append((total_words, len(vocab)))\n",
    "    for word in document:\n",
    "        inv_idx[word].append(id)\n",
    "        total_words += 1\n",
    "        vocab.add(word)\n",
    "    id +=1\n",
    "len(vocab)"
   ]
  },
  {
   "cell_type": "code",
   "execution_count": 16,
   "metadata": {},
   "outputs": [
    {
     "name": "stderr",
     "output_type": "stream",
     "text": [
      "100%|██████████| 1286264/1286264 [41:04<00:00, 521.93it/s] \n"
     ]
    }
   ],
   "source": [
    "wiki_dataframe['tokenized_content_lemmatize'] = wiki_dataframe.progress_apply(lambda row: preprocess_vocab_lemmatize(row, len(row['title'])), axis=1)"
   ]
  },
  {
   "cell_type": "code",
   "execution_count": 17,
   "metadata": {},
   "outputs": [
    {
     "name": "stderr",
     "output_type": "stream",
     "text": [
      "100%|██████████| 1286264/1286264 [04:50<00:00, 4425.32it/s] \n"
     ]
    },
    {
     "data": {
      "text/plain": [
       "2912918"
      ]
     },
     "execution_count": 17,
     "metadata": {},
     "output_type": "execute_result"
    }
   ],
   "source": [
    "from collections import defaultdict\n",
    "from collections import Counter\n",
    "\n",
    "inv_idx = defaultdict(list)\n",
    "vocab = set()\n",
    "heaps_law_dataset = list()\n",
    "\n",
    "most_freq = []\n",
    "id = 1\n",
    "total_words = 0\n",
    "for document in tqdm(wiki_dataframe['tokenized_content_lemmatize']):\n",
    "    counter = Counter(document)\n",
    "    most_occur = counter.most_common(1)\n",
    "    most_freq.append(most_occur)\n",
    "    heaps_law_dataset.append((total_words, len(vocab)))\n",
    "    for word in document:\n",
    "        inv_idx[word].append(id)\n",
    "        total_words += 1\n",
    "        vocab.add(word)\n",
    "    id +=1\n",
    "len(vocab)"
   ]
  },
  {
   "cell_type": "code",
   "execution_count": 18,
   "metadata": {},
   "outputs": [
    {
     "name": "stderr",
     "output_type": "stream",
     "text": [
      "100%|██████████| 1286264/1286264 [30:53<00:00, 693.82it/s]  \n"
     ]
    }
   ],
   "source": [
    "wiki_dataframe['tokenized_content_lowercase'] = wiki_dataframe.progress_apply(lambda row: preprocess_vocab_lowercase(row, len(row['title'])), axis=1)"
   ]
  },
  {
   "cell_type": "code",
   "execution_count": 19,
   "metadata": {},
   "outputs": [
    {
     "name": "stderr",
     "output_type": "stream",
     "text": [
      "100%|██████████| 1286264/1286264 [18:38<00:00, 1150.10it/s] \n"
     ]
    },
    {
     "data": {
      "text/plain": [
       "2666377"
      ]
     },
     "execution_count": 19,
     "metadata": {},
     "output_type": "execute_result"
    }
   ],
   "source": [
    "from collections import defaultdict\n",
    "from collections import Counter\n",
    "\n",
    "inv_idx = defaultdict(list)\n",
    "vocab = set()\n",
    "heaps_law_dataset = list()\n",
    "\n",
    "most_freq = []\n",
    "id = 1\n",
    "total_words = 0\n",
    "for document in tqdm(wiki_dataframe['tokenized_content_lowercase']):\n",
    "    counter = Counter(document)\n",
    "    most_occur = counter.most_common(1)\n",
    "    most_freq.append(most_occur)\n",
    "    heaps_law_dataset.append((total_words, len(vocab)))\n",
    "    for word in document:\n",
    "        inv_idx[word].append(id)\n",
    "        total_words += 1\n",
    "        vocab.add(word)\n",
    "    id +=1\n",
    "len(vocab)"
   ]
  },
  {
   "cell_type": "code",
   "execution_count": 20,
   "metadata": {},
   "outputs": [
    {
     "name": "stderr",
     "output_type": "stream",
     "text": [
      " 82%|████████▏ | 1051757/1286264 [24:07<05:22, 726.49it/s] \n"
     ]
    },
    {
     "ename": "KeyboardInterrupt",
     "evalue": "",
     "output_type": "error",
     "traceback": [
      "\u001B[0;31m---------------------------------------------------------------------------\u001B[0m",
      "\u001B[0;31mKeyboardInterrupt\u001B[0m                         Traceback (most recent call last)",
      "\u001B[0;32m<ipython-input-20-ab84b2728dcd>\u001B[0m in \u001B[0;36m<module>\u001B[0;34m\u001B[0m\n\u001B[0;32m----> 1\u001B[0;31m \u001B[0mwiki_dataframe\u001B[0m\u001B[0;34m[\u001B[0m\u001B[0;34m'tokenized_content_alphafilter'\u001B[0m\u001B[0;34m]\u001B[0m \u001B[0;34m=\u001B[0m \u001B[0mwiki_dataframe\u001B[0m\u001B[0;34m.\u001B[0m\u001B[0mprogress_apply\u001B[0m\u001B[0;34m(\u001B[0m\u001B[0;32mlambda\u001B[0m \u001B[0mrow\u001B[0m\u001B[0;34m:\u001B[0m \u001B[0mpreprocess_vocab_alphafilter\u001B[0m\u001B[0;34m(\u001B[0m\u001B[0mrow\u001B[0m\u001B[0;34m,\u001B[0m \u001B[0mlen\u001B[0m\u001B[0;34m(\u001B[0m\u001B[0mrow\u001B[0m\u001B[0;34m[\u001B[0m\u001B[0;34m'title'\u001B[0m\u001B[0;34m]\u001B[0m\u001B[0;34m)\u001B[0m\u001B[0;34m)\u001B[0m\u001B[0;34m,\u001B[0m \u001B[0maxis\u001B[0m\u001B[0;34m=\u001B[0m\u001B[0;36m1\u001B[0m\u001B[0;34m)\u001B[0m\u001B[0;34m\u001B[0m\u001B[0;34m\u001B[0m\u001B[0m\n\u001B[0m",
      "\u001B[0;32m~/opt/anaconda3/lib/python3.8/site-packages/tqdm/std.py\u001B[0m in \u001B[0;36minner\u001B[0;34m(df, func, *args, **kwargs)\u001B[0m\n\u001B[1;32m    808\u001B[0m                 \u001B[0;31m# on the df using our wrapper (which provides bar updating)\u001B[0m\u001B[0;34m\u001B[0m\u001B[0;34m\u001B[0m\u001B[0;34m\u001B[0m\u001B[0m\n\u001B[1;32m    809\u001B[0m                 \u001B[0;32mtry\u001B[0m\u001B[0;34m:\u001B[0m\u001B[0;34m\u001B[0m\u001B[0;34m\u001B[0m\u001B[0m\n\u001B[0;32m--> 810\u001B[0;31m                     \u001B[0;32mreturn\u001B[0m \u001B[0mgetattr\u001B[0m\u001B[0;34m(\u001B[0m\u001B[0mdf\u001B[0m\u001B[0;34m,\u001B[0m \u001B[0mdf_function\u001B[0m\u001B[0;34m)\u001B[0m\u001B[0;34m(\u001B[0m\u001B[0mwrapper\u001B[0m\u001B[0;34m,\u001B[0m \u001B[0;34m**\u001B[0m\u001B[0mkwargs\u001B[0m\u001B[0;34m)\u001B[0m\u001B[0;34m\u001B[0m\u001B[0;34m\u001B[0m\u001B[0m\n\u001B[0m\u001B[1;32m    811\u001B[0m                 \u001B[0;32mfinally\u001B[0m\u001B[0;34m:\u001B[0m\u001B[0;34m\u001B[0m\u001B[0;34m\u001B[0m\u001B[0m\n\u001B[1;32m    812\u001B[0m                     \u001B[0mt\u001B[0m\u001B[0;34m.\u001B[0m\u001B[0mclose\u001B[0m\u001B[0;34m(\u001B[0m\u001B[0;34m)\u001B[0m\u001B[0;34m\u001B[0m\u001B[0;34m\u001B[0m\u001B[0m\n",
      "\u001B[0;32m~/opt/anaconda3/lib/python3.8/site-packages/pandas/core/frame.py\u001B[0m in \u001B[0;36mapply\u001B[0;34m(self, func, axis, raw, result_type, args, **kwds)\u001B[0m\n\u001B[1;32m   7766\u001B[0m             \u001B[0mkwds\u001B[0m\u001B[0;34m=\u001B[0m\u001B[0mkwds\u001B[0m\u001B[0;34m,\u001B[0m\u001B[0;34m\u001B[0m\u001B[0;34m\u001B[0m\u001B[0m\n\u001B[1;32m   7767\u001B[0m         )\n\u001B[0;32m-> 7768\u001B[0;31m         \u001B[0;32mreturn\u001B[0m \u001B[0mop\u001B[0m\u001B[0;34m.\u001B[0m\u001B[0mget_result\u001B[0m\u001B[0;34m(\u001B[0m\u001B[0;34m)\u001B[0m\u001B[0;34m\u001B[0m\u001B[0;34m\u001B[0m\u001B[0m\n\u001B[0m\u001B[1;32m   7769\u001B[0m \u001B[0;34m\u001B[0m\u001B[0m\n\u001B[1;32m   7770\u001B[0m     \u001B[0;32mdef\u001B[0m \u001B[0mapplymap\u001B[0m\u001B[0;34m(\u001B[0m\u001B[0mself\u001B[0m\u001B[0;34m,\u001B[0m \u001B[0mfunc\u001B[0m\u001B[0;34m,\u001B[0m \u001B[0mna_action\u001B[0m\u001B[0;34m:\u001B[0m \u001B[0mOptional\u001B[0m\u001B[0;34m[\u001B[0m\u001B[0mstr\u001B[0m\u001B[0;34m]\u001B[0m \u001B[0;34m=\u001B[0m \u001B[0;32mNone\u001B[0m\u001B[0;34m)\u001B[0m \u001B[0;34m->\u001B[0m \u001B[0mDataFrame\u001B[0m\u001B[0;34m:\u001B[0m\u001B[0;34m\u001B[0m\u001B[0;34m\u001B[0m\u001B[0m\n",
      "\u001B[0;32m~/opt/anaconda3/lib/python3.8/site-packages/pandas/core/apply.py\u001B[0m in \u001B[0;36mget_result\u001B[0;34m(self)\u001B[0m\n\u001B[1;32m    183\u001B[0m             \u001B[0;32mreturn\u001B[0m \u001B[0mself\u001B[0m\u001B[0;34m.\u001B[0m\u001B[0mapply_raw\u001B[0m\u001B[0;34m(\u001B[0m\u001B[0;34m)\u001B[0m\u001B[0;34m\u001B[0m\u001B[0;34m\u001B[0m\u001B[0m\n\u001B[1;32m    184\u001B[0m \u001B[0;34m\u001B[0m\u001B[0m\n\u001B[0;32m--> 185\u001B[0;31m         \u001B[0;32mreturn\u001B[0m \u001B[0mself\u001B[0m\u001B[0;34m.\u001B[0m\u001B[0mapply_standard\u001B[0m\u001B[0;34m(\u001B[0m\u001B[0;34m)\u001B[0m\u001B[0;34m\u001B[0m\u001B[0;34m\u001B[0m\u001B[0m\n\u001B[0m\u001B[1;32m    186\u001B[0m \u001B[0;34m\u001B[0m\u001B[0m\n\u001B[1;32m    187\u001B[0m     \u001B[0;32mdef\u001B[0m \u001B[0mapply_empty_result\u001B[0m\u001B[0;34m(\u001B[0m\u001B[0mself\u001B[0m\u001B[0;34m)\u001B[0m\u001B[0;34m:\u001B[0m\u001B[0;34m\u001B[0m\u001B[0;34m\u001B[0m\u001B[0m\n",
      "\u001B[0;32m~/opt/anaconda3/lib/python3.8/site-packages/pandas/core/apply.py\u001B[0m in \u001B[0;36mapply_standard\u001B[0;34m(self)\u001B[0m\n\u001B[1;32m    274\u001B[0m \u001B[0;34m\u001B[0m\u001B[0m\n\u001B[1;32m    275\u001B[0m     \u001B[0;32mdef\u001B[0m \u001B[0mapply_standard\u001B[0m\u001B[0;34m(\u001B[0m\u001B[0mself\u001B[0m\u001B[0;34m)\u001B[0m\u001B[0;34m:\u001B[0m\u001B[0;34m\u001B[0m\u001B[0;34m\u001B[0m\u001B[0m\n\u001B[0;32m--> 276\u001B[0;31m         \u001B[0mresults\u001B[0m\u001B[0;34m,\u001B[0m \u001B[0mres_index\u001B[0m \u001B[0;34m=\u001B[0m \u001B[0mself\u001B[0m\u001B[0;34m.\u001B[0m\u001B[0mapply_series_generator\u001B[0m\u001B[0;34m(\u001B[0m\u001B[0;34m)\u001B[0m\u001B[0;34m\u001B[0m\u001B[0;34m\u001B[0m\u001B[0m\n\u001B[0m\u001B[1;32m    277\u001B[0m \u001B[0;34m\u001B[0m\u001B[0m\n\u001B[1;32m    278\u001B[0m         \u001B[0;31m# wrap results\u001B[0m\u001B[0;34m\u001B[0m\u001B[0;34m\u001B[0m\u001B[0;34m\u001B[0m\u001B[0m\n",
      "\u001B[0;32m~/opt/anaconda3/lib/python3.8/site-packages/pandas/core/apply.py\u001B[0m in \u001B[0;36mapply_series_generator\u001B[0;34m(self)\u001B[0m\n\u001B[1;32m    288\u001B[0m             \u001B[0;32mfor\u001B[0m \u001B[0mi\u001B[0m\u001B[0;34m,\u001B[0m \u001B[0mv\u001B[0m \u001B[0;32min\u001B[0m \u001B[0menumerate\u001B[0m\u001B[0;34m(\u001B[0m\u001B[0mseries_gen\u001B[0m\u001B[0;34m)\u001B[0m\u001B[0;34m:\u001B[0m\u001B[0;34m\u001B[0m\u001B[0;34m\u001B[0m\u001B[0m\n\u001B[1;32m    289\u001B[0m                 \u001B[0;31m# ignore SettingWithCopy here in case the user mutates\u001B[0m\u001B[0;34m\u001B[0m\u001B[0;34m\u001B[0m\u001B[0;34m\u001B[0m\u001B[0m\n\u001B[0;32m--> 290\u001B[0;31m                 \u001B[0mresults\u001B[0m\u001B[0;34m[\u001B[0m\u001B[0mi\u001B[0m\u001B[0;34m]\u001B[0m \u001B[0;34m=\u001B[0m \u001B[0mself\u001B[0m\u001B[0;34m.\u001B[0m\u001B[0mf\u001B[0m\u001B[0;34m(\u001B[0m\u001B[0mv\u001B[0m\u001B[0;34m)\u001B[0m\u001B[0;34m\u001B[0m\u001B[0;34m\u001B[0m\u001B[0m\n\u001B[0m\u001B[1;32m    291\u001B[0m                 \u001B[0;32mif\u001B[0m \u001B[0misinstance\u001B[0m\u001B[0;34m(\u001B[0m\u001B[0mresults\u001B[0m\u001B[0;34m[\u001B[0m\u001B[0mi\u001B[0m\u001B[0;34m]\u001B[0m\u001B[0;34m,\u001B[0m \u001B[0mABCSeries\u001B[0m\u001B[0;34m)\u001B[0m\u001B[0;34m:\u001B[0m\u001B[0;34m\u001B[0m\u001B[0;34m\u001B[0m\u001B[0m\n\u001B[1;32m    292\u001B[0m                     \u001B[0;31m# If we have a view on v, we need to make a copy because\u001B[0m\u001B[0;34m\u001B[0m\u001B[0;34m\u001B[0m\u001B[0;34m\u001B[0m\u001B[0m\n",
      "\u001B[0;32m~/opt/anaconda3/lib/python3.8/site-packages/tqdm/std.py\u001B[0m in \u001B[0;36mwrapper\u001B[0;34m(*args, **kwargs)\u001B[0m\n\u001B[1;32m    803\u001B[0m                     \u001B[0;31m# take a fast or slow code path; so stop when t.total==t.n\u001B[0m\u001B[0;34m\u001B[0m\u001B[0;34m\u001B[0m\u001B[0;34m\u001B[0m\u001B[0m\n\u001B[1;32m    804\u001B[0m                     \u001B[0mt\u001B[0m\u001B[0;34m.\u001B[0m\u001B[0mupdate\u001B[0m\u001B[0;34m(\u001B[0m\u001B[0mn\u001B[0m\u001B[0;34m=\u001B[0m\u001B[0;36m1\u001B[0m \u001B[0;32mif\u001B[0m \u001B[0;32mnot\u001B[0m \u001B[0mt\u001B[0m\u001B[0;34m.\u001B[0m\u001B[0mtotal\u001B[0m \u001B[0;32mor\u001B[0m \u001B[0mt\u001B[0m\u001B[0;34m.\u001B[0m\u001B[0mn\u001B[0m \u001B[0;34m<\u001B[0m \u001B[0mt\u001B[0m\u001B[0;34m.\u001B[0m\u001B[0mtotal\u001B[0m \u001B[0;32melse\u001B[0m \u001B[0;36m0\u001B[0m\u001B[0;34m)\u001B[0m\u001B[0;34m\u001B[0m\u001B[0;34m\u001B[0m\u001B[0m\n\u001B[0;32m--> 805\u001B[0;31m                     \u001B[0;32mreturn\u001B[0m \u001B[0mfunc\u001B[0m\u001B[0;34m(\u001B[0m\u001B[0;34m*\u001B[0m\u001B[0margs\u001B[0m\u001B[0;34m,\u001B[0m \u001B[0;34m**\u001B[0m\u001B[0mkwargs\u001B[0m\u001B[0;34m)\u001B[0m\u001B[0;34m\u001B[0m\u001B[0;34m\u001B[0m\u001B[0m\n\u001B[0m\u001B[1;32m    806\u001B[0m \u001B[0;34m\u001B[0m\u001B[0m\n\u001B[1;32m    807\u001B[0m                 \u001B[0;31m# Apply the provided function (in **kwargs)\u001B[0m\u001B[0;34m\u001B[0m\u001B[0;34m\u001B[0m\u001B[0;34m\u001B[0m\u001B[0m\n",
      "\u001B[0;32m<ipython-input-20-ab84b2728dcd>\u001B[0m in \u001B[0;36m<lambda>\u001B[0;34m(row)\u001B[0m\n\u001B[0;32m----> 1\u001B[0;31m \u001B[0mwiki_dataframe\u001B[0m\u001B[0;34m[\u001B[0m\u001B[0;34m'tokenized_content_alphafilter'\u001B[0m\u001B[0;34m]\u001B[0m \u001B[0;34m=\u001B[0m \u001B[0mwiki_dataframe\u001B[0m\u001B[0;34m.\u001B[0m\u001B[0mprogress_apply\u001B[0m\u001B[0;34m(\u001B[0m\u001B[0;32mlambda\u001B[0m \u001B[0mrow\u001B[0m\u001B[0;34m:\u001B[0m \u001B[0mpreprocess_vocab_alphafilter\u001B[0m\u001B[0;34m(\u001B[0m\u001B[0mrow\u001B[0m\u001B[0;34m,\u001B[0m \u001B[0mlen\u001B[0m\u001B[0;34m(\u001B[0m\u001B[0mrow\u001B[0m\u001B[0;34m[\u001B[0m\u001B[0;34m'title'\u001B[0m\u001B[0;34m]\u001B[0m\u001B[0;34m)\u001B[0m\u001B[0;34m)\u001B[0m\u001B[0;34m,\u001B[0m \u001B[0maxis\u001B[0m\u001B[0;34m=\u001B[0m\u001B[0;36m1\u001B[0m\u001B[0;34m)\u001B[0m\u001B[0;34m\u001B[0m\u001B[0;34m\u001B[0m\u001B[0m\n\u001B[0m",
      "\u001B[0;32m<ipython-input-13-e44993b47db7>\u001B[0m in \u001B[0;36mpreprocess_vocab_alphafilter\u001B[0;34m(row, lenTitle)\u001B[0m\n\u001B[1;32m      3\u001B[0m \u001B[0;32mdef\u001B[0m \u001B[0mpreprocess_vocab_alphafilter\u001B[0m\u001B[0;34m(\u001B[0m\u001B[0mrow\u001B[0m\u001B[0;34m,\u001B[0m \u001B[0mlenTitle\u001B[0m\u001B[0;34m)\u001B[0m\u001B[0;34m:\u001B[0m\u001B[0;34m\u001B[0m\u001B[0;34m\u001B[0m\u001B[0m\n\u001B[1;32m      4\u001B[0m     \u001B[0mfiltered_content\u001B[0m \u001B[0;34m=\u001B[0m \u001B[0;34m[\u001B[0m\u001B[0;34m]\u001B[0m\u001B[0;34m\u001B[0m\u001B[0;34m\u001B[0m\u001B[0m\n\u001B[0;32m----> 5\u001B[0;31m     \u001B[0;32mfor\u001B[0m \u001B[0mtoken\u001B[0m \u001B[0;32min\u001B[0m \u001B[0mnltk\u001B[0m\u001B[0;34m.\u001B[0m\u001B[0mword_tokenize\u001B[0m\u001B[0;34m(\u001B[0m\u001B[0mrow\u001B[0m\u001B[0;34m[\u001B[0m\u001B[0;34m'content'\u001B[0m\u001B[0;34m]\u001B[0m\u001B[0;34m[\u001B[0m\u001B[0mlenTitle\u001B[0m\u001B[0;34m:\u001B[0m\u001B[0;34m]\u001B[0m\u001B[0;34m)\u001B[0m\u001B[0;34m:\u001B[0m\u001B[0;34m\u001B[0m\u001B[0;34m\u001B[0m\u001B[0m\n\u001B[0m\u001B[1;32m      6\u001B[0m         \u001B[0;32mif\u001B[0m \u001B[0mtoken\u001B[0m\u001B[0;34m.\u001B[0m\u001B[0misalpha\u001B[0m\u001B[0;34m(\u001B[0m\u001B[0;34m)\u001B[0m\u001B[0;34m:\u001B[0m\u001B[0;34m\u001B[0m\u001B[0;34m\u001B[0m\u001B[0m\n\u001B[1;32m      7\u001B[0m             \u001B[0mfiltered_content\u001B[0m\u001B[0;34m.\u001B[0m\u001B[0mappend\u001B[0m\u001B[0;34m(\u001B[0m\u001B[0mtoken\u001B[0m\u001B[0;34m)\u001B[0m\u001B[0;34m\u001B[0m\u001B[0;34m\u001B[0m\u001B[0m\n",
      "\u001B[0;32m~/opt/anaconda3/lib/python3.8/site-packages/nltk/tokenize/__init__.py\u001B[0m in \u001B[0;36mword_tokenize\u001B[0;34m(text, language, preserve_line)\u001B[0m\n\u001B[1;32m    129\u001B[0m     \"\"\"\n\u001B[1;32m    130\u001B[0m     \u001B[0msentences\u001B[0m \u001B[0;34m=\u001B[0m \u001B[0;34m[\u001B[0m\u001B[0mtext\u001B[0m\u001B[0;34m]\u001B[0m \u001B[0;32mif\u001B[0m \u001B[0mpreserve_line\u001B[0m \u001B[0;32melse\u001B[0m \u001B[0msent_tokenize\u001B[0m\u001B[0;34m(\u001B[0m\u001B[0mtext\u001B[0m\u001B[0;34m,\u001B[0m \u001B[0mlanguage\u001B[0m\u001B[0;34m)\u001B[0m\u001B[0;34m\u001B[0m\u001B[0;34m\u001B[0m\u001B[0m\n\u001B[0;32m--> 131\u001B[0;31m     return [\n\u001B[0m\u001B[1;32m    132\u001B[0m         \u001B[0mtoken\u001B[0m \u001B[0;32mfor\u001B[0m \u001B[0msent\u001B[0m \u001B[0;32min\u001B[0m \u001B[0msentences\u001B[0m \u001B[0;32mfor\u001B[0m \u001B[0mtoken\u001B[0m \u001B[0;32min\u001B[0m \u001B[0m_treebank_word_tokenizer\u001B[0m\u001B[0;34m.\u001B[0m\u001B[0mtokenize\u001B[0m\u001B[0;34m(\u001B[0m\u001B[0msent\u001B[0m\u001B[0;34m)\u001B[0m\u001B[0;34m\u001B[0m\u001B[0;34m\u001B[0m\u001B[0m\n\u001B[1;32m    133\u001B[0m     ]\n",
      "\u001B[0;32m~/opt/anaconda3/lib/python3.8/site-packages/nltk/tokenize/__init__.py\u001B[0m in \u001B[0;36m<listcomp>\u001B[0;34m(.0)\u001B[0m\n\u001B[1;32m    130\u001B[0m     \u001B[0msentences\u001B[0m \u001B[0;34m=\u001B[0m \u001B[0;34m[\u001B[0m\u001B[0mtext\u001B[0m\u001B[0;34m]\u001B[0m \u001B[0;32mif\u001B[0m \u001B[0mpreserve_line\u001B[0m \u001B[0;32melse\u001B[0m \u001B[0msent_tokenize\u001B[0m\u001B[0;34m(\u001B[0m\u001B[0mtext\u001B[0m\u001B[0;34m,\u001B[0m \u001B[0mlanguage\u001B[0m\u001B[0;34m)\u001B[0m\u001B[0;34m\u001B[0m\u001B[0;34m\u001B[0m\u001B[0m\n\u001B[1;32m    131\u001B[0m     return [\n\u001B[0;32m--> 132\u001B[0;31m         \u001B[0mtoken\u001B[0m \u001B[0;32mfor\u001B[0m \u001B[0msent\u001B[0m \u001B[0;32min\u001B[0m \u001B[0msentences\u001B[0m \u001B[0;32mfor\u001B[0m \u001B[0mtoken\u001B[0m \u001B[0;32min\u001B[0m \u001B[0m_treebank_word_tokenizer\u001B[0m\u001B[0;34m.\u001B[0m\u001B[0mtokenize\u001B[0m\u001B[0;34m(\u001B[0m\u001B[0msent\u001B[0m\u001B[0;34m)\u001B[0m\u001B[0;34m\u001B[0m\u001B[0;34m\u001B[0m\u001B[0m\n\u001B[0m\u001B[1;32m    133\u001B[0m     ]\n",
      "\u001B[0;32m~/opt/anaconda3/lib/python3.8/site-packages/nltk/tokenize/destructive.py\u001B[0m in \u001B[0;36mtokenize\u001B[0;34m(self, text, convert_parentheses, return_str)\u001B[0m\n\u001B[1;32m    130\u001B[0m \u001B[0;34m\u001B[0m\u001B[0m\n\u001B[1;32m    131\u001B[0m         \u001B[0;32mfor\u001B[0m \u001B[0mregexp\u001B[0m \u001B[0;32min\u001B[0m \u001B[0mself\u001B[0m\u001B[0;34m.\u001B[0m\u001B[0mCONTRACTIONS2\u001B[0m\u001B[0;34m:\u001B[0m\u001B[0;34m\u001B[0m\u001B[0;34m\u001B[0m\u001B[0m\n\u001B[0;32m--> 132\u001B[0;31m             \u001B[0mtext\u001B[0m \u001B[0;34m=\u001B[0m \u001B[0mregexp\u001B[0m\u001B[0;34m.\u001B[0m\u001B[0msub\u001B[0m\u001B[0;34m(\u001B[0m\u001B[0;34mr\" \\1 \\2 \"\u001B[0m\u001B[0;34m,\u001B[0m \u001B[0mtext\u001B[0m\u001B[0;34m)\u001B[0m\u001B[0;34m\u001B[0m\u001B[0;34m\u001B[0m\u001B[0m\n\u001B[0m\u001B[1;32m    133\u001B[0m         \u001B[0;32mfor\u001B[0m \u001B[0mregexp\u001B[0m \u001B[0;32min\u001B[0m \u001B[0mself\u001B[0m\u001B[0;34m.\u001B[0m\u001B[0mCONTRACTIONS3\u001B[0m\u001B[0;34m:\u001B[0m\u001B[0;34m\u001B[0m\u001B[0;34m\u001B[0m\u001B[0m\n\u001B[1;32m    134\u001B[0m             \u001B[0mtext\u001B[0m \u001B[0;34m=\u001B[0m \u001B[0mregexp\u001B[0m\u001B[0;34m.\u001B[0m\u001B[0msub\u001B[0m\u001B[0;34m(\u001B[0m\u001B[0;34mr\" \\1 \\2 \"\u001B[0m\u001B[0;34m,\u001B[0m \u001B[0mtext\u001B[0m\u001B[0;34m)\u001B[0m\u001B[0;34m\u001B[0m\u001B[0;34m\u001B[0m\u001B[0m\n",
      "\u001B[0;32m~/opt/anaconda3/lib/python3.8/re.py\u001B[0m in \u001B[0;36m_subx\u001B[0;34m(pattern, template)\u001B[0m\n\u001B[1;32m    323\u001B[0m     \u001B[0;32mreturn\u001B[0m \u001B[0msre_parse\u001B[0m\u001B[0;34m.\u001B[0m\u001B[0mexpand_template\u001B[0m\u001B[0;34m(\u001B[0m\u001B[0mtemplate\u001B[0m\u001B[0;34m,\u001B[0m \u001B[0mmatch\u001B[0m\u001B[0;34m)\u001B[0m\u001B[0;34m\u001B[0m\u001B[0;34m\u001B[0m\u001B[0m\n\u001B[1;32m    324\u001B[0m \u001B[0;34m\u001B[0m\u001B[0m\n\u001B[0;32m--> 325\u001B[0;31m \u001B[0;32mdef\u001B[0m \u001B[0m_subx\u001B[0m\u001B[0;34m(\u001B[0m\u001B[0mpattern\u001B[0m\u001B[0;34m,\u001B[0m \u001B[0mtemplate\u001B[0m\u001B[0;34m)\u001B[0m\u001B[0;34m:\u001B[0m\u001B[0;34m\u001B[0m\u001B[0;34m\u001B[0m\u001B[0m\n\u001B[0m\u001B[1;32m    326\u001B[0m     \u001B[0;31m# internal: Pattern.sub/subn implementation helper\u001B[0m\u001B[0;34m\u001B[0m\u001B[0;34m\u001B[0m\u001B[0;34m\u001B[0m\u001B[0m\n\u001B[1;32m    327\u001B[0m     \u001B[0mtemplate\u001B[0m \u001B[0;34m=\u001B[0m \u001B[0m_compile_repl\u001B[0m\u001B[0;34m(\u001B[0m\u001B[0mtemplate\u001B[0m\u001B[0;34m,\u001B[0m \u001B[0mpattern\u001B[0m\u001B[0;34m)\u001B[0m\u001B[0;34m\u001B[0m\u001B[0;34m\u001B[0m\u001B[0m\n",
      "\u001B[0;31mKeyboardInterrupt\u001B[0m: "
     ]
    }
   ],
   "source": [
    "wiki_dataframe['tokenized_content_alphafilter'] = wiki_dataframe.progress_apply(lambda row: preprocess_vocab_alphafilter(row, len(row['title'])), axis=1)"
   ]
  },
  {
   "cell_type": "code",
   "execution_count": null,
   "metadata": {},
   "outputs": [],
   "source": [
    "from collections import defaultdict\n",
    "from collections import Counter\n",
    "\n",
    "inv_idx = defaultdict(list)\n",
    "vocab = set()\n",
    "heaps_law_dataset = list()\n",
    "\n",
    "most_freq = []\n",
    "id = 1\n",
    "total_words = 0\n",
    "for document in tqdm(wiki_dataframe['tokenized_content_alphafilter']):\n",
    "    counter = Counter(document)\n",
    "    most_occur = counter.most_common(1)\n",
    "    most_freq.append(most_occur)\n",
    "    heaps_law_dataset.append((total_words, len(vocab)))\n",
    "    for word in document:\n",
    "        inv_idx[word].append(id)\n",
    "        total_words += 1\n",
    "        vocab.add(word)\n",
    "    id +=1\n",
    "len(vocab)"
   ]
  },
  {
   "cell_type": "code",
   "execution_count": null,
   "metadata": {},
   "outputs": [],
   "source": [
    "wiki_dataframe['tokenized_content_stopwordremoval'] = wiki_dataframe.progress_apply(lambda row: preprocess_vocab_stopwordremoval(row, len(row['title'])), axis=1)"
   ]
  },
  {
   "cell_type": "code",
   "execution_count": null,
   "metadata": {},
   "outputs": [],
   "source": [
    "from collections import defaultdict\n",
    "from collections import Counter\n",
    "\n",
    "inv_idx = defaultdict(list)\n",
    "vocab = set()\n",
    "heaps_law_dataset = list()\n",
    "\n",
    "most_freq = []\n",
    "id = 1\n",
    "total_words = 0\n",
    "for document in tqdm(wiki_dataframe['tokenized_content_stopwordremoval']):\n",
    "    counter = Counter(document)\n",
    "    most_occur = counter.most_common(1)\n",
    "    most_freq.append(most_occur)\n",
    "    heaps_law_dataset.append((total_words, len(vocab)))\n",
    "    for word in document:\n",
    "        inv_idx[word].append(id)\n",
    "        total_words += 1\n",
    "        vocab.add(word)\n",
    "    id +=1\n",
    "len(vocab)"
   ]
  },
  {
   "cell_type": "code",
   "execution_count": null,
   "metadata": {},
   "outputs": [],
   "source": [
    "wiki_dataframe['tokenized_content_corpus'] = wiki_dataframe.progress_apply(lambda row: preprocess_vocab_corpus(row, len(row['title'])), axis=1)"
   ]
  },
  {
   "cell_type": "code",
   "execution_count": null,
   "metadata": {},
   "outputs": [],
   "source": [
    "from collections import defaultdict\n",
    "from collections import Counter\n",
    "\n",
    "inv_idx = defaultdict(list)\n",
    "vocab = set()\n",
    "heaps_law_dataset = list()\n",
    "\n",
    "most_freq = []\n",
    "id = 1\n",
    "total_words = 0\n",
    "for document in tqdm(wiki_dataframe['tokenized_content_corpus']):\n",
    "    counter = Counter(document)\n",
    "    most_occur = counter.most_common(1)\n",
    "    most_freq.append(most_occur)\n",
    "    heaps_law_dataset.append((total_words, len(vocab)))\n",
    "    for word in document:\n",
    "        inv_idx[word].append(id)\n",
    "        total_words += 1\n",
    "        vocab.add(word)\n",
    "    id +=1\n",
    "len(vocab)"
   ]
  },
  {
   "cell_type": "code",
   "execution_count": null,
   "metadata": {},
   "outputs": [],
   "source": [
    "wiki_dataframe.to_pickle('./wiki_dataframe_data.pkl')"
   ]
  },
  {
   "cell_type": "code",
   "execution_count": 5,
   "metadata": {},
   "outputs": [
    {
     "ename": "FileNotFoundError",
     "evalue": "[Errno 2] No such file or directory: './data/wiki_dataframe.pkl'",
     "output_type": "error",
     "traceback": [
      "\u001B[1;31m---------------------------------------------------------------------------\u001B[0m",
      "\u001B[1;31mFileNotFoundError\u001B[0m                         Traceback (most recent call last)",
      "\u001B[1;32m~\\AppData\\Local\\Temp/ipykernel_7348/2600809942.py\u001B[0m in \u001B[0;36m<module>\u001B[1;34m\u001B[0m\n\u001B[0;32m      1\u001B[0m \u001B[1;32mimport\u001B[0m \u001B[0mpickle5\u001B[0m \u001B[1;32mas\u001B[0m \u001B[0mpickle\u001B[0m\u001B[1;33m\u001B[0m\u001B[1;33m\u001B[0m\u001B[0m\n\u001B[1;32m----> 2\u001B[1;33m \u001B[1;32mwith\u001B[0m \u001B[0mopen\u001B[0m\u001B[1;33m(\u001B[0m\u001B[1;34m\"./data/wiki_dataframe.pkl\"\u001B[0m\u001B[1;33m,\u001B[0m \u001B[1;34m\"rb\"\u001B[0m\u001B[1;33m)\u001B[0m \u001B[1;32mas\u001B[0m \u001B[0mpickle_file\u001B[0m\u001B[1;33m:\u001B[0m\u001B[1;33m\u001B[0m\u001B[1;33m\u001B[0m\u001B[0m\n\u001B[0m\u001B[0;32m      3\u001B[0m     \u001B[0mwiki_dataframe\u001B[0m \u001B[1;33m=\u001B[0m \u001B[0mpickle\u001B[0m\u001B[1;33m.\u001B[0m\u001B[0mload\u001B[0m\u001B[1;33m(\u001B[0m\u001B[0mpickle_file\u001B[0m\u001B[1;33m)\u001B[0m\u001B[1;33m\u001B[0m\u001B[1;33m\u001B[0m\u001B[0m\n\u001B[0;32m      4\u001B[0m \u001B[1;31m# wiki_dataframe = pd.read_pickle('./wiki_dataframe_augmented_nltk_corpus_to_remove_non-english.pkl')\u001B[0m\u001B[1;33m\u001B[0m\u001B[1;33m\u001B[0m\u001B[1;33m\u001B[0m\u001B[0m\n",
      "\u001B[1;31mFileNotFoundError\u001B[0m: [Errno 2] No such file or directory: './data/wiki_dataframe.pkl'"
     ]
    }
   ],
   "source": [
    "import pickle5 as pickle\n",
    "with open(\"./data/wiki_dataframe.pkl\", \"rb\") as pickle_file:\n",
    "    wiki_dataframe = pickle.load(pickle_file)\n",
    "# wiki_dataframe = pd.read_pickle('./wiki_dataframe_augmented_nltk_corpus_to_remove_non-english.pkl')"
   ]
  },
  {
   "cell_type": "code",
   "execution_count": null,
   "metadata": {
    "pycharm": {
     "name": "#%%\n"
    },
    "scrolled": true
   },
   "outputs": [],
   "source": [
    "wiki_dataframe"
   ]
  },
  {
   "cell_type": "markdown",
   "metadata": {},
   "source": [
    "## Creating Part of Inverted Index"
   ]
  },
  {
   "cell_type": "code",
   "execution_count": null,
   "metadata": {
    "pycharm": {
     "name": "#%%\n"
    },
    "scrolled": false
   },
   "outputs": [],
   "source": [
    "from collections import defaultdict\n",
    "from collections import Counter\n",
    "\n",
    "inv_idx = defaultdict(list)\n",
    "vocab = set()\n",
    "heaps_law_dataset = list()\n",
    "\n",
    "most_freq = []\n",
    "id = 1\n",
    "total_words = 0\n",
    "for document in tqdm(wiki_dataframe['tokenized_content']):\n",
    "    counter = Counter(document)\n",
    "    most_occur = counter.most_common(1)\n",
    "    most_freq.append(most_occur)\n",
    "    heaps_law_dataset.append((total_words, len(vocab)))\n",
    "    for word in document:\n",
    "        inv_idx[word].append(id)\n",
    "        total_words += 1\n",
    "        vocab.add(word)\n",
    "    id +=1\n",
    "len(vocab)"
   ]
  },
  {
   "cell_type": "code",
   "execution_count": null,
   "metadata": {},
   "outputs": [],
   "source": [
    "wiki_dataframe['most_frequent_term'] = most_freq"
   ]
  },
  {
   "cell_type": "code",
   "execution_count": null,
   "metadata": {
    "scrolled": true
   },
   "outputs": [],
   "source": [
    "wiki_dataframe"
   ]
  },
  {
   "cell_type": "code",
   "execution_count": null,
   "metadata": {},
   "outputs": [],
   "source": [
    "from collections import OrderedDict\n",
    "inv_idx_ordered = OrderedDict(sorted(inv_idx.items(), key=lambda item: len(item[1]), reverse=True))"
   ]
  },
  {
   "cell_type": "code",
   "execution_count": null,
   "metadata": {},
   "outputs": [],
   "source": [
    "words = list(inv_idx_ordered.keys())\n",
    "domain_stop_words = words[0:10000]"
   ]
  },
  {
   "cell_type": "markdown",
   "metadata": {},
   "source": [
    "## Heaps Law"
   ]
  },
  {
   "cell_type": "code",
   "execution_count": null,
   "metadata": {},
   "outputs": [],
   "source": [
    "heaps_law_dataset[len(heaps_law_dataset)-1]"
   ]
  },
  {
   "cell_type": "code",
   "execution_count": null,
   "metadata": {},
   "outputs": [],
   "source": [
    "import matplotlib.pyplot as plt\n",
    "import math\n",
    "\n",
    "def heaps_law(list_to_graph):\n",
    "        x = list()\n",
    "        y = list()\n",
    "        \n",
    "        for item in list_to_graph:\n",
    "            x.append(item[0])\n",
    "            y.append(item[1])\n",
    "\n",
    "        plt.plot(x, y)\n",
    "        plt.xlim(1, x[-1])\n",
    "        plt.ylim(1, y[-1])\n",
    "        plt.savefig(\"heaps_law_words_from_nltk_english_corpus.png\")"
   ]
  },
  {
   "cell_type": "code",
   "execution_count": null,
   "metadata": {
    "scrolled": true
   },
   "outputs": [],
   "source": [
    "heaps_law(heaps_law_dataset)"
   ]
  },
  {
   "cell_type": "markdown",
   "metadata": {},
   "source": [
    "## Zipfs Law"
   ]
  },
  {
   "cell_type": "code",
   "execution_count": null,
   "metadata": {},
   "outputs": [],
   "source": [
    "import matplotlib.pyplot as plt\n",
    "import math\n",
    "\n",
    "def zipfs_law(list_to_graph):\n",
    "        x = list()\n",
    "        y = list()\n",
    "        \n",
    "        for i, word in enumerate(list_to_graph):\n",
    "            x.append(i+1)\n",
    "            y.append(len(inv_idx_ordered[word]))\n",
    "            \n",
    "\n",
    "        plt.loglog(x, y)\n",
    "        plt.savefig(\"zipfs_law.png\")"
   ]
  },
  {
   "cell_type": "code",
   "execution_count": null,
   "metadata": {},
   "outputs": [],
   "source": [
    "zipfs_law(inv_idx_ordered)"
   ]
  },
  {
   "cell_type": "markdown",
   "metadata": {},
   "source": [
    "## Finishing Inverted Index"
   ]
  },
  {
   "cell_type": "code",
   "execution_count": null,
   "metadata": {},
   "outputs": [],
   "source": [
    "for value in tqdm(inv_idx_ordered.items()):\n",
    "    inv_idx[value[0]] = (Counter(value[1]))"
   ]
  },
  {
   "cell_type": "code",
   "execution_count": null,
   "metadata": {},
   "outputs": [],
   "source": [
    "inv_idx"
   ]
  },
  {
   "cell_type": "code",
   "execution_count": null,
   "metadata": {},
   "outputs": [],
   "source": [
    "file_to_write = open(\"inv_idx_augmented_nltk_corpus_to_remove_non-english.pkl\", \"wb\")\n",
    "pickle.dump(inv_idx, file_to_write)"
   ]
  },
  {
   "cell_type": "code",
   "execution_count": 5,
   "metadata": {},
   "outputs": [],
   "source": [
    "inv_idx = pickle.load(open(\"inv_idx_augmented_nltk_corpus_to_remove_non-english.pkl\", \"rb\"))"
   ]
  },
  {
   "cell_type": "markdown",
   "metadata": {},
   "source": [
    "## Suggesting Queries"
   ]
  },
  {
   "cell_type": "code",
   "execution_count": 11,
   "metadata": {},
   "outputs": [],
   "source": [
    "from os import listdir\n",
    "from os.path import isfile, join\n",
    "aol_query_log = pd.read_csv('project_1_AOL_query_log/Clean-Data-01.txt', sep=\"\\t\")\n",
    "for file in listdir('project_1_AOL_query_log')[1:]:\n",
    "    aol_query_log = aol_query_log.append(pd.read_csv('project_1_AOL_query_log/' + str(file), sep=\"\\t\"), ignore_index=False)"
   ]
  },
  {
   "cell_type": "code",
   "execution_count": 12,
   "metadata": {},
   "outputs": [
    {
     "name": "stdout",
     "output_type": "stream",
     "text": [
      "{10710209, 4618828, 128728, 8584343, 8232760, 6356571, 13539708, 23577405}\n",
      "{4013446, 1735558, 9887625, 10497418, 3030796, 1473164, 743055, 3322000, 8769041, 1139474, 8543763, 3874196, 4869267, 6326678, 2337176, 5175448, 14730651, 11888540, 11390626, 13650599, 8741929, 3234354, 9099830, 4262332, 3404229, 686022, 502471, 22863813, 3474638, 154448, 2272473, 1856732, 17403487, 5883615, 6637664, 588260, 2505191, 299377, 3851124, 795126, 14473982}\n",
      "0\n"
     ]
    }
   ],
   "source": [
    "print(set(aol_query_log[aol_query_log['Query'] == 'christmas tree']['AnonID']))\n",
    "print(set(aol_query_log[aol_query_log['Query'] == 'christmas tree shop']['AnonID']))\n",
    "print(len(set(aol_query_log[aol_query_log['Query'] == 'christmas tree shop']['AnonID']) & set(aol_query_log[aol_query_log['Query'] == 'christmas tree']['AnonID'])))"
   ]
  },
  {
   "cell_type": "code",
   "execution_count": null,
   "metadata": {
    "scrolled": true
   },
   "outputs": [],
   "source": [
    "set(aol_query_log[aol_query_log['Query'] == 'vietnam']['AnonID'])\n"
   ]
  },
  {
   "cell_type": "code",
   "execution_count": null,
   "metadata": {
    "collapsed": true
   },
   "outputs": [],
   "source": [
    "aol_query_log"
   ]
  },
  {
   "cell_type": "code",
   "execution_count": null,
   "metadata": {},
   "outputs": [],
   "source": [
    "type(aol_query_log['AnonID'][0])"
   ]
  },
  {
   "cell_type": "code",
   "execution_count": 10,
   "metadata": {
    "pycharm": {
     "is_executing": true
    }
   },
   "outputs": [
    {
     "name": "stdout",
     "output_type": "stream",
     "text": [
      "Identifying Candidate Queries...\n",
      "Done!\n"
     ]
    }
   ],
   "source": [
    "from collections import defaultdict\n",
    "import itertools\n",
    "\n",
    "aol_queries = aol_query_log['Query'].values\n",
    "def identify_candidate_queries(query):\n",
    "    print(\"Identifying Candidate Queries...\")\n",
    "    candidate_queries = defaultdict(int)\n",
    "    potential = list()\n",
    "    sessions_with_original_query = set(aol_query_log[aol_query_log['Query'] == query]['AnonID'])\n",
    "    for anon_id in sessions_with_original_query:\n",
    "        potential_queries = aol_query_log[aol_query_log['AnonID'] == anon_id]['Query']\n",
    "        if len(potential_queries) > 1:\n",
    "            potential.append(potential_queries)\n",
    "    for aol_query in itertools.chain(*potential):\n",
    "        if len(str(aol_query).split()) > len(query.split()):\n",
    "            if aol_query.startswith(query):\n",
    "                candidate_queries[aol_query] += 1\n",
    "    print(\"Done!\")\n",
    "    return candidate_queries, len(sessions_with_original_query)\n",
    "candidate_queries, num_sessions_containing_q = identify_candidate_queries(\"men\")"
   ]
  },
  {
   "cell_type": "code",
   "execution_count": 15,
   "metadata": {},
   "outputs": [
    {
     "data": {
      "text/plain": [
       "set()"
      ]
     },
     "execution_count": 15,
     "metadata": {},
     "output_type": "execute_result"
    }
   ],
   "source": [
    "x = set(aol_query_log[aol_query_log['Query'] == 'christmas tree']['AnonID'])\n",
    "y = set(aol_query_log[aol_query_log['Query'] == 'christmas tree shop']['AnonID'])\n",
    "x.intersection(y)\n"
   ]
  },
  {
   "cell_type": "markdown",
   "metadata": {
    "pycharm": {
     "name": "#%% md\n"
    }
   },
   "source": [
    "#### Ranking Candidate Suggestions\n",
    "##### 𝑆𝑐𝑜𝑟𝑒(𝐶𝑄, 𝑞′) = \\# 𝑜𝑓 𝑠𝑒𝑠𝑠𝑖𝑜𝑛𝑠 𝑖𝑛 𝑤ℎ𝑖𝑐ℎ 𝑞 𝑖𝑠 𝑚𝑜𝑑𝑖𝑓𝑖𝑒𝑑 𝑡𝑜 𝐶𝑄 ÷ \\# 𝑜𝑓 𝑠𝑒𝑠𝑠𝑖𝑜𝑛𝑠 𝑖𝑛 𝑤ℎ𝑖𝑐ℎ 𝑞 𝑎𝑝𝑝𝑒𝑎𝑟𝑠"
   ]
  },
  {
   "cell_type": "code",
   "execution_count": 165,
   "metadata": {},
   "outputs": [
    {
     "name": "stdout",
     "output_type": "stream",
     "text": [
      "Ranking Candidate Queries\n"
     ]
    },
    {
     "name": "stderr",
     "output_type": "stream",
     "text": [
      "100%|██████████| 104/104 [00:00<?, ?it/s]\n"
     ]
    },
    {
     "data": {
      "text/plain": [
       "[('men bodies', 0.18072289156626506),\n",
       " (\"men's health\", 0.08433734939759036),\n",
       " ('mens penis', 0.07228915662650602),\n",
       " ('mental illness', 0.07228915662650602),\n",
       " ('menstrual cycle', 0.07228915662650602),\n",
       " ('men penis', 0.060240963855421686),\n",
       " ('mens wedding rings', 0.060240963855421686),\n",
       " (\"men's robe\", 0.060240963855421686),\n",
       " ('men fucking', 0.04819277108433735),\n",
       " ('mens health', 0.03614457831325301),\n",
       " ('men and penis', 0.03614457831325301),\n",
       " ('menstruating women', 0.03614457831325301),\n",
       " ('men having sex with animals', 0.03614457831325301),\n",
       " ('mens leather bags', 0.03614457831325301),\n",
       " ('mens rings', 0.03614457831325301),\n",
       " ('meniscus posterior root', 0.03614457831325301),\n",
       " ('mens zip up heavy hooded sweats', 0.03614457831325301),\n",
       " ('mens gold necklace', 0.03614457831325301),\n",
       " ('men cruising men in pa', 0.03614457831325301),\n",
       " ('men and women', 0.024096385542168676),\n",
       " ('mens nude body', 0.024096385542168676),\n",
       " ('mens wacky hairstyles', 0.024096385542168676),\n",
       " (\"men's leather wallet\", 0.024096385542168676),\n",
       " ('men wedding rings', 0.024096385542168676),\n",
       " ('men and dating', 0.024096385542168676),\n",
       " ('mens girdle', 0.024096385542168676),\n",
       " ('mens health our biggest arms workout ever', 0.024096385542168676),\n",
       " ('men and farm animals', 0.024096385542168676),\n",
       " ('men dicks', 0.024096385542168676),\n",
       " ('men nude', 0.024096385542168676),\n",
       " ('mens waxing', 0.024096385542168676),\n",
       " ('men waxing', 0.024096385542168676),\n",
       " (\"men's getaways\", 0.012048192771084338),\n",
       " (\"men's private clubs\", 0.012048192771084338),\n",
       " (\"men's shirt collars\", 0.012048192771084338),\n",
       " ('men collars and cuffs', 0.012048192771084338),\n",
       " ('men in panties', 0.012048192771084338),\n",
       " ('men seduce men', 0.012048192771084338),\n",
       " ('men and women making love', 0.012048192771084338),\n",
       " ('men and women having sex', 0.012048192771084338),\n",
       " ('mens body', 0.012048192771084338),\n",
       " (\"men's dress suits\", 0.012048192771084338),\n",
       " (\"men's dress hats\", 0.012048192771084338),\n",
       " ('men body parts', 0.012048192771084338),\n",
       " ('men sex bodies', 0.012048192771084338),\n",
       " ('mens overlarge penis', 0.012048192771084338),\n",
       " ('mens abnormal penis', 0.012048192771084338),\n",
       " ('mens big penis', 0.012048192771084338),\n",
       " ('men going commando', 0.012048192771084338),\n",
       " ('men commando', 0.012048192771084338),\n",
       " ('menu for passover', 0.012048192771084338),\n",
       " ('menus for diabetics', 0.012048192771084338),\n",
       " ('men kiss men', 0.012048192771084338),\n",
       " ('mental health and cutting out caffeine', 0.012048192771084338),\n",
       " (\"men's blue lace prom shirts\", 0.012048192771084338),\n",
       " (\"men's prom rentals\", 0.012048192771084338),\n",
       " ('mens sunglasses', 0.012048192771084338),\n",
       " ('menopause the musical milwaukee', 0.012048192771084338),\n",
       " ('mental hospitals', 0.012048192771084338),\n",
       " ('mens haircut', 0.012048192771084338),\n",
       " ('men and there feelings', 0.012048192771084338),\n",
       " ('men sweating', 0.012048192771084338),\n",
       " ('men clammy', 0.012048192771084338),\n",
       " ('mens accessories box', 0.012048192771084338),\n",
       " ('mentor silicone case study', 0.012048192771084338),\n",
       " ('mens eyebrows', 0.012048192771084338),\n",
       " ('menu ladies lunch', 0.012048192771084338),\n",
       " ('menstrual cups', 0.012048192771084338),\n",
       " ('men sucking cock', 0.012048192771084338),\n",
       " ('men forcing women to have sex', 0.012048192771084338),\n",
       " ('mens wholesale shoes', 0.012048192771084338),\n",
       " ('menage trois', 0.012048192771084338),\n",
       " ('mens sport coats', 0.012048192771084338),\n",
       " ('mens warehouse', 0.012048192771084338),\n",
       " (\"men's heath\", 0.012048192771084338),\n",
       " ('men nylon designer wallets', 0.012048192771084338),\n",
       " (\"men's leather trifold wallet\", 0.012048192771084338),\n",
       " ('men at work', 0.012048192771084338),\n",
       " ('mens underwear', 0.012048192771084338),\n",
       " ('mens rugby massachusetts', 0.012048192771084338),\n",
       " ('mens shorts', 0.012048192771084338),\n",
       " ('menstruation after childbirth', 0.012048192771084338),\n",
       " ('men and eating disorders', 0.012048192771084338),\n",
       " ('mens gold necklaces', 0.012048192771084338),\n",
       " ('mens gold necklaces list', 0.012048192771084338),\n",
       " (\"menu for fox's pizza\", 0.012048192771084338),\n",
       " ('menstrual cycle calculator', 0.012048192771084338),\n",
       " ('mentally disabled and osteoporosis', 0.012048192771084338),\n",
       " ('mens fitness magazine', 0.012048192771084338),\n",
       " ('men sex videos', 0.012048192771084338),\n",
       " ('men and sheep', 0.012048192771084338),\n",
       " ('menstrual pain', 0.012048192771084338),\n",
       " ('mens eyewear fashion', 0.012048192771084338),\n",
       " ('mens eyewear', 0.012048192771084338),\n",
       " ('mens tatoos', 0.012048192771084338),\n",
       " ('mens tattoos', 0.012048192771084338),\n",
       " ('men having sex', 0.012048192771084338),\n",
       " ('men loves to go down', 0.012048192771084338),\n",
       " ('men wanting to fuck men now', 0.012048192771084338),\n",
       " ('men sex', 0.012048192771084338),\n",
       " ('men with no shirts', 0.012048192771084338),\n",
       " ('men eating cock', 0.012048192771084338),\n",
       " ('men with tongue pierced', 0.012048192771084338),\n",
       " ('men burberry swimwear', 0.012048192771084338)]"
      ]
     },
     "execution_count": 165,
     "metadata": {},
     "output_type": "execute_result"
    }
   ],
   "source": [
    "def rank_candidate_queries(original_query, candidates, num_sessions_containing_q):\n",
    "    print(\"Ranking Candidate Queries\")\n",
    "    candidate_scores = []\n",
    "\n",
    "    for candidate in tqdm(candidates): \n",
    "        if num_sessions_containing_q != 0:\n",
    "            candidate_scores.append((candidate, candidates[candidate] / num_sessions_containing_q))\n",
    "   \n",
    "    if len(candidate_scores) < 1:\n",
    "        candidate_scores.append((original_query, 0))\n",
    "    print(\"Done!\")\n",
    "    return sorted(candidate_scores, key=lambda candidate_score: candidate_score[1], reverse=True)\n",
    "rank_candidate_queries(\"men\", candidate_queries, num_sessions_containing_q)"
   ]
  },
  {
   "cell_type": "code",
   "execution_count": 13,
   "metadata": {},
   "outputs": [],
   "source": [
    "def find_rank_candidate_queries(query):\n",
    "    candidate_list, num_sessions_containing_q = identify_candidate_queries(query)\n",
    "    return rank_candidate_queries(query, candidate_list, num_sessions_containing_q)"
   ]
  },
  {
   "cell_type": "code",
   "execution_count": null,
   "metadata": {},
   "outputs": [],
   "source": [
    "find_rank_candidate_queries(\"frozen\")"
   ]
  },
  {
   "cell_type": "markdown",
   "metadata": {},
   "source": [
    "## Relevance Ranking"
   ]
  },
  {
   "cell_type": "markdown",
   "metadata": {
    "pycharm": {
     "name": "#%% md\n"
    }
   },
   "source": [
    "### Identifying Candidate Resources"
   ]
  },
  {
   "cell_type": "code",
   "execution_count": 8,
   "metadata": {
    "pycharm": {
     "name": "#%%\n"
    }
   },
   "outputs": [],
   "source": [
    "from itertools import combinations\n",
    "def identify_candidate_resources(query):\n",
    "    print(\"Identifying Candidate Resources...\")\n",
    "    results = set()\n",
    "    split_query = query.split()\n",
    "    n = len(split_query)\n",
    "    candidate_list = list()\n",
    "    for term in split_query:\n",
    "        print(\".\", end=\"\")\n",
    "        if len(inv_idx[term]) > 0:\n",
    "            candidate_list.append(set(inv_idx[term].keys()))\n",
    "    if len(candidate_list) > 0:\n",
    "        results = set.intersection(*candidate_list)\n",
    "    if len(results) <= 50:\n",
    "        for combination in combinations(split_query, n - 1):\n",
    "            print(\".\", end=\"\")\n",
    "            candidate_list = list()\n",
    "            for term in combination:\n",
    "                candidate_list.append(inv_idx[term])\n",
    "            if len(candidate_list) > 0:\n",
    "                results = set.intersection(*candidate_list)\n",
    "            if len(results) > 50:\n",
    "                break\n",
    "            else:\n",
    "                n -= 1\n",
    "    return results\n"
   ]
  },
  {
   "cell_type": "code",
   "execution_count": 9,
   "metadata": {},
   "outputs": [
    {
     "name": "stdout",
     "output_type": "stream",
     "text": [
      "Identifying Candidate Resources...\n",
      ".."
     ]
    },
    {
     "data": {
      "text/plain": [
       "{1656,\n",
       " 2589,\n",
       " 4110,\n",
       " 12965,\n",
       " 13354,\n",
       " 13598,\n",
       " 15493,\n",
       " 16331,\n",
       " 17200,\n",
       " 23952,\n",
       " 26821,\n",
       " 27254,\n",
       " 28129,\n",
       " 28964,\n",
       " 31610,\n",
       " 34670,\n",
       " 35737,\n",
       " 36067,\n",
       " 36570,\n",
       " 36688,\n",
       " 38843,\n",
       " 44384,\n",
       " 45896,\n",
       " 46666,\n",
       " 54057,\n",
       " 57360,\n",
       " 57431,\n",
       " 58140,\n",
       " 60869,\n",
       " 62727,\n",
       " 63250,\n",
       " 63628,\n",
       " 72689,\n",
       " 73796,\n",
       " 79247,\n",
       " 82300,\n",
       " 85321,\n",
       " 85740,\n",
       " 87035,\n",
       " 88511,\n",
       " 88966,\n",
       " 91072,\n",
       " 96843,\n",
       " 97172,\n",
       " 98028,\n",
       " 99379,\n",
       " 100585,\n",
       " 102310,\n",
       " 105818,\n",
       " 107203,\n",
       " 113194,\n",
       " 114930,\n",
       " 115743,\n",
       " 116668,\n",
       " 119015,\n",
       " 121685,\n",
       " 122149,\n",
       " 123567,\n",
       " 128577,\n",
       " 131213,\n",
       " 133604,\n",
       " 133645,\n",
       " 142449,\n",
       " 145571,\n",
       " 147076,\n",
       " 151068,\n",
       " 152173,\n",
       " 155275,\n",
       " 161365,\n",
       " 167636,\n",
       " 168709,\n",
       " 170873,\n",
       " 171891,\n",
       " 175015,\n",
       " 175387,\n",
       " 177614,\n",
       " 181258,\n",
       " 181315,\n",
       " 181832,\n",
       " 182656,\n",
       " 183271,\n",
       " 185564,\n",
       " 186894,\n",
       " 187625,\n",
       " 192797,\n",
       " 197585,\n",
       " 198199,\n",
       " 201671,\n",
       " 202855,\n",
       " 203020,\n",
       " 207000,\n",
       " 207505,\n",
       " 207517,\n",
       " 210153,\n",
       " 212624,\n",
       " 214534,\n",
       " 214700,\n",
       " 214917,\n",
       " 220805,\n",
       " 223571,\n",
       " 224199,\n",
       " 225012,\n",
       " 226842,\n",
       " 227788,\n",
       " 232970,\n",
       " 233457,\n",
       " 234965,\n",
       " 235014,\n",
       " 235926,\n",
       " 239470,\n",
       " 239942,\n",
       " 241570,\n",
       " 242222,\n",
       " 243842,\n",
       " 243874,\n",
       " 244842,\n",
       " 246026,\n",
       " 246711,\n",
       " 247079,\n",
       " 252456,\n",
       " 252488,\n",
       " 254720,\n",
       " 256167,\n",
       " 259767,\n",
       " 260760,\n",
       " 264746,\n",
       " 265191,\n",
       " 265494,\n",
       " 267683,\n",
       " 274237,\n",
       " 274898,\n",
       " 277901,\n",
       " 278171,\n",
       " 281730,\n",
       " 281820,\n",
       " 282221,\n",
       " 287895,\n",
       " 289166,\n",
       " 289609,\n",
       " 291824,\n",
       " 293506,\n",
       " 299463,\n",
       " 300315,\n",
       " 300378,\n",
       " 302975,\n",
       " 307199,\n",
       " 307282,\n",
       " 312064,\n",
       " 312178,\n",
       " 313261,\n",
       " 322438,\n",
       " 326413,\n",
       " 326966,\n",
       " 329051,\n",
       " 329701,\n",
       " 334310,\n",
       " 335119,\n",
       " 335322,\n",
       " 336250,\n",
       " 336854,\n",
       " 339414,\n",
       " 340361,\n",
       " 345898,\n",
       " 349661,\n",
       " 350702,\n",
       " 351752,\n",
       " 351763,\n",
       " 352106,\n",
       " 352546,\n",
       " 359041,\n",
       " 362747,\n",
       " 365032,\n",
       " 369053,\n",
       " 376259,\n",
       " 376271,\n",
       " 376980,\n",
       " 382524,\n",
       " 384256,\n",
       " 387778,\n",
       " 395990,\n",
       " 397130,\n",
       " 402525,\n",
       " 402727,\n",
       " 405109,\n",
       " 406693,\n",
       " 407402,\n",
       " 409701,\n",
       " 410244,\n",
       " 414926,\n",
       " 415197,\n",
       " 419232,\n",
       " 420317,\n",
       " 421928,\n",
       " 426051,\n",
       " 427064,\n",
       " 428113,\n",
       " 432526,\n",
       " 437356,\n",
       " 437617,\n",
       " 441584,\n",
       " 441996,\n",
       " 448255,\n",
       " 448878,\n",
       " 450005,\n",
       " 451006,\n",
       " 454044,\n",
       " 455219,\n",
       " 457884,\n",
       " 458174,\n",
       " 458371,\n",
       " 459649,\n",
       " 460072,\n",
       " 461491,\n",
       " 461611,\n",
       " 464370,\n",
       " 465959,\n",
       " 466725,\n",
       " 467477,\n",
       " 467530,\n",
       " 470415,\n",
       " 471213,\n",
       " 471568,\n",
       " 471839,\n",
       " 472176,\n",
       " 477833,\n",
       " 478300,\n",
       " 482779,\n",
       " 484185,\n",
       " 484750,\n",
       " 485403,\n",
       " 486505,\n",
       " 490399,\n",
       " 491408,\n",
       " 491565,\n",
       " 496149,\n",
       " 496489,\n",
       " 496699,\n",
       " 501046,\n",
       " 501542,\n",
       " 502427,\n",
       " 503340,\n",
       " 504248,\n",
       " 507564,\n",
       " 509768,\n",
       " 509910,\n",
       " 510885,\n",
       " 511895,\n",
       " 514484,\n",
       " 514657,\n",
       " 517585,\n",
       " 519077,\n",
       " 519661,\n",
       " 528675,\n",
       " 530892,\n",
       " 536329,\n",
       " 538988,\n",
       " 541119,\n",
       " 541395,\n",
       " 542770,\n",
       " 544297,\n",
       " 546938,\n",
       " 554783,\n",
       " 556838,\n",
       " 567490,\n",
       " 572957,\n",
       " 577658,\n",
       " 579054,\n",
       " 579135,\n",
       " 579789,\n",
       " 580522,\n",
       " 583836,\n",
       " 589679,\n",
       " 592202,\n",
       " 593054,\n",
       " 597119,\n",
       " 597560,\n",
       " 608281,\n",
       " 609008,\n",
       " 609189,\n",
       " 612803,\n",
       " 613733,\n",
       " 614846,\n",
       " 617915,\n",
       " 619484,\n",
       " 620668,\n",
       " 621051,\n",
       " 625304,\n",
       " 630414,\n",
       " 632491,\n",
       " 643274,\n",
       " 652801,\n",
       " 654250,\n",
       " 658798,\n",
       " 659955,\n",
       " 661471,\n",
       " 661591,\n",
       " 662143,\n",
       " 663759,\n",
       " 664633,\n",
       " 667103,\n",
       " 668624,\n",
       " 671936,\n",
       " 673796,\n",
       " 677726,\n",
       " 683279,\n",
       " 694035,\n",
       " 694835,\n",
       " 696226,\n",
       " 696603,\n",
       " 697630,\n",
       " 697859,\n",
       " 702701,\n",
       " 703076,\n",
       " 704421,\n",
       " 706764,\n",
       " 710851,\n",
       " 715396,\n",
       " 715561,\n",
       " 715884,\n",
       " 717907,\n",
       " 718034,\n",
       " 722376,\n",
       " 723226,\n",
       " 729692,\n",
       " 730575,\n",
       " 737740,\n",
       " 740356,\n",
       " 740524,\n",
       " 751650,\n",
       " 751933,\n",
       " 752034,\n",
       " 753828,\n",
       " 753993,\n",
       " 754072,\n",
       " 767328,\n",
       " 767992,\n",
       " 770572,\n",
       " 772024,\n",
       " 772426,\n",
       " 775812,\n",
       " 775827,\n",
       " 776679,\n",
       " 784378,\n",
       " 785546,\n",
       " 786777,\n",
       " 787732,\n",
       " 792253,\n",
       " 797564,\n",
       " 798067,\n",
       " 800059,\n",
       " 809429,\n",
       " 809498,\n",
       " 811277,\n",
       " 818783,\n",
       " 819885,\n",
       " 824673,\n",
       " 824869,\n",
       " 826215,\n",
       " 826348,\n",
       " 826784,\n",
       " 831840,\n",
       " 836944,\n",
       " 836986,\n",
       " 839522,\n",
       " 846713,\n",
       " 848466,\n",
       " 851622,\n",
       " 852957,\n",
       " 856173,\n",
       " 856788,\n",
       " 859793,\n",
       " 860214,\n",
       " 864710,\n",
       " 867250,\n",
       " 867755,\n",
       " 868794,\n",
       " 874793,\n",
       " 878999,\n",
       " 880006,\n",
       " 887607,\n",
       " 889785,\n",
       " 893857,\n",
       " 898886,\n",
       " 902177,\n",
       " 904602,\n",
       " 905788,\n",
       " 907786,\n",
       " 910986,\n",
       " 911688,\n",
       " 911965,\n",
       " 912820,\n",
       " 924171,\n",
       " 926622,\n",
       " 928965,\n",
       " 930618,\n",
       " 932576,\n",
       " 936929,\n",
       " 938277,\n",
       " 939492,\n",
       " 940838,\n",
       " 945080,\n",
       " 953046,\n",
       " 954118,\n",
       " 970731,\n",
       " 976234,\n",
       " 976871,\n",
       " 979212,\n",
       " 979271,\n",
       " 980142,\n",
       " 980711,\n",
       " 984285,\n",
       " 999339,\n",
       " 1001951,\n",
       " 1005687,\n",
       " 1005751,\n",
       " 1005802,\n",
       " 1006828,\n",
       " 1007429,\n",
       " 1016158,\n",
       " 1017215,\n",
       " 1017413,\n",
       " 1022737,\n",
       " 1024133,\n",
       " 1024791,\n",
       " 1026050,\n",
       " 1029511,\n",
       " 1030247,\n",
       " 1031128,\n",
       " 1031945,\n",
       " 1042432,\n",
       " 1045892,\n",
       " 1046420,\n",
       " 1054265,\n",
       " 1055165,\n",
       " 1057106,\n",
       " 1058986,\n",
       " 1062710,\n",
       " 1065988,\n",
       " 1066170,\n",
       " 1066930,\n",
       " 1076436,\n",
       " 1079773,\n",
       " 1079774,\n",
       " 1084600,\n",
       " 1088351,\n",
       " 1092185,\n",
       " 1099373,\n",
       " 1102274,\n",
       " 1108099,\n",
       " 1108240,\n",
       " 1109952,\n",
       " 1116263,\n",
       " 1117491,\n",
       " 1121951,\n",
       " 1122477,\n",
       " 1124870,\n",
       " 1125026,\n",
       " 1128330,\n",
       " 1134073,\n",
       " 1138707,\n",
       " 1139314,\n",
       " 1143386,\n",
       " 1146498,\n",
       " 1148031,\n",
       " 1149590,\n",
       " 1149625,\n",
       " 1149701,\n",
       " 1160519,\n",
       " 1163972,\n",
       " 1167368,\n",
       " 1175425,\n",
       " 1177399,\n",
       " 1178016,\n",
       " 1179532,\n",
       " 1188904,\n",
       " 1188946,\n",
       " 1189945,\n",
       " 1190608,\n",
       " 1191169,\n",
       " 1198239,\n",
       " 1202115,\n",
       " 1218680,\n",
       " 1218681,\n",
       " 1222832,\n",
       " 1224998,\n",
       " 1236110,\n",
       " 1236274,\n",
       " 1239846,\n",
       " 1248971,\n",
       " 1254623,\n",
       " 1271510,\n",
       " 1272001,\n",
       " 1272026,\n",
       " 1272968,\n",
       " 1276624,\n",
       " 1277112,\n",
       " 1285550}"
      ]
     },
     "execution_count": 9,
     "metadata": {},
     "output_type": "execute_result"
    }
   ],
   "source": [
    "identify_candidate_resources('sex')"
   ]
  },
  {
   "cell_type": "markdown",
   "metadata": {
    "pycharm": {
     "name": "#%% md\n"
    }
   },
   "source": [
    "### TF-IDF\n",
    "#### 𝑇𝐹(𝑤, 𝑑) = 𝑓𝑟𝑒𝑞(𝑤, 𝑑) ÷ (𝑚𝑎𝑥_𝑑)\n",
    "#### 𝐼𝐷𝐹(𝑤) = 𝑙𝑜𝑔__2 (𝑁 ÷ 𝑛_𝑤)"
   ]
  },
  {
   "cell_type": "code",
   "execution_count": null,
   "metadata": {
    "pycharm": {
     "name": "#%%\n"
    }
   },
   "outputs": [],
   "source": [
    "len(wiki_dataframe)"
   ]
  },
  {
   "cell_type": "code",
   "execution_count": 12,
   "metadata": {
    "pycharm": {
     "name": "#%%\n"
    }
   },
   "outputs": [],
   "source": [
    "import math\n",
    "def tf_idf(split_query, document_id):\n",
    "    score = 0\n",
    "\n",
    "    if document_id == 0:\n",
    "        print(\"error in tf-idf function\")\n",
    "        return\n",
    "\n",
    "    for term in split_query:\n",
    "        if term not in inv_idx:\n",
    "            continue\n",
    "        score += (inv_idx[term][document_id] / wiki_dataframe['most_frequent_term'][document_id - 1][0][1]) * math.log((len(wiki_dataframe) / len(inv_idx[term])), 2)\n",
    "    return score"
   ]
  },
  {
   "cell_type": "markdown",
   "metadata": {},
   "source": [
    "### Ranking candidate resources"
   ]
  },
  {
   "cell_type": "code",
   "execution_count": 8,
   "metadata": {},
   "outputs": [],
   "source": [
    "def rank_candidate_resources(query, candidate_resources):\n",
    "  ranked_candidates = {}\n",
    "  for document_id in candidate_resources:\n",
    "    ranked_candidates[document_id] = tf_idf(query.split(), document_id)\n",
    "  return sorted(ranked_candidates.items(), key=lambda item: item[1], reverse=True)"
   ]
  },
  {
   "cell_type": "code",
   "execution_count": 13,
   "metadata": {},
   "outputs": [
    {
     "data": {
      "text/plain": [
       "(721020, 7.318117658755251)"
      ]
     },
     "execution_count": 13,
     "metadata": {},
     "output_type": "execute_result"
    }
   ],
   "source": [
    "def find_and_rank_candidate_resources(query):\n",
    "    candidates = identify_candidate_resources(query)\n",
    "    return rank_candidate_resources(query, candidates)\n",
    "relevant_resources = find_and_rank_candidate_resources(\"sex\")[0]\n",
    "relevant_resources"
   ]
  },
  {
   "cell_type": "markdown",
   "metadata": {},
   "source": [
    "### Snippet Generation"
   ]
  },
  {
   "cell_type": "code",
   "execution_count": 15,
   "metadata": {},
   "outputs": [],
   "source": [
    "def get_snippet(query, document_id):\n",
    "    row = wiki_dataframe[wiki_dataframe['id'] == document_id + 1]\n",
    "    snippet = (  # tuple in the form (title, sentences)\n",
    "        row[\"title\"].to_string(index=False),\n",
    "        generate_sentence_snippets(query, document_id, int(row[\"title\"].str.len())))\n",
    "    return snippet"
   ]
  },
  {
   "cell_type": "code",
   "execution_count": 21,
   "metadata": {},
   "outputs": [
    {
     "data": {
      "text/plain": [
       "'Morocco–Saudi Arabia relations'"
      ]
     },
     "execution_count": 21,
     "metadata": {},
     "output_type": "execute_result"
    }
   ],
   "source": [
    "wiki_dataframe[\"title\"][0]"
   ]
  },
  {
   "cell_type": "code",
   "execution_count": 21,
   "metadata": {},
   "outputs": [],
   "source": [
    "import re\n",
    "def generate_sentence_snippets(query, document_id, len_title):\n",
    "    pattern = '(?<!\\w\\.\\w.)(?<![A-Z][a-z]\\.)(?<=\\.|\\?)\\s'\n",
    "    top_two = []  # format is (sentence, cosine_similarity_score)\n",
    "    vectorized_query = vectorize(query, document_id)\n",
    "    for sentence in re.split(pattern, wiki_dataframe[\"content\"][document_id][len_title:]):\n",
    "        sentence = sentence.replace(\"\\r\", \"\").replace(\"\\n\", \"\")  # 4 is for removal of \\r\\n\\r\\n for each sentence.\n",
    "        lsentence = sentence.lower()\n",
    "\n",
    "        sentence_score = cosine_similarity(vectorized_query, vectorize(lsentence, document_id))\n",
    "        if len(top_two) < 2:\n",
    "            top_two.append((sentence, sentence_score))\n",
    "            top_two.sort(key=lambda item: item[1], reverse=True)\n",
    "            continue\n",
    "\n",
    "        for index, entry in enumerate(top_two):  # this loop should only run twice\n",
    "            if sentence_score > entry[1]:\n",
    "                top_two[index] = (sentence, sentence_score)\n",
    "                top_two.sort(key=lambda item: item[1], reverse=True)\n",
    "                break\n",
    "    if len(top_two) < 2:\n",
    "        result = top_two[0][0]\n",
    "    else:\n",
    "        result = (top_two[0][0], top_two[1][0])\n",
    "    return result"
   ]
  },
  {
   "cell_type": "code",
   "execution_count": 18,
   "metadata": {},
   "outputs": [],
   "source": [
    "def vectorize(phrase, document_id):\n",
    "    arr = []\n",
    "    for word in phrase.split():\n",
    "        arr.append(tf_idf([word], document_id))\n",
    "    return arr"
   ]
  },
  {
   "cell_type": "code",
   "execution_count": 19,
   "metadata": {},
   "outputs": [],
   "source": [
    "from scipy import spatial\n",
    "def cosine_similarity(query, sentence, doc_id):\n",
    "    colab_sent = query | sentence\n",
    "    print(colab_sent)\n",
    "    vectorized_query = []\n",
    "    vectorized_sentence = []\n",
    "    for word in colab_sent:\n",
    "        if word in query.split():\n",
    "            vectorized_query.append(tf_idf([word]), doc_id)\n",
    "        else:\n",
    "            vectorized_query.append(0)\n",
    "        if word in sentence:\n",
    "            vectorized_sentence.append(tf_idf([word]), doc_id)\n",
    "        else:\n",
    "            vectorized_sentence.append(0)\n",
    "    print(vectorized_query)\n",
    "    print(vectorized_sentence)\n",
    "    return 1 - spatial.distance.cosine(list(vectorized_sentence), list(vectorized_query))"
   ]
  },
  {
   "cell_type": "markdown",
   "metadata": {},
   "source": [
    "### Putting Everything together"
   ]
  },
  {
   "cell_type": "code",
   "execution_count": 6,
   "metadata": {
    "pycharm": {
     "is_executing": true
    }
   },
   "outputs": [
    {
     "name": "stdout",
     "output_type": "stream",
     "text": [
      "loading files...\n",
      "Done!\n"
     ]
    }
   ],
   "source": [
    "import pickle5 as pickle\n",
    "\n",
    "def load_files():\n",
    "    print(\"loading files...\")\n",
    "    with open(\"./data/wiki_dataframe_augmented_nltk_corpus_to_remove_non-english.pkl\", \"rb\") as wiki_df:\n",
    "        wiki_dataframe = pickle.load(wiki_df)\n",
    "    inv_idx = pickle.load(open(\"./data/inv_idx_augmented_nltk_corpus_to_remove_non-english.pkl\", \"rb\"))\n",
    "    aol_query_log = pickle.load(open(\"./data/aol_query_log_data.pkl\", \"rb\"))\n",
    "    print(\"Done!\")\n",
    "    return [wiki_dataframe, inv_idx, aol_query_log]\n",
    "\n",
    "\n",
    "wiki_dataframe, inv_idx, aol_query_log = load_files()\n"
   ]
  },
  {
   "cell_type": "code",
   "execution_count": 3,
   "metadata": {},
   "outputs": [
    {
     "data": {
      "text/plain": [
       "284750"
      ]
     },
     "execution_count": 3,
     "metadata": {},
     "output_type": "execute_result"
    }
   ],
   "source": [
    "len(inv_idx)"
   ]
  },
  {
   "cell_type": "code",
   "execution_count": 16,
   "metadata": {
    "pycharm": {
     "name": "#%%\n"
    }
   },
   "outputs": [
    {
     "name": "stdout",
     "output_type": "stream",
     "text": [
      "Identifying Candidate Queries...\n",
      "aol query                                    amazon\n",
      "                    academy award nominee\n",
      "                     family tree template\n",
      "                free family tree template\n",
      "                        free family chart\n",
      "               free blank geneology chart\n",
      "                                     file\n",
      "                           metro district\n",
      "                     denver county police\n",
      "                           metro district\n",
      "                    nike woman sportswear\n",
      "                                     nike\n",
      "                                    woman\n",
      "                    woman track suit nike\n",
      "                                    woman\n",
      "                      woman athletic wear\n",
      "                               gart sport\n",
      "                     nike fitness apparel\n",
      "                  steamboat spring resort\n",
      "                 parking steamboat spring\n",
      "                                   goggle\n",
      "                         galapagos iguana\n",
      "                         galapagos iguana\n",
      "                        galapagos penguin\n",
      "                        galapagos penguin\n",
      "        celebrity resort steamboat spring\n",
      "celebrity resort steamboat spring hilltop\n",
      "                                   denver\n",
      "                           apple computer\n",
      "                     philip pullman award\n",
      "                                   google\n",
      "                        blue sky lacrosse\n",
      "                        string yarn store\n",
      "                  sting knitting boutique\n",
      "                         essential tremor\n",
      "                             postage rate\n",
      "                      hamilton new jersey\n",
      "             hamilton new jersey lacrosse\n",
      "                hamilton new jersey hotel\n",
      "                            lacrosse rule\n",
      "                        boy lacrosse rule\n",
      "            boy lacrosse stick regulation\n",
      "                men lacrosse stick rating\n",
      "                 comparing lacrosse stick\n",
      "          comparing lacrosse stick pocket\n",
      "         men lacrosse stick pocket review\n",
      "                  best lacrosse stick boy\n",
      "aol query                 fidelity\n",
      "                fidelity\n",
      "                   woman\n",
      "             woman dress\n",
      "                  penney\n",
      "                  google\n",
      "            google earth\n",
      "              cruise cam\n",
      "              jewely box\n",
      " necklace earings hanger\n",
      "internal revenue service\n",
      "                mirepoix\n",
      "      bay bridge web cam\n",
      "                  kaiser\n",
      "     cruise ship illness\n",
      "                  kaiser\n",
      "               iris bulb\n",
      "          swim cover ups\n",
      "                 bermuda\n",
      "              u passport\n",
      "              u passport\n",
      "             craigs list\n",
      "              head start\n",
      "             baywood inn\n",
      "         oakland airport\n",
      "    bart oakland airport\n",
      "aol query                concert\n",
      "         music concert\n",
      "         music concert\n",
      "         music concert\n",
      "                dating\n",
      "                 woman\n",
      "              slipknot\n",
      "           beauty geek\n",
      "             chat line\n",
      "                dating\n",
      "          dating local\n",
      "             chat line\n",
      "                dating\n",
      "                dating\n",
      "             chat line\n",
      "                 woman\n",
      "      heavy metel iowa\n",
      "                 yahoo\n",
      "   adult friend finder\n",
      "     tax refund status\n",
      "                 yahoo\n",
      "      heavy metel iowa\n",
      "                 trapt\n",
      "           dirty woman\n",
      "           adult porno\n",
      "           adult porno\n",
      "           adult porno\n",
      "            meet woman\n",
      "sexy single woman iowa\n",
      "           fear factor\n",
      "  sexual friend finder\n",
      "sexy single woman iowa\n",
      "             disturbed\n",
      "           price right\n",
      "                u bank\n",
      "           men fitness\n",
      "   adult friend finder\n",
      "            chat woman\n",
      "            bryan adam\n",
      "             love song\n",
      "             love song\n",
      "            chat woman\n",
      "             love song\n",
      "            chat woman\n",
      "           storm watch\n",
      "      storm watch iowa\n",
      "             love song\n",
      "                  chat\n",
      "    naked single woman\n",
      "       naked celebrity\n",
      "             tommy lee\n",
      "     naked woman video\n",
      "     naked woman video\n",
      "     naked woman video\n",
      "      avenge sevenfold\n",
      "         rolling stone\n",
      "         rolling stone\n",
      "         rolling stone\n",
      "           screen name\n",
      "                 movie\n",
      "aol query woman\n"
     ]
    },
    {
     "ename": "TypeError",
     "evalue": "unhashable type: 'DataFrame'",
     "output_type": "error",
     "traceback": [
      "\u001B[1;31m---------------------------------------------------------------------------\u001B[0m",
      "\u001B[1;31mTypeError\u001B[0m                                 Traceback (most recent call last)",
      "\u001B[1;32m~\\AppData\\Local\\Temp/ipykernel_22404/3016524865.py\u001B[0m in \u001B[0;36m<module>\u001B[1;34m\u001B[0m\n\u001B[0;32m     14\u001B[0m     \u001B[1;32mreturn\u001B[0m \u001B[0mresults\u001B[0m\u001B[1;33m\u001B[0m\u001B[1;33m\u001B[0m\u001B[0m\n\u001B[0;32m     15\u001B[0m \u001B[1;33m\u001B[0m\u001B[0m\n\u001B[1;32m---> 16\u001B[1;33m \u001B[0msearch_results\u001B[0m \u001B[1;33m=\u001B[0m \u001B[0msearch\u001B[0m\u001B[1;33m(\u001B[0m\u001B[1;34m\"woman\"\u001B[0m\u001B[1;33m)\u001B[0m\u001B[1;33m\u001B[0m\u001B[1;33m\u001B[0m\u001B[0m\n\u001B[0m\u001B[0;32m     17\u001B[0m \u001B[0mprint\u001B[0m\u001B[1;33m(\u001B[0m\u001B[1;34m\"results:\"\u001B[0m\u001B[1;33m)\u001B[0m\u001B[1;33m\u001B[0m\u001B[1;33m\u001B[0m\u001B[0m\n\u001B[0;32m     18\u001B[0m \u001B[0mprint\u001B[0m\u001B[1;33m(\u001B[0m\u001B[0msearch_results\u001B[0m\u001B[1;33m)\u001B[0m\u001B[1;33m\u001B[0m\u001B[1;33m\u001B[0m\u001B[0m\n",
      "\u001B[1;32m~\\AppData\\Local\\Temp/ipykernel_22404/3016524865.py\u001B[0m in \u001B[0;36msearch\u001B[1;34m(query)\u001B[0m\n\u001B[0;32m      7\u001B[0m     \u001B[1;31m#     title, sentences = get_snippet(query, resource[0])\u001B[0m\u001B[1;33m\u001B[0m\u001B[1;33m\u001B[0m\u001B[1;33m\u001B[0m\u001B[0m\n\u001B[0;32m      8\u001B[0m     \u001B[1;31m#     results[resource[0]] = [title, sentences]\u001B[0m\u001B[1;33m\u001B[0m\u001B[1;33m\u001B[0m\u001B[1;33m\u001B[0m\u001B[0m\n\u001B[1;32m----> 9\u001B[1;33m     \u001B[0mranked_candidate_queries\u001B[0m \u001B[1;33m=\u001B[0m \u001B[0mfind_rank_candidate_queries\u001B[0m\u001B[1;33m(\u001B[0m\u001B[0mquery\u001B[0m\u001B[1;33m)\u001B[0m\u001B[1;33m\u001B[0m\u001B[1;33m\u001B[0m\u001B[0m\n\u001B[0m\u001B[0;32m     10\u001B[0m     \u001B[0mresults\u001B[0m\u001B[1;33m[\u001B[0m\u001B[1;34m\"query_suggestions\"\u001B[0m\u001B[1;33m]\u001B[0m \u001B[1;33m=\u001B[0m \u001B[1;33m[\u001B[0m\u001B[1;33m]\u001B[0m\u001B[1;33m\u001B[0m\u001B[1;33m\u001B[0m\u001B[0m\n\u001B[0;32m     11\u001B[0m     \u001B[1;32mfor\u001B[0m \u001B[0mquery_suggestion\u001B[0m \u001B[1;32min\u001B[0m \u001B[0mranked_candidate_queries\u001B[0m\u001B[1;33m[\u001B[0m\u001B[1;33m:\u001B[0m\u001B[1;36m5\u001B[0m\u001B[1;33m]\u001B[0m\u001B[1;33m:\u001B[0m\u001B[1;33m\u001B[0m\u001B[1;33m\u001B[0m\u001B[0m\n",
      "\u001B[1;32m~\\AppData\\Local\\Temp/ipykernel_22404/2113190807.py\u001B[0m in \u001B[0;36mfind_rank_candidate_queries\u001B[1;34m(query)\u001B[0m\n\u001B[0;32m      1\u001B[0m \u001B[1;32mdef\u001B[0m \u001B[0mfind_rank_candidate_queries\u001B[0m\u001B[1;33m(\u001B[0m\u001B[0mquery\u001B[0m\u001B[1;33m)\u001B[0m\u001B[1;33m:\u001B[0m\u001B[1;33m\u001B[0m\u001B[1;33m\u001B[0m\u001B[0m\n\u001B[1;32m----> 2\u001B[1;33m     \u001B[0mcandidate_list\u001B[0m \u001B[1;33m=\u001B[0m \u001B[0midentify_candidate_queries\u001B[0m\u001B[1;33m(\u001B[0m\u001B[0mquery\u001B[0m\u001B[1;33m)\u001B[0m\u001B[1;33m\u001B[0m\u001B[1;33m\u001B[0m\u001B[0m\n\u001B[0m\u001B[0;32m      3\u001B[0m     \u001B[1;32mreturn\u001B[0m \u001B[0mrank_candidate_queries\u001B[0m\u001B[1;33m(\u001B[0m\u001B[0mquery\u001B[0m\u001B[1;33m,\u001B[0m \u001B[0mcandidate_list\u001B[0m\u001B[1;33m)\u001B[0m\u001B[1;33m\u001B[0m\u001B[1;33m\u001B[0m\u001B[0m\n",
      "\u001B[1;32m~\\AppData\\Local\\Temp/ipykernel_22404/3277356836.py\u001B[0m in \u001B[0;36midentify_candidate_queries\u001B[1;34m(query)\u001B[0m\n\u001B[0;32m     11\u001B[0m         \u001B[1;32mif\u001B[0m \u001B[0mlen\u001B[0m\u001B[1;33m(\u001B[0m\u001B[0maol_query\u001B[0m\u001B[1;33m[\u001B[0m\u001B[1;34m'Processed Query'\u001B[0m\u001B[1;33m]\u001B[0m\u001B[1;33m.\u001B[0m\u001B[0mto_string\u001B[0m\u001B[1;33m(\u001B[0m\u001B[0mindex\u001B[0m\u001B[1;33m=\u001B[0m\u001B[1;32mFalse\u001B[0m\u001B[1;33m)\u001B[0m\u001B[1;33m)\u001B[0m \u001B[1;33m>\u001B[0m \u001B[0mlen\u001B[0m\u001B[1;33m(\u001B[0m\u001B[0mquery\u001B[0m\u001B[1;33m.\u001B[0m\u001B[0msplit\u001B[0m\u001B[1;33m(\u001B[0m\u001B[1;33m)\u001B[0m\u001B[1;33m)\u001B[0m\u001B[1;33m:\u001B[0m\u001B[1;33m\u001B[0m\u001B[1;33m\u001B[0m\u001B[0m\n\u001B[0;32m     12\u001B[0m             \u001B[1;32mif\u001B[0m \u001B[0maol_query\u001B[0m\u001B[1;33m[\u001B[0m\u001B[1;34m'Processed Query'\u001B[0m\u001B[1;33m]\u001B[0m\u001B[1;33m.\u001B[0m\u001B[0mto_string\u001B[0m\u001B[1;33m(\u001B[0m\u001B[0mindex\u001B[0m\u001B[1;33m=\u001B[0m\u001B[1;32mFalse\u001B[0m\u001B[1;33m)\u001B[0m\u001B[1;33m.\u001B[0m\u001B[0mstartswith\u001B[0m\u001B[1;33m(\u001B[0m\u001B[0mquery\u001B[0m\u001B[1;33m)\u001B[0m\u001B[1;33m:\u001B[0m\u001B[1;33m\u001B[0m\u001B[1;33m\u001B[0m\u001B[0m\n\u001B[1;32m---> 13\u001B[1;33m                 \u001B[0mcandidate_queries\u001B[0m\u001B[1;33m.\u001B[0m\u001B[0madd\u001B[0m\u001B[1;33m(\u001B[0m\u001B[0maol_query\u001B[0m\u001B[1;33m)\u001B[0m\u001B[1;33m\u001B[0m\u001B[1;33m\u001B[0m\u001B[0m\n\u001B[0m\u001B[0;32m     14\u001B[0m     \u001B[0mprint\u001B[0m\u001B[1;33m(\u001B[0m\u001B[1;34m\"Done!\"\u001B[0m\u001B[1;33m)\u001B[0m\u001B[1;33m\u001B[0m\u001B[1;33m\u001B[0m\u001B[0m\n\u001B[0;32m     15\u001B[0m     \u001B[1;32mreturn\u001B[0m \u001B[0mcandidate_queries\u001B[0m\u001B[1;33m\u001B[0m\u001B[1;33m\u001B[0m\u001B[0m\n",
      "\u001B[1;31mTypeError\u001B[0m: unhashable type: 'DataFrame'"
     ]
    }
   ],
   "source": [
    "def search(query):\n",
    "    # print(\"Generating results...\")\n",
    "    # ranked_candidate_resources = find_and_rank_candidate_resources(query)[0:10]\n",
    "    results = {}\n",
    "    # for resource in ranked_candidate_resources:\n",
    "    #     print(\"resource\", resource, file=sys.stderr)\n",
    "    #     title, sentences = get_snippet(query, resource[0])\n",
    "    #     results[resource[0]] = [title, sentences]\n",
    "    ranked_candidate_queries = find_rank_candidate_queries(query)\n",
    "    results[\"query_suggestions\"] = []\n",
    "    for query_suggestion in ranked_candidate_queries[:5]:\n",
    "        results[\"query_suggestions\"].append(query_suggestion)\n",
    "\n",
    "    return results\n",
    "\n",
    "search_results = search(\"woman\")\n",
    "print(\"results:\")\n",
    "print(search_results)"
   ]
  },
  {
   "cell_type": "code",
   "execution_count": 1,
   "metadata": {
    "pycharm": {
     "name": "#%%\n"
    }
   },
   "outputs": [
    {
     "ename": "NameError",
     "evalue": "name 'aol_query_log' is not defined",
     "output_type": "error",
     "traceback": [
      "\u001B[1;31m---------------------------------------------------------------------------\u001B[0m",
      "\u001B[1;31mNameError\u001B[0m                                 Traceback (most recent call last)",
      "\u001B[1;32m~\\AppData\\Local\\Temp/ipykernel_7348/1455400895.py\u001B[0m in \u001B[0;36m<module>\u001B[1;34m\u001B[0m\n\u001B[0;32m      1\u001B[0m \u001B[1;31m# aol_query_log = pickle.load(open(\"./data/aol_query_log_data.pkl\", \"rb\"))\u001B[0m\u001B[1;33m\u001B[0m\u001B[1;33m\u001B[0m\u001B[1;33m\u001B[0m\u001B[0m\n\u001B[0;32m      2\u001B[0m \u001B[1;33m\u001B[0m\u001B[0m\n\u001B[1;32m----> 3\u001B[1;33m \u001B[0maol_query_log\u001B[0m\u001B[1;33m.\u001B[0m\u001B[0miloc\u001B[0m\u001B[1;33m[\u001B[0m\u001B[1;36m1065383\u001B[0m\u001B[1;33m]\u001B[0m\u001B[1;33m\u001B[0m\u001B[1;33m\u001B[0m\u001B[0m\n\u001B[0m",
      "\u001B[1;31mNameError\u001B[0m: name 'aol_query_log' is not defined"
     ]
    }
   ],
   "source": [
    "# aol_query_log = pickle.load(open(\"./data/aol_query_log_data.pkl\", \"rb\"))\n",
    "\n",
    "aol_query_log.iloc[1065383]"
   ]
  }
 ],
 "metadata": {
  "interpreter": {
   "hash": "fa55fa09e0e4422978c3061674d30740611d5f2a5ecbc5414dc2c8743e27cab3"
  },
  "kernelspec": {
   "display_name": "Python 3 (ipykernel)",
   "language": "python",
   "name": "python3"
  },
  "language_info": {
   "codemirror_mode": {
    "name": "ipython",
    "version": 3
   },
   "file_extension": ".py",
   "mimetype": "text/x-python",
   "name": "python",
   "nbconvert_exporter": "python",
   "pygments_lexer": "ipython3",
   "version": "3.7.11"
  }
 },
 "nbformat": 4,
 "nbformat_minor": 1
}